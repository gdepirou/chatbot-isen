{
 "cells": [
  {
   "cell_type": "markdown",
   "id": "c9ebaa24-c4d9-4e29-b175-c0a44795347b",
   "metadata": {
    "tags": []
   },
   "source": [
    "# Importation librairies"
   ]
  },
  {
   "cell_type": "code",
   "execution_count": 225,
   "id": "cd48dd88-ff26-4c9e-baa9-1da9f8f7e4aa",
   "metadata": {},
   "outputs": [],
   "source": [
    "# things we need for NLP\n",
    "import nltk\n",
    "#from nltk.stem.lancaster import LancasterStemmer\n",
    "#stemmer = LancasterStemmer()\n",
    "from nltk.stem.snowball import FrenchStemmer\n",
    "stemmer = FrenchStemmer()"
   ]
  },
  {
   "cell_type": "code",
   "execution_count": 226,
   "id": "81a14c1e-2858-4d39-99c1-ff1e2b2178e2",
   "metadata": {},
   "outputs": [],
   "source": [
    "# things we need for Tensorflow\n",
    "import numpy as np\n",
    "import keras\n",
    "import tensorflow as tf\n",
    "from sklearn.linear_model import LogisticRegression\n",
    "import random\n",
    "from sklearn.feature_extraction.text import TfidfVectorizer, CountVectorizer\n",
    "\n",
    "import pandas as pd\n",
    "from nltk import word_tokenize"
   ]
  },
  {
   "cell_type": "markdown",
   "id": "78cb0e69-7fc8-461c-87ce-beaf66422812",
   "metadata": {
    "tags": []
   },
   "source": [
    "# Nettoyage texte (stopwords, stemming) et vectorisation"
   ]
  },
  {
   "cell_type": "markdown",
   "id": "f48e94c0-39f8-494a-a146-47f82760babf",
   "metadata": {
    "tags": []
   },
   "source": [
    "## Code stemming, stop words et vectorisation"
   ]
  },
  {
   "cell_type": "code",
   "execution_count": null,
   "id": "7a63db05-d0a9-4b0d-b164-6a5565450ab7",
   "metadata": {},
   "outputs": [],
   "source": []
  },
  {
   "cell_type": "code",
   "execution_count": 227,
   "id": "1d2c760c-4e7e-4409-a112-0380ec4de2c0",
   "metadata": {},
   "outputs": [],
   "source": [
    "# import our chat-bot intents file\n",
    "import json\n",
    "\n",
    "def import_corpus(jsonfile): #permet d'importer le corpus\n",
    "    try:\n",
    "        with open(jsonfile, encoding='utf-8') as json_data:\n",
    "            intents = json.load(json_data)\n",
    "        return intents\n",
    "\n",
    "    except OSError as err:\n",
    "        print(\"OS error: {0}\".format(err))\n",
    "    except ValueError:\n",
    "        print(\"Your .json is wrong, look at https://jsonlint.com/\")\n",
    "    except BaseException as err:\n",
    "        print(f\"Unexpected {err=}, {type(err)=}\")\n",
    "        raise\n",
    "        \n",
    "corpus = import_corpus('intents.json')\n",
    "#corpus"
   ]
  },
  {
   "cell_type": "code",
   "execution_count": null,
   "id": "193650db-cae4-4cab-b2b9-7ce933bef328",
   "metadata": {},
   "outputs": [],
   "source": []
  },
  {
   "cell_type": "code",
   "execution_count": 253,
   "id": "b601fa51-61f1-48b0-be5f-bcafc081aad3",
   "metadata": {},
   "outputs": [
    {
     "data": {
      "text/plain": [
       "[\"j'aim\", 'chocolat', 'content', 'tout']"
      ]
     },
     "execution_count": 253,
     "metadata": {},
     "output_type": "execute_result"
    }
   ],
   "source": [
    "from nltk.corpus import stopwords\n",
    "\n",
    "from nltk.stem.snowball import FrenchStemmer\n",
    "stemmer = FrenchStemmer()\n",
    "\n",
    "\n",
    "def clean_text(phrase): #fait du french stemming et du stop words sur une phrase\n",
    "    try:\n",
    "        stop_words=stopwords.words(\"French\")\n",
    "        stop_words.append(\"'\")\n",
    "        stop_words.append(\".\")\n",
    "        stop_words.append(\"?\")\n",
    "        stop_words.append(\",\")\n",
    "        stop_words.append('\"')\n",
    "        \n",
    "        \n",
    "        filtered_sentence=[]\n",
    "\n",
    "        #enlever les stop words\n",
    "        for mot in nltk.word_tokenize((phrase.lower())):\n",
    "                    \n",
    "                    #print(mot)\n",
    "                    if mot not in stop_words:\n",
    "                        filtered_sentence.append(mot)\n",
    "        #print(filtered_sentence)\n",
    "\n",
    "        #stemming en français\n",
    "        stemmed = [stemmer.stem(i) for i in filtered_sentence]\n",
    "\n",
    "        return stemmed\n",
    "    \n",
    "    except:\n",
    "        print(\"stemming et stop_words n'ont pas fonctionnés\")\n",
    "    \n",
    "clean_text(\"J'aime le ' chocolat et je suis content de tout. ?\")"
   ]
  },
  {
   "cell_type": "code",
   "execution_count": 254,
   "id": "94ec7e2d-4aee-4aa0-86cc-ede746178d94",
   "metadata": {},
   "outputs": [],
   "source": [
    "from nltk.corpus import stopwords\n",
    "\n",
    "def extraction_data_X_y(jsonfile): #permet d'obtenir les patterns (X_text) et les tags (y_text)\n",
    "    corpus = import_corpus(jsonfile)\n",
    "    \n",
    "    X_texte = []\n",
    "    y_texte = []\n",
    "\n",
    "    try :\n",
    "        for doc in corpus['intents']: #'intents\n",
    "            #print(doc['tag']) #obtenir chaque tag\n",
    "            for p in doc['patterns']: #'patterns'\n",
    "                #print(p) #obtenir chaque phrase/patterns par tags \n",
    "                \n",
    "                filtered_phrase = clean_text(p)\n",
    "                \n",
    "                X_texte.append(\" \".join(filtered_phrase))\n",
    "\n",
    "                y_texte.append(doc['tag']) \n",
    "                #y_texte.append(doc['tag']) #on rajoute un 2e même tag car on double le dataset\n",
    "        return X_texte,y_texte\n",
    "    except:\n",
    "        print(\"l'extraction des patterns et tags n'a pas fonctionnée, allez voir la fonction extraction data_X_y\")\n",
    "X_text = []\n",
    "y_text = []\n",
    "X_text,y_text = extraction_data_X_y('intents.json')"
   ]
  },
  {
   "cell_type": "code",
   "execution_count": 255,
   "id": "da6fb8e9-8e3e-42f8-8cec-75b36c4486fd",
   "metadata": {},
   "outputs": [],
   "source": [
    "#y_text"
   ]
  },
  {
   "cell_type": "code",
   "execution_count": 256,
   "id": "c22f0748-456a-4cd0-b49b-111d87faedb9",
   "metadata": {},
   "outputs": [],
   "source": [
    "def vectorizer(text_to_vect):\n",
    "    cv = CountVectorizer()\n",
    "    \n",
    "    vect = cv.fit_transform(text_to_vect)\n",
    "    vect = vect.toarray()\n",
    "    \n",
    "    #for i in range (len(vect)):\n",
    "        #print(vect[i])\n",
    "        #print(text_to_vect[i])\n",
    "    \n",
    "    return vect \n",
    "\n",
    "#vectorizer(X_text)"
   ]
  },
  {
   "cell_type": "markdown",
   "id": "ca55886d-d296-4d2d-8abd-39e93e22b442",
   "metadata": {},
   "source": [
    "\n"
   ]
  },
  {
   "cell_type": "markdown",
   "id": "8ed3db1f-ec73-4144-9b91-71b6c225ba0e",
   "metadata": {
    "tags": []
   },
   "source": [
    "## Debuggage\n",
    "**Voici le format des données après stemming, stop words et vectorisation**"
   ]
  },
  {
   "cell_type": "code",
   "execution_count": 282,
   "id": "79b1671d-92c1-4579-8f63-963f837b9407",
   "metadata": {},
   "outputs": [
    {
     "data": {
      "text/html": [
       "<div>\n",
       "<style scoped>\n",
       "    .dataframe tbody tr th:only-of-type {\n",
       "        vertical-align: middle;\n",
       "    }\n",
       "\n",
       "    .dataframe tbody tr th {\n",
       "        vertical-align: top;\n",
       "    }\n",
       "\n",
       "    .dataframe thead th {\n",
       "        text-align: right;\n",
       "    }\n",
       "</style>\n",
       "<table border=\"1\" class=\"dataframe\">\n",
       "  <thead>\n",
       "    <tr style=\"text-align: right;\">\n",
       "      <th></th>\n",
       "      <th>Pattern</th>\n",
       "      <th>Pattern_fit_transform</th>\n",
       "      <th>tag</th>\n",
       "      <th>tag_fit_transform</th>\n",
       "    </tr>\n",
       "  </thead>\n",
       "  <tbody>\n",
       "    <tr>\n",
       "      <th>0</th>\n",
       "      <td>salut</td>\n",
       "      <td>(0, 184)\\t1</td>\n",
       "      <td>bienvenue</td>\n",
       "      <td>(0, 0)\\t1</td>\n",
       "    </tr>\n",
       "    <tr>\n",
       "      <th>1</th>\n",
       "      <td>salut tous</td>\n",
       "      <td>(0, 184)\\t1\\n  (0, 205)\\t1</td>\n",
       "      <td>bienvenue</td>\n",
       "      <td>(0, 0)\\t1</td>\n",
       "    </tr>\n",
       "    <tr>\n",
       "      <th>2</th>\n",
       "      <td>tous</td>\n",
       "      <td>(0, 205)\\t1</td>\n",
       "      <td>bienvenue</td>\n",
       "      <td>(0, 0)\\t1</td>\n",
       "    </tr>\n",
       "    <tr>\n",
       "      <th>3</th>\n",
       "      <td>bonjour</td>\n",
       "      <td>(0, 27)\\t1</td>\n",
       "      <td>bienvenue</td>\n",
       "      <td>(0, 0)\\t1</td>\n",
       "    </tr>\n",
       "    <tr>\n",
       "      <th>4</th>\n",
       "      <td>coucou</td>\n",
       "      <td>(0, 56)\\t1</td>\n",
       "      <td>bienvenue</td>\n",
       "      <td>(0, 0)\\t1</td>\n",
       "    </tr>\n",
       "    <tr>\n",
       "      <th>5</th>\n",
       "      <td>comment ca-v</td>\n",
       "      <td>(0, 50)\\t1\\n  (0, 32)\\t1</td>\n",
       "      <td>bienvenue</td>\n",
       "      <td>(0, 0)\\t1</td>\n",
       "    </tr>\n",
       "    <tr>\n",
       "      <th>6</th>\n",
       "      <td>recherch l'aid</td>\n",
       "      <td>(0, 172)\\t1\\n  (0, 7)\\t1</td>\n",
       "      <td>bienvenue</td>\n",
       "      <td>(0, 0)\\t1</td>\n",
       "    </tr>\n",
       "    <tr>\n",
       "      <th>7</th>\n",
       "      <td>oyez oyez</td>\n",
       "      <td>(0, 140)\\t2</td>\n",
       "      <td>bienvenue</td>\n",
       "      <td>(0, 0)\\t1</td>\n",
       "    </tr>\n",
       "    <tr>\n",
       "      <th>8</th>\n",
       "      <td>hey</td>\n",
       "      <td>(0, 99)\\t1</td>\n",
       "      <td>bienvenue</td>\n",
       "      <td>(0, 0)\\t1</td>\n",
       "    </tr>\n",
       "    <tr>\n",
       "      <th>9</th>\n",
       "      <td>pourquoi ’ isen</td>\n",
       "      <td>(0, 156)\\t1\\n  (0, 108)\\t1</td>\n",
       "      <td>raison_isen</td>\n",
       "      <td>(0, 13)\\t1</td>\n",
       "    </tr>\n",
       "  </tbody>\n",
       "</table>\n",
       "</div>"
      ],
      "text/plain": [
       "           Pattern         Pattern_fit_transform          tag  \\\n",
       "0            salut                   (0, 184)\\t1    bienvenue   \n",
       "1       salut tous    (0, 184)\\t1\\n  (0, 205)\\t1    bienvenue   \n",
       "2             tous                   (0, 205)\\t1    bienvenue   \n",
       "3          bonjour                    (0, 27)\\t1    bienvenue   \n",
       "4           coucou                    (0, 56)\\t1    bienvenue   \n",
       "5     comment ca-v      (0, 50)\\t1\\n  (0, 32)\\t1    bienvenue   \n",
       "6   recherch l'aid      (0, 172)\\t1\\n  (0, 7)\\t1    bienvenue   \n",
       "7        oyez oyez                   (0, 140)\\t2    bienvenue   \n",
       "8              hey                    (0, 99)\\t1    bienvenue   \n",
       "9  pourquoi ’ isen    (0, 156)\\t1\\n  (0, 108)\\t1  raison_isen   \n",
       "\n",
       "  tag_fit_transform  \n",
       "0         (0, 0)\\t1  \n",
       "1         (0, 0)\\t1  \n",
       "2         (0, 0)\\t1  \n",
       "3         (0, 0)\\t1  \n",
       "4         (0, 0)\\t1  \n",
       "5         (0, 0)\\t1  \n",
       "6         (0, 0)\\t1  \n",
       "7         (0, 0)\\t1  \n",
       "8         (0, 0)\\t1  \n",
       "9        (0, 13)\\t1  "
      ]
     },
     "execution_count": 282,
     "metadata": {},
     "output_type": "execute_result"
    }
   ],
   "source": [
    "cv = CountVectorizer()\n",
    "#vect = cv.fit_transform\n",
    "\n",
    "data = {'Pattern':X_text,\"Pattern_fit_transform\":cv.fit_transform(X_text), 'tag':y_text, \"tag_fit_transform\": cv.fit_transform(y_text)}  \n",
    "\n",
    "df = pd.DataFrame(data)\n",
    "df[:][0:10]\n",
    "#on observe avant vectorisation que chaque mot est transformé (exemple : salut correspond à (0,184), tous correspond à (0,205))"
   ]
  },
  {
   "cell_type": "code",
   "execution_count": 258,
   "id": "0e89413e-c52c-4282-b476-2d1575ec708f",
   "metadata": {},
   "outputs": [
    {
     "data": {
      "text/html": [
       "<div>\n",
       "<style scoped>\n",
       "    .dataframe tbody tr th:only-of-type {\n",
       "        vertical-align: middle;\n",
       "    }\n",
       "\n",
       "    .dataframe tbody tr th {\n",
       "        vertical-align: top;\n",
       "    }\n",
       "\n",
       "    .dataframe thead th {\n",
       "        text-align: right;\n",
       "    }\n",
       "</style>\n",
       "<table border=\"1\" class=\"dataframe\">\n",
       "  <thead>\n",
       "    <tr style=\"text-align: right;\">\n",
       "      <th></th>\n",
       "      <th>0</th>\n",
       "      <th>1</th>\n",
       "      <th>2</th>\n",
       "      <th>3</th>\n",
       "      <th>4</th>\n",
       "      <th>5</th>\n",
       "      <th>6</th>\n",
       "      <th>7</th>\n",
       "      <th>8</th>\n",
       "      <th>9</th>\n",
       "      <th>...</th>\n",
       "      <th>217</th>\n",
       "      <th>218</th>\n",
       "      <th>219</th>\n",
       "      <th>220</th>\n",
       "      <th>221</th>\n",
       "      <th>222</th>\n",
       "      <th>223</th>\n",
       "      <th>224</th>\n",
       "      <th>225</th>\n",
       "      <th>226</th>\n",
       "    </tr>\n",
       "  </thead>\n",
       "  <tbody>\n",
       "    <tr>\n",
       "      <th>0</th>\n",
       "      <td>0</td>\n",
       "      <td>0</td>\n",
       "      <td>0</td>\n",
       "      <td>0</td>\n",
       "      <td>0</td>\n",
       "      <td>0</td>\n",
       "      <td>0</td>\n",
       "      <td>0</td>\n",
       "      <td>0</td>\n",
       "      <td>0</td>\n",
       "      <td>...</td>\n",
       "      <td>0</td>\n",
       "      <td>0</td>\n",
       "      <td>0</td>\n",
       "      <td>0</td>\n",
       "      <td>0</td>\n",
       "      <td>0</td>\n",
       "      <td>0</td>\n",
       "      <td>0</td>\n",
       "      <td>0</td>\n",
       "      <td>0</td>\n",
       "    </tr>\n",
       "    <tr>\n",
       "      <th>1</th>\n",
       "      <td>0</td>\n",
       "      <td>0</td>\n",
       "      <td>0</td>\n",
       "      <td>0</td>\n",
       "      <td>0</td>\n",
       "      <td>0</td>\n",
       "      <td>0</td>\n",
       "      <td>0</td>\n",
       "      <td>0</td>\n",
       "      <td>0</td>\n",
       "      <td>...</td>\n",
       "      <td>0</td>\n",
       "      <td>0</td>\n",
       "      <td>0</td>\n",
       "      <td>0</td>\n",
       "      <td>0</td>\n",
       "      <td>0</td>\n",
       "      <td>0</td>\n",
       "      <td>0</td>\n",
       "      <td>0</td>\n",
       "      <td>0</td>\n",
       "    </tr>\n",
       "    <tr>\n",
       "      <th>2</th>\n",
       "      <td>0</td>\n",
       "      <td>0</td>\n",
       "      <td>0</td>\n",
       "      <td>0</td>\n",
       "      <td>0</td>\n",
       "      <td>0</td>\n",
       "      <td>0</td>\n",
       "      <td>0</td>\n",
       "      <td>0</td>\n",
       "      <td>0</td>\n",
       "      <td>...</td>\n",
       "      <td>0</td>\n",
       "      <td>0</td>\n",
       "      <td>0</td>\n",
       "      <td>0</td>\n",
       "      <td>0</td>\n",
       "      <td>0</td>\n",
       "      <td>0</td>\n",
       "      <td>0</td>\n",
       "      <td>0</td>\n",
       "      <td>0</td>\n",
       "    </tr>\n",
       "    <tr>\n",
       "      <th>3</th>\n",
       "      <td>0</td>\n",
       "      <td>0</td>\n",
       "      <td>0</td>\n",
       "      <td>0</td>\n",
       "      <td>0</td>\n",
       "      <td>0</td>\n",
       "      <td>0</td>\n",
       "      <td>0</td>\n",
       "      <td>0</td>\n",
       "      <td>0</td>\n",
       "      <td>...</td>\n",
       "      <td>0</td>\n",
       "      <td>0</td>\n",
       "      <td>0</td>\n",
       "      <td>0</td>\n",
       "      <td>0</td>\n",
       "      <td>0</td>\n",
       "      <td>0</td>\n",
       "      <td>0</td>\n",
       "      <td>0</td>\n",
       "      <td>0</td>\n",
       "    </tr>\n",
       "    <tr>\n",
       "      <th>4</th>\n",
       "      <td>0</td>\n",
       "      <td>0</td>\n",
       "      <td>0</td>\n",
       "      <td>0</td>\n",
       "      <td>0</td>\n",
       "      <td>0</td>\n",
       "      <td>0</td>\n",
       "      <td>0</td>\n",
       "      <td>0</td>\n",
       "      <td>0</td>\n",
       "      <td>...</td>\n",
       "      <td>0</td>\n",
       "      <td>0</td>\n",
       "      <td>0</td>\n",
       "      <td>0</td>\n",
       "      <td>0</td>\n",
       "      <td>0</td>\n",
       "      <td>0</td>\n",
       "      <td>0</td>\n",
       "      <td>0</td>\n",
       "      <td>0</td>\n",
       "    </tr>\n",
       "    <tr>\n",
       "      <th>...</th>\n",
       "      <td>...</td>\n",
       "      <td>...</td>\n",
       "      <td>...</td>\n",
       "      <td>...</td>\n",
       "      <td>...</td>\n",
       "      <td>...</td>\n",
       "      <td>...</td>\n",
       "      <td>...</td>\n",
       "      <td>...</td>\n",
       "      <td>...</td>\n",
       "      <td>...</td>\n",
       "      <td>...</td>\n",
       "      <td>...</td>\n",
       "      <td>...</td>\n",
       "      <td>...</td>\n",
       "      <td>...</td>\n",
       "      <td>...</td>\n",
       "      <td>...</td>\n",
       "      <td>...</td>\n",
       "      <td>...</td>\n",
       "      <td>...</td>\n",
       "    </tr>\n",
       "    <tr>\n",
       "      <th>196</th>\n",
       "      <td>0</td>\n",
       "      <td>0</td>\n",
       "      <td>0</td>\n",
       "      <td>0</td>\n",
       "      <td>0</td>\n",
       "      <td>0</td>\n",
       "      <td>0</td>\n",
       "      <td>0</td>\n",
       "      <td>0</td>\n",
       "      <td>0</td>\n",
       "      <td>...</td>\n",
       "      <td>0</td>\n",
       "      <td>0</td>\n",
       "      <td>0</td>\n",
       "      <td>0</td>\n",
       "      <td>0</td>\n",
       "      <td>0</td>\n",
       "      <td>0</td>\n",
       "      <td>0</td>\n",
       "      <td>0</td>\n",
       "      <td>0</td>\n",
       "    </tr>\n",
       "    <tr>\n",
       "      <th>197</th>\n",
       "      <td>0</td>\n",
       "      <td>0</td>\n",
       "      <td>0</td>\n",
       "      <td>0</td>\n",
       "      <td>0</td>\n",
       "      <td>0</td>\n",
       "      <td>0</td>\n",
       "      <td>0</td>\n",
       "      <td>0</td>\n",
       "      <td>0</td>\n",
       "      <td>...</td>\n",
       "      <td>1</td>\n",
       "      <td>0</td>\n",
       "      <td>0</td>\n",
       "      <td>0</td>\n",
       "      <td>0</td>\n",
       "      <td>0</td>\n",
       "      <td>0</td>\n",
       "      <td>0</td>\n",
       "      <td>0</td>\n",
       "      <td>0</td>\n",
       "    </tr>\n",
       "    <tr>\n",
       "      <th>198</th>\n",
       "      <td>0</td>\n",
       "      <td>0</td>\n",
       "      <td>0</td>\n",
       "      <td>0</td>\n",
       "      <td>0</td>\n",
       "      <td>0</td>\n",
       "      <td>0</td>\n",
       "      <td>0</td>\n",
       "      <td>0</td>\n",
       "      <td>0</td>\n",
       "      <td>...</td>\n",
       "      <td>0</td>\n",
       "      <td>0</td>\n",
       "      <td>0</td>\n",
       "      <td>0</td>\n",
       "      <td>0</td>\n",
       "      <td>0</td>\n",
       "      <td>0</td>\n",
       "      <td>0</td>\n",
       "      <td>0</td>\n",
       "      <td>0</td>\n",
       "    </tr>\n",
       "    <tr>\n",
       "      <th>199</th>\n",
       "      <td>0</td>\n",
       "      <td>0</td>\n",
       "      <td>0</td>\n",
       "      <td>0</td>\n",
       "      <td>0</td>\n",
       "      <td>0</td>\n",
       "      <td>0</td>\n",
       "      <td>0</td>\n",
       "      <td>0</td>\n",
       "      <td>0</td>\n",
       "      <td>...</td>\n",
       "      <td>0</td>\n",
       "      <td>0</td>\n",
       "      <td>0</td>\n",
       "      <td>0</td>\n",
       "      <td>0</td>\n",
       "      <td>0</td>\n",
       "      <td>0</td>\n",
       "      <td>1</td>\n",
       "      <td>0</td>\n",
       "      <td>0</td>\n",
       "    </tr>\n",
       "    <tr>\n",
       "      <th>200</th>\n",
       "      <td>0</td>\n",
       "      <td>0</td>\n",
       "      <td>0</td>\n",
       "      <td>0</td>\n",
       "      <td>0</td>\n",
       "      <td>0</td>\n",
       "      <td>0</td>\n",
       "      <td>0</td>\n",
       "      <td>0</td>\n",
       "      <td>0</td>\n",
       "      <td>...</td>\n",
       "      <td>0</td>\n",
       "      <td>0</td>\n",
       "      <td>0</td>\n",
       "      <td>0</td>\n",
       "      <td>0</td>\n",
       "      <td>0</td>\n",
       "      <td>0</td>\n",
       "      <td>1</td>\n",
       "      <td>0</td>\n",
       "      <td>0</td>\n",
       "    </tr>\n",
       "  </tbody>\n",
       "</table>\n",
       "<p>201 rows × 227 columns</p>\n",
       "</div>"
      ],
      "text/plain": [
       "     0    1    2    3    4    5    6    7    8    9    ...  217  218  219  \\\n",
       "0      0    0    0    0    0    0    0    0    0    0  ...    0    0    0   \n",
       "1      0    0    0    0    0    0    0    0    0    0  ...    0    0    0   \n",
       "2      0    0    0    0    0    0    0    0    0    0  ...    0    0    0   \n",
       "3      0    0    0    0    0    0    0    0    0    0  ...    0    0    0   \n",
       "4      0    0    0    0    0    0    0    0    0    0  ...    0    0    0   \n",
       "..   ...  ...  ...  ...  ...  ...  ...  ...  ...  ...  ...  ...  ...  ...   \n",
       "196    0    0    0    0    0    0    0    0    0    0  ...    0    0    0   \n",
       "197    0    0    0    0    0    0    0    0    0    0  ...    1    0    0   \n",
       "198    0    0    0    0    0    0    0    0    0    0  ...    0    0    0   \n",
       "199    0    0    0    0    0    0    0    0    0    0  ...    0    0    0   \n",
       "200    0    0    0    0    0    0    0    0    0    0  ...    0    0    0   \n",
       "\n",
       "     220  221  222  223  224  225  226  \n",
       "0      0    0    0    0    0    0    0  \n",
       "1      0    0    0    0    0    0    0  \n",
       "2      0    0    0    0    0    0    0  \n",
       "3      0    0    0    0    0    0    0  \n",
       "4      0    0    0    0    0    0    0  \n",
       "..   ...  ...  ...  ...  ...  ...  ...  \n",
       "196    0    0    0    0    0    0    0  \n",
       "197    0    0    0    0    0    0    0  \n",
       "198    0    0    0    0    0    0    0  \n",
       "199    0    0    0    0    1    0    0  \n",
       "200    0    0    0    0    1    0    0  \n",
       "\n",
       "[201 rows x 227 columns]"
      ]
     },
     "execution_count": 258,
     "metadata": {},
     "output_type": "execute_result"
    }
   ],
   "source": [
    "cv = CountVectorizer()\n",
    "    \n",
    "vect = cv.fit_transform(X_text)\n",
    "vect = vect.toarray()\n",
    "pd.DataFrame(vect)\n",
    "#on observe qu'il y a 227 mots possibles (index 0 à 226) sur 201 patterns (index 0 à 200)"
   ]
  },
  {
   "cell_type": "markdown",
   "id": "2ccad6d3-4a79-4901-b50b-b089cc23c2e5",
   "metadata": {},
   "source": [
    "---\n",
    "\n",
    "---"
   ]
  },
  {
   "cell_type": "code",
   "execution_count": null,
   "id": "74dd888c-0756-4131-910a-5517afdf0acf",
   "metadata": {},
   "outputs": [],
   "source": []
  },
  {
   "cell_type": "markdown",
   "id": "6333d8a5-3ef9-47da-87e8-be7275fcba9d",
   "metadata": {
    "tags": []
   },
   "source": [
    "# Preprocessing"
   ]
  },
  {
   "cell_type": "markdown",
   "id": "f1ed99e1-7902-41e6-b362-adefb89deff0",
   "metadata": {
    "tags": []
   },
   "source": [
    "## Code"
   ]
  },
  {
   "cell_type": "markdown",
   "id": "99d16793-8ef1-4b75-9057-67a588c7541f",
   "metadata": {},
   "source": [
    "---"
   ]
  },
  {
   "cell_type": "markdown",
   "id": "79c2a04e-6325-49dd-ad58-f887a4f683fc",
   "metadata": {
    "tags": []
   },
   "source": [
    "## Code Enrichissement de données sur les données d'entrainements - Data Augmentation\n",
    "\n",
    "**PISTE D'AMELIORATION - ENRICHISSEMENT DE DONNEES SUR LES DONNEES D'ENTRAINEMENTS ET REGARDER VIDEO PROF ANALYSE SENTIMENTS**\n"
   ]
  },
  {
   "cell_type": "code",
   "execution_count": 259,
   "id": "11d9d412-b971-4f58-aad9-00eb5b2126dd",
   "metadata": {},
   "outputs": [],
   "source": [
    "import nlpaug"
   ]
  },
  {
   "cell_type": "code",
   "execution_count": 260,
   "id": "01636edf-a793-482c-9f7e-f96b7423d55b",
   "metadata": {},
   "outputs": [
    {
     "data": {
      "text/plain": [
       "'Ich möchte diesen Text übersetzen'"
      ]
     },
     "execution_count": 260,
     "metadata": {},
     "output_type": "execute_result"
    }
   ],
   "source": [
    "from nltk.corpus import wordnet\n",
    "from collections import OrderedDict\n",
    "from deep_translator import LingueeTranslator #A ne pas utiliser car api plante parfois par prblm de connexion\n",
    "from deep_translator import GoogleTranslator\n",
    "to_translate = 'I want to translate this text'\n",
    "translated = GoogleTranslator(source='auto', target='de').translate(to_translate)\n",
    "translated"
   ]
  },
  {
   "cell_type": "code",
   "execution_count": 261,
   "id": "699f89d4-f1af-40a2-88c2-f6a24267305a",
   "metadata": {},
   "outputs": [],
   "source": [
    "def find_synonyms(word):\n",
    "    translated_word = GoogleTranslator(source='fr', target='en').translate(word)\n",
    "    \n",
    "    synonyms = []\n",
    "    for synset in wordnet.synsets(translated_word):\n",
    "        for syn in synset.lemma_names():\n",
    "            synonyms.append(GoogleTranslator(source='en', target='fr').translate(syn))\n",
    "            #print(syn,\"sa traduction en français\",GoogleTranslator(source='en', target='fr').translate(syn))\n",
    "            \n",
    "    # using this to drop duplicates while maintaining word order (closest synonyms comes first)\n",
    "    synonyms_without_duplicates = list(OrderedDict.fromkeys(synonyms))\n",
    "    return list(OrderedDict.fromkeys(synonyms)) #synonyms #synonyms_without_duplicates"
   ]
  },
  {
   "cell_type": "code",
   "execution_count": 262,
   "id": "d20c4850-1ca4-41dd-86a7-caa73c6579f3",
   "metadata": {},
   "outputs": [
    {
     "data": {
      "text/plain": [
       "['aimer',\n",
       " 'le_comme',\n",
       " 'les goûts de',\n",
       " 'acabit',\n",
       " 'souhaiter',\n",
       " 'se soucier',\n",
       " 'similaire',\n",
       " 'même',\n",
       " 'ressemblent',\n",
       " 'comparable',\n",
       " 'correspondant']"
      ]
     },
     "execution_count": 262,
     "metadata": {},
     "output_type": "execute_result"
    }
   ],
   "source": [
    "find_synonyms(\"like\")"
   ]
  },
  {
   "cell_type": "code",
   "execution_count": 269,
   "id": "93a8c4f5-ca6a-46bc-9533-3c72fbca519f",
   "metadata": {},
   "outputs": [],
   "source": [
    "from nltk import word_tokenize\n",
    "def create_set_of_new_sentences(sentence, max_syn_per_word = 6, nbr_new_sentences = 1): #nbr_new_sentences est le nombre de \"nouvelle\" phrase crée par phrase, si =1 on va doubler le dataset par exemple\n",
    "    try:\n",
    "        new_sentences = []\n",
    "        for word in nltk.word_tokenize(sentence):\n",
    "            #print(\"\\n\")\n",
    "            if len(word)<=3 : continue #les petits mots ont souvent des erreurs en synonymes\n",
    "            for synonym in find_synonyms(word)[0:max_syn_per_word]:\n",
    "                \n",
    "                #print(synonym, word)\n",
    "                synonym = synonym.replace('_', ' ') #restore space character\n",
    "                new_sentence = sentence.replace(word,synonym)\n",
    "                new_sentences.append(new_sentence)\n",
    "        return new_sentences# [1:nbr_new_sentences+1] #le premier correspond à la phrase initiale\n",
    "    except:\n",
    "        print(\"Peut être que votre phrase n'est pas dans la bonne langue (Français) ou que vous n'avez rien mis en entrée de la fonction\")"
   ]
  },
  {
   "cell_type": "code",
   "execution_count": 270,
   "id": "68e4f3ec-9aec-43f4-9418-373b1467baa9",
   "metadata": {},
   "outputs": [],
   "source": [
    "#def data_augmentation(X_text, nbr_new_sentences = 1):\n",
    "    "
   ]
  },
  {
   "cell_type": "code",
   "execution_count": 272,
   "id": "871350bc-d1ec-4779-8db8-ca5e40a652b9",
   "metadata": {},
   "outputs": [
    {
     "name": "stdout",
     "output_type": "stream",
     "text": [
      "Quelles sont les certifications d’Yncréa ?\n",
      "Quelles ar les certifications d’Yncréa ?\n",
      "Quelles être les certifications d’Yncréa ?\n",
      "Quelles exister les certifications d’Yncréa ?\n",
      "Quelles égal les certifications d’Yncréa ?\n",
      "Quelles constituer les certifications d’Yncréa ?\n",
      "Quelles sont les certificat d’Yncréa ?\n",
      "Quelles sont les certification d’Yncréa ?\n",
      "Quelles sont les justificatif d’Yncréa ?\n",
      "Quelles sont les identifiants d’Yncréa ?\n",
      "Quelles sont les Sécurité d’Yncréa ?\n"
     ]
    }
   ],
   "source": [
    "phrase = \"Quelles sont les certifications d’Yncréa ?\"\n",
    "\n",
    "new_sentences = create_set_of_new_sentences(phrase)\n",
    "\n",
    "for new_phrase in new_sentences:\n",
    "    print(new_phrase)\n",
    "    #print(clean_text(new_phrase))"
   ]
  },
  {
   "cell_type": "code",
   "execution_count": 268,
   "id": "9e626af6-3e16-44e3-af92-11084927d243",
   "metadata": {},
   "outputs": [
    {
     "data": {
      "text/plain": [
       "['salut',\n",
       " 'salut tous',\n",
       " 'tous',\n",
       " 'bonjour',\n",
       " 'coucou',\n",
       " 'comment ca-v',\n",
       " \"recherch l'aid\",\n",
       " 'oyez oyez',\n",
       " 'hey',\n",
       " 'pourquoi ’ isen',\n",
       " '’ quoi différent autr écol ’ ingénieur',\n",
       " 'quel différent autr écol ’ ingénieur',\n",
       " 'différent autr écol ingénieur',\n",
       " \"quoi l'isen meilleur\",\n",
       " \"chois l'isen\",\n",
       " \"quel avantag offert l'isen\",\n",
       " \"qu'offr l'isen term d'enseign\",\n",
       " \"quel perform peut-on retrouv l'isen\",\n",
       " '’ quoi ’ isen',\n",
       " 'combien ’ anné déroul ’ isen',\n",
       " '’ ’ isen',\n",
       " '’ quoi cursus ’ écol',\n",
       " \"combien d'ann d'étud post bac\",\n",
       " \"peut-on integr l'écol apres bac\",\n",
       " \"comment foncion l'isen\",\n",
       " \"comment est-on form l'isen\",\n",
       " 'quel différent possibil suiv profil',\n",
       " \"quel enseign l'isen\",\n",
       " '’ quoi yncré ouest',\n",
       " 'combien a ’ ’ écol ’ ouest',\n",
       " 'quel campus ’ isen ouest',\n",
       " 'brest , caen , nant ren',\n",
       " \"où peut-on étudi l'isen\",\n",
       " \"quel centr format l'isen\",\n",
       " \"quel localis l'isen\",\n",
       " 'quel certif ’ yncré',\n",
       " '’ isen est-il sous contrat minister ’ enseign supérieur recherch',\n",
       " '’ isen est-il sous contrat mesr',\n",
       " \"gag qualit l'isen\",\n",
       " 'mesr',\n",
       " \"l'isen est-il reconnu quelconqu mani\",\n",
       " \"qu'offr l'isen term d'assurr reconnaiss niveau sort\",\n",
       " 'quel taux ’ insert jeun diplôm',\n",
       " 'taux ’ insert',\n",
       " 'où embauch jeun diplôm',\n",
       " \"lieu d'embauch\",\n",
       " 'quel lieux travail apres diplôm',\n",
       " \"trouve-t-on facil diplôm apres l'isen\",\n",
       " 'est-on oblig travaill paris apres diplom',\n",
       " \"quel taux d'embauch apres l'isen\",\n",
       " '’ quoi yncre',\n",
       " '’ yncré',\n",
       " 'yncre',\n",
       " 'juni',\n",
       " 'yncre ouest',\n",
       " 'yncre medittérann',\n",
       " 'yncre nord',\n",
       " \"l'isen fait part d'un group\",\n",
       " 'pourquoi yncre',\n",
       " \"quel différent entre l'isen l'yncr\",\n",
       " 'combien a ’ ’ étudi',\n",
       " 'combien a ’ ’ enseign permanent',\n",
       " 'combien a ’ ’ alumn',\n",
       " 'nombr étudi',\n",
       " 'nombr élev',\n",
       " \"quel chiffr d'étudi l'isen\",\n",
       " \"quel populatiion l'isen\",\n",
       " 'quel tarif cycl cgsi',\n",
       " 'prix cgsi',\n",
       " 'quel frais scolar cycl cgsi',\n",
       " 'combien coût anné 1 2 csi',\n",
       " 'combien coût anné 1 2 class préparatoir implant',\n",
       " 'tarif cgsi',\n",
       " 'tarif csi',\n",
       " \"quel mont d'un anné cycl général\",\n",
       " 'anné cycl général , ça cout combien',\n",
       " 'quel tarif cycl cir',\n",
       " 'tarif cir',\n",
       " 'prix cir',\n",
       " 'quel frais scolar cycl cir',\n",
       " 'combien coût anné 1 2 cir',\n",
       " 'combien coût anné 1 2 cycl informat réseau',\n",
       " \"quel mont d'un anné cycl informat\",\n",
       " 'anné cycl informat , ça cout combien',\n",
       " 'quel tarif cycl biost',\n",
       " 'tarif biost',\n",
       " 'prix biost',\n",
       " 'quel frais scolar cycl biost',\n",
       " 'combien coût anné 1 2 biost',\n",
       " 'combien coût anné 1 2 cycl biolog , scienc technolog',\n",
       " \"quel mont d'un anné cycl biolog\",\n",
       " 'anné cycl biolog , ça cout combien',\n",
       " 'quel tarif cycl cent',\n",
       " 'tarif cent',\n",
       " 'prix cent',\n",
       " 'quel frais scolar cycl cent',\n",
       " 'combien coût anné 1 2 cent',\n",
       " 'combien coût anné 1 2 cycl econom numer technolog',\n",
       " \"quel mont d'un anné cycl econom\",\n",
       " 'anné cycl econom , ça cout combien',\n",
       " 'quel tarif cycl',\n",
       " 'tarif',\n",
       " 'prix',\n",
       " 'quel frais scolar cycl',\n",
       " 'combien coût anné 1 2',\n",
       " 'combien coût anné 1 2 cycl environ , scienc technolog',\n",
       " \"quel mont d'un anné cycl environ\",\n",
       " 'anné cycl environ , ça cout combien',\n",
       " 'quel tarif cycl biast',\n",
       " 'tarif biast',\n",
       " 'prix biast',\n",
       " 'quel frais scolar cycl biast',\n",
       " 'combien coût anné 1 2 biast',\n",
       " 'combien coût anné 1 2 cycl biolog , agronom , scienc technolog',\n",
       " \"quel mont d'un anné cycl agronom\",\n",
       " 'anné cycl agronom , ça cout combien',\n",
       " 'quel tarif cycl ingénieur',\n",
       " 'prix bac+3',\n",
       " 'tarif cycl ingénieur',\n",
       " 'prix anné 3 , 4 5',\n",
       " 'prix mast',\n",
       " 'quel frais scolar anné 3 , 4 5',\n",
       " 'combien coût anné 3 5',\n",
       " \"quel mont d'un anné cycl supérieur\",\n",
       " 'anné cycl supérieur , ça cout combien',\n",
       " 'comment puis-j pai ’ écol',\n",
       " 'comment puis-j pai format',\n",
       " 'comment puis-j pai ’ isen',\n",
       " 'comment financ étud',\n",
       " 'bours ’ excellent',\n",
       " 'bours',\n",
       " 'erasmus',\n",
       " \"l'acces bours est-el possibl integr l'isen\",\n",
       " \"l'isen dispose-t-el bours d'étud\",\n",
       " 'bours est-el décroch selon perfom academ',\n",
       " 'sportif haut niveau',\n",
       " 'shn',\n",
       " 'sport haut niveau',\n",
       " 'sport',\n",
       " 'sport compétit',\n",
       " 'accompagn sportif',\n",
       " \"puis-j continu activ sportiv haut-niveau integr l'isen\",\n",
       " 'aménag horair est-il possibl si sportif haut-niveau',\n",
       " 'internat',\n",
       " 'log',\n",
       " 'résident étudi',\n",
       " 'habit',\n",
       " 'où log',\n",
       " \"comment trouv log proxim l'isen\",\n",
       " \"où habit si j'integr l'isen\",\n",
       " \"conseil où log integr l'isen\",\n",
       " 'restaur',\n",
       " 'mang',\n",
       " 'lieu mang',\n",
       " 'cafeteri',\n",
       " 'caféteri',\n",
       " 'sup u',\n",
       " \"comment restaur quand étud l'isen\",\n",
       " \"l'isen possède-t-el cafétari\",\n",
       " \"l'isen est-el loin restaur universitair\",\n",
       " 'visit ’ isen',\n",
       " 'découvr bât',\n",
       " 'port ouvert',\n",
       " 'rencontr',\n",
       " \"visit l'isen\",\n",
       " \"peut-on découvr l'isen lor port ouvert\",\n",
       " \"a-t-il possibil rencontr professeur visit l'établ\",\n",
       " 'handicap',\n",
       " '⅓temp',\n",
       " 'aménag handicap',\n",
       " 'fauteuil roul',\n",
       " 'mdph',\n",
       " 'mobil réduit',\n",
       " \"situat handicap , l'isen a-t-el capac recevoir\",\n",
       " \"l'isen est-el habl a accueil étudi besoin d'aménag spécif\",\n",
       " 'club isen',\n",
       " 'associ étudi',\n",
       " 'vi étudi',\n",
       " 'digitaldesign',\n",
       " '4ltrophy',\n",
       " 'bdd',\n",
       " 'bdi',\n",
       " 'bd',\n",
       " 'club évas',\n",
       " 'bda',\n",
       " \"quel vi étudi sein l'isen\",\n",
       " \"l'isen possède-t-el associ développ vi étudi\",\n",
       " \"qu'offr l'isen dehor enseign obligatoir\",\n",
       " 'brest',\n",
       " 'pourquoi ven brest',\n",
       " 'finister',\n",
       " 'plui',\n",
       " 'vi brest',\n",
       " 'quel avantag vivr brest',\n",
       " \"a quoi m'attendr brest\",\n",
       " 'vi brestois est-t-el compliqu cher',\n",
       " 'offre ’ emploi',\n",
       " 'travaill yncre',\n",
       " 'travaill ’ isen',\n",
       " \"peut-t-on prendr emploi étudi sein l'isen\",\n",
       " \"l'isen propose-t-el emplois rémuner étudi\"]"
      ]
     },
     "execution_count": 268,
     "metadata": {},
     "output_type": "execute_result"
    }
   ],
   "source": [
    "X_text,y_text = extraction_data_X_y('intents.json')\n",
    "X_text"
   ]
  },
  {
   "cell_type": "code",
   "execution_count": null,
   "id": "f576a4c1-05f9-42d2-bcf2-2fb8ff976840",
   "metadata": {},
   "outputs": [],
   "source": [
    "X_text_,y_text = extraction_data_X_y('intents.json')\n"
   ]
  },
  {
   "cell_type": "code",
   "execution_count": 177,
   "id": "a5881af7-2e7d-43d5-8514-ade6824d36ed",
   "metadata": {},
   "outputs": [],
   "source": [
    "stop_words=stopwords.words(\"French\")\n",
    "stop_words.append(\"'\")\n",
    "stop_words.append(\".\")\n",
    "stop_words.append(\"?\")\n"
   ]
  },
  {
   "cell_type": "code",
   "execution_count": 181,
   "id": "8c59b20e-743a-4c52-9669-35fb35b0117a",
   "metadata": {},
   "outputs": [
    {
     "name": "stdout",
     "output_type": "stream",
     "text": [
      "En combien d’vieillesse se déroule l’ISEN ?\n",
      "['combien', '’', 'vieilless', 'déroul', '’', 'isen']\n",
      "\n",
      "\n",
      "En combien d’années se déroule l’ISEN ?\n",
      "['combien', '’', 'anné', 'déroul', '’', 'isen']\n",
      "\n",
      "\n",
      "En combien d’âge se déroule l’ISEN ?\n",
      "['combien', '’', 'âge', 'déroul', '’', 'isen']\n",
      "\n",
      "\n",
      "En combien d’champ se déroule l’ISEN ?\n",
      "['combien', '’', 'champ', 'déroul', '’', 'isen']\n",
      "\n",
      "\n",
      "En combien d’geezerhood se déroule l’ISEN ?\n",
      "['combien', '’', 'geezerhood', 'déroul', '’', 'isen']\n",
      "\n",
      "\n",
      "En combien d’longue durée se déroule l’ISEN ?\n",
      "['combien', '’', 'longu', 'dur', 'déroul', '’', 'isen']\n",
      "\n",
      "\n",
      "En combien d’années se fleur l’ISEN ?\n",
      "['combien', '’', 'anné', 'fleur', '’', 'isen']\n",
      "\n",
      "\n",
      "En combien d’années se s'épanouir l’ISEN ?\n",
      "['combien', '’', 'anné', \"s'épanou\", '’', 'isen']\n",
      "\n",
      "\n",
      "En combien d’années se fleurir forth l’ISEN ?\n",
      "['combien', '’', 'anné', 'fleur', 'forth', '’', 'isen']\n",
      "\n",
      "\n",
      "En combien d’années se se dérouler l’ISEN ?\n",
      "['combien', '’', 'anné', 'déroul', '’', 'isen']\n",
      "\n",
      "\n",
      "En combien d’années se s'étirer l’ISEN ?\n",
      "['combien', '’', 'anné', \"s'étir\", '’', 'isen']\n",
      "\n",
      "\n",
      "En combien d’années se étirer out l’ISEN ?\n",
      "['combien', '’', 'anné', 'étir', 'out', '’', 'isen']\n",
      "\n",
      "\n"
     ]
    }
   ],
   "source": [
    "new_sentences = create_set_of_new_sentences(\"En combien d’années se déroule l’ISEN ?\")\n",
    "#print(new_sentences)\n",
    "\n",
    "nbr\n",
    "for sentence in new_sentences:\n",
    "    print(sentence)\n",
    "    \n",
    "    print(clean_text(sentence))\n",
    "    print(\"\\n\")"
   ]
  },
  {
   "cell_type": "code",
   "execution_count": null,
   "id": "3f5e098a-8231-4afc-bb47-b80d37ef776c",
   "metadata": {},
   "outputs": [],
   "source": [
    "En combien d’années se déroule l’ISEN ?"
   ]
  },
  {
   "cell_type": "code",
   "execution_count": 174,
   "id": "f74094d3-04b5-414f-b15e-58f43957f7db",
   "metadata": {},
   "outputs": [
    {
     "ename": "RequestError",
     "evalue": "Request exception can happen due to an api connection error. Please check your connection and try again",
     "output_type": "error",
     "traceback": [
      "\u001b[1;31m---------------------------------------------------------------------------\u001b[0m",
      "\u001b[1;31mRequestError\u001b[0m                              Traceback (most recent call last)",
      "\u001b[1;32m~\\AppData\\Local\\Temp/ipykernel_41820/1219716866.py\u001b[0m in \u001b[0;36m<module>\u001b[1;34m\u001b[0m\n\u001b[0;32m      1\u001b[0m \u001b[1;32mfrom\u001b[0m \u001b[0mdeep_translator\u001b[0m \u001b[1;32mimport\u001b[0m \u001b[0mLingueeTranslator\u001b[0m\u001b[1;33m\u001b[0m\u001b[1;33m\u001b[0m\u001b[0m\n\u001b[0;32m      2\u001b[0m \u001b[0mword\u001b[0m \u001b[1;33m=\u001b[0m \u001b[1;34m'bon'\u001b[0m\u001b[1;33m\u001b[0m\u001b[1;33m\u001b[0m\u001b[0m\n\u001b[1;32m----> 3\u001b[1;33m \u001b[0mtranslated_word\u001b[0m \u001b[1;33m=\u001b[0m \u001b[0mLingueeTranslator\u001b[0m\u001b[1;33m(\u001b[0m\u001b[0msource\u001b[0m\u001b[1;33m=\u001b[0m\u001b[1;34m'french'\u001b[0m\u001b[1;33m,\u001b[0m \u001b[0mtarget\u001b[0m\u001b[1;33m=\u001b[0m\u001b[1;34m'english'\u001b[0m\u001b[1;33m)\u001b[0m\u001b[1;33m.\u001b[0m\u001b[0mtranslate\u001b[0m\u001b[1;33m(\u001b[0m\u001b[0mword\u001b[0m\u001b[1;33m)\u001b[0m\u001b[1;31m#, return_all=True)\u001b[0m\u001b[1;33m\u001b[0m\u001b[1;33m\u001b[0m\u001b[0m\n\u001b[0m\u001b[0;32m      4\u001b[0m \u001b[0mtranslated_word\u001b[0m\u001b[1;33m\u001b[0m\u001b[1;33m\u001b[0m\u001b[0m\n",
      "\u001b[1;32m~\\Anaconda3\\lib\\site-packages\\deep_translator\\linguee.py\u001b[0m in \u001b[0;36mtranslate\u001b[1;34m(self, word, return_all, **kwargs)\u001b[0m\n\u001b[0;32m     96\u001b[0m \u001b[1;33m\u001b[0m\u001b[0m\n\u001b[0;32m     97\u001b[0m             \u001b[1;32mif\u001b[0m \u001b[0mresponse\u001b[0m\u001b[1;33m.\u001b[0m\u001b[0mstatus_code\u001b[0m \u001b[1;33m!=\u001b[0m \u001b[1;36m200\u001b[0m\u001b[1;33m:\u001b[0m\u001b[1;33m\u001b[0m\u001b[1;33m\u001b[0m\u001b[0m\n\u001b[1;32m---> 98\u001b[1;33m                 \u001b[1;32mraise\u001b[0m \u001b[0mRequestError\u001b[0m\u001b[1;33m(\u001b[0m\u001b[1;33m)\u001b[0m\u001b[1;33m\u001b[0m\u001b[1;33m\u001b[0m\u001b[0m\n\u001b[0m\u001b[0;32m     99\u001b[0m             \u001b[0msoup\u001b[0m \u001b[1;33m=\u001b[0m \u001b[0mBeautifulSoup\u001b[0m\u001b[1;33m(\u001b[0m\u001b[0mresponse\u001b[0m\u001b[1;33m.\u001b[0m\u001b[0mtext\u001b[0m\u001b[1;33m,\u001b[0m \u001b[1;34m'html.parser'\u001b[0m\u001b[1;33m)\u001b[0m\u001b[1;33m\u001b[0m\u001b[1;33m\u001b[0m\u001b[0m\n\u001b[0;32m    100\u001b[0m             \u001b[0melements\u001b[0m \u001b[1;33m=\u001b[0m \u001b[0msoup\u001b[0m\u001b[1;33m.\u001b[0m\u001b[0mfind_all\u001b[0m\u001b[1;33m(\u001b[0m\u001b[0mself\u001b[0m\u001b[1;33m.\u001b[0m\u001b[0m_element_tag\u001b[0m\u001b[1;33m,\u001b[0m \u001b[0mself\u001b[0m\u001b[1;33m.\u001b[0m\u001b[0m_element_query\u001b[0m\u001b[1;33m)\u001b[0m\u001b[1;33m\u001b[0m\u001b[1;33m\u001b[0m\u001b[0m\n",
      "\u001b[1;31mRequestError\u001b[0m: Request exception can happen due to an api connection error. Please check your connection and try again"
     ]
    }
   ],
   "source": [
    "from deep_translator import LingueeTranslator\n",
    "word = 'bon'\n",
    "translated_word = LingueeTranslator(source='french', target='english').translate(word)#, return_all=True)\n",
    "translated_word"
   ]
  },
  {
   "cell_type": "code",
   "execution_count": 133,
   "id": "d5ae1e1d-9311-4922-91b9-34c1ab945dd9",
   "metadata": {},
   "outputs": [
    {
     "data": {
      "text/plain": [
       "\"j'aime vraiment beaucoup les pommes de terres\""
      ]
     },
     "execution_count": 133,
     "metadata": {},
     "output_type": "execute_result"
    }
   ],
   "source": [
    "to_translate = \"j'aime vraiment beaucoup les pommes de terres\"\n",
    "translated = GoogleTranslator(source='fr', target='en').translate(to_translate)\n",
    "translated = GoogleTranslator(source='en', target='fr').translate(to_translate)\n",
    "translated"
   ]
  },
  {
   "cell_type": "code",
   "execution_count": null,
   "id": "acbccdfe-8227-4a98-a7c4-afc66302205b",
   "metadata": {},
   "outputs": [],
   "source": []
  },
  {
   "cell_type": "code",
   "execution_count": 132,
   "id": "b75f1b60-8121-47be-93bc-c8f0d40e6c7b",
   "metadata": {},
   "outputs": [
    {
     "ename": "SyntaxError",
     "evalue": "invalid syntax (Temp/ipykernel_75616/1203705234.py, line 1)",
     "output_type": "error",
     "traceback": [
      "\u001b[1;36m  File \u001b[1;32m\"C:\\Users\\chdep\\AppData\\Local\\Temp/ipykernel_75616/1203705234.py\"\u001b[1;36m, line \u001b[1;32m1\u001b[0m\n\u001b[1;33m    https://neptune.ai/blog/data-augmentation-nlp\u001b[0m\n\u001b[1;37m          ^\u001b[0m\n\u001b[1;31mSyntaxError\u001b[0m\u001b[1;31m:\u001b[0m invalid syntax\n"
     ]
    }
   ],
   "source": [
    "https://neptune.ai/blog/data-augmentation-nlp --> à regarder : Shuffle Sentences Transform"
   ]
  },
  {
   "cell_type": "code",
   "execution_count": null,
   "id": "650e9031-5cb0-4997-b67f-4aa363887d5d",
   "metadata": {},
   "outputs": [],
   "source": []
  },
  {
   "cell_type": "markdown",
   "id": "9bb4286b-c0f4-4e0f-87fb-d083fcdc3770",
   "metadata": {},
   "source": [
    "---"
   ]
  },
  {
   "cell_type": "code",
   "execution_count": 240,
   "id": "f47ba8ab-bf4b-4ce8-a019-8b752e4f297f",
   "metadata": {},
   "outputs": [
    {
     "name": "stdout",
     "output_type": "stream",
     "text": [
      "(160, 227)\n",
      "(160, 26)\n"
     ]
    }
   ],
   "source": [
    "from sklearn.preprocessing import LabelEncoder\n",
    "from sklearn.ensemble import RandomForestClassifier\n",
    "from sklearn.model_selection import train_test_split\n",
    "\n",
    "def preprocessing(jsonfile):\n",
    "    \n",
    "    try :\n",
    "        X_text,y_text = extraction_data_X_y(jsonfile)\n",
    "    \n",
    "        X=vectorizer(X_text)\n",
    "        y=vectorizer(y_text)\n",
    "        \n",
    "\n",
    "        label_encoder_y = LabelEncoder()\n",
    "        y_num = label_encoder_y.fit_transform(y_text) #[0, 0, 0, 0, 3, 3, 3, 2, 2, 2, 2, 1, 1, 1]\n",
    "        y_text_unique = np.unique(y_text) #['bienvenue', 'campus_ouest', 'cursus_isen', 'raison_isen']\n",
    "        y_num_unique = label_encoder_y.fit_transform(y_text_unique) #[0,1,2,3]\n",
    "\n",
    "        y_num_unique=y_num_unique.reshape((y_num_unique.shape[0],1)) #reshape pour avoir le format (nombre,1)\n",
    "\n",
    "        y_mapping = {}\n",
    "        y_mapping = dict(enumerate(y_text_unique.flatten(),0)) #{0: 'bienvenue', 1: 'campus_ouest', 2: 'cursus_isen', 3: 'raison_isen'}\n",
    "\n",
    "        #séparation train dataset et test dataset\n",
    "        X_train, X_test, y_train, y_test = train_test_split(X,y,train_size=0.8)\n",
    "        \n",
    "        print(X_train.shape)\n",
    "        print(y_train.shape)\n",
    "        \n",
    "        return X,y,X_train,X_test,y_train,y_test\n",
    "    \n",
    "    except:\n",
    "        print(\"Le preprocessing a échoué, allez voir la fonction preprocessing\")\n",
    "        \n",
    "X, y, X_train, X_test, y_train, y_test = preprocessing('intents.json') #'intents_upgrade.json'\n",
    "#X_test, y_test, X_train_test, X_test_test, y_train_test, y_test_test = preprocessing('intents_upgrade.json') #'intents_upgrade.json'"
   ]
  },
  {
   "cell_type": "markdown",
   "id": "82e8058d-1ce5-4883-9bf0-802f02491900",
   "metadata": {
    "jp-MarkdownHeadingCollapsed": true,
    "tags": []
   },
   "source": [
    "## Debuggage\n",
    "**Données prêtes pour l'entrainement**"
   ]
  },
  {
   "cell_type": "code",
   "execution_count": 60,
   "id": "2eaf12b6-f4a1-4d76-9a84-52a66eed49a4",
   "metadata": {},
   "outputs": [
    {
     "name": "stdout",
     "output_type": "stream",
     "text": [
      "X contient 201 patterns contenant 227 mots\n",
      "(201, 227)\n",
      "\n",
      "X\n",
      " [[0 0 0 ... 0 0 0]\n",
      " [0 0 0 ... 0 0 0]\n",
      " [0 0 0 ... 0 0 0]\n",
      " ...\n",
      " [0 0 0 ... 0 0 0]\n",
      " [0 0 0 ... 1 0 0]\n",
      " [0 0 0 ... 1 0 0]]\n"
     ]
    }
   ],
   "source": [
    "print(f\"X contient {X.shape[0]} patterns contenant {X.shape[1]} mots\") \n",
    "print(X.shape)\n",
    "print(\"\\nX\\n\",X)"
   ]
  },
  {
   "cell_type": "code",
   "execution_count": 64,
   "id": "f4daadbf-cf43-40eb-89db-417376afa75d",
   "metadata": {},
   "outputs": [
    {
     "name": "stdout",
     "output_type": "stream",
     "text": [
      "y contient le tag de 201 patterns soit 26 mots (ce sont les tag)\n",
      "(201, 26)\n",
      "\n",
      "y\n",
      " [[1 0 0 ... 0 0 0]\n",
      " [1 0 0 ... 0 0 0]\n",
      " [1 0 0 ... 0 0 0]\n",
      " ...\n",
      " [0 0 0 ... 0 0 0]\n",
      " [0 0 0 ... 0 0 0]\n",
      " [0 0 0 ... 0 0 0]]\n"
     ]
    }
   ],
   "source": [
    "print(f\"y contient le tag de {y.shape[0]} patterns soit {y.shape[1]} mots (ce sont les tag)\") \n",
    "print(y.shape)\n",
    "print(\"\\ny\\n\",y)"
   ]
  },
  {
   "cell_type": "markdown",
   "id": "1a9e64ca-b1d0-4aa1-ab83-b54eb969c0db",
   "metadata": {},
   "source": [
    "---\n",
    "---"
   ]
  },
  {
   "cell_type": "code",
   "execution_count": null,
   "id": "238d32eb-ea1b-400d-85c3-3291507ab3b2",
   "metadata": {},
   "outputs": [],
   "source": []
  },
  {
   "cell_type": "code",
   "execution_count": null,
   "id": "4ca144f3-1dfb-4008-8386-34a4c1bd9917",
   "metadata": {},
   "outputs": [],
   "source": []
  },
  {
   "cell_type": "code",
   "execution_count": null,
   "id": "c6d96fcb-bec7-4cdd-8922-179888905191",
   "metadata": {},
   "outputs": [],
   "source": []
  },
  {
   "cell_type": "code",
   "execution_count": null,
   "id": "4c41d788-bc21-4266-9092-cfdeeef9c5c8",
   "metadata": {},
   "outputs": [],
   "source": []
  },
  {
   "cell_type": "code",
   "execution_count": null,
   "id": "ffbca43b-af27-4841-9ebd-655f710f1a0c",
   "metadata": {},
   "outputs": [],
   "source": []
  },
  {
   "cell_type": "code",
   "execution_count": null,
   "id": "800212d9-33de-4c64-86c5-6e628eae60ac",
   "metadata": {
    "jp-MarkdownHeadingCollapsed": true,
    "tags": []
   },
   "outputs": [],
   "source": []
  },
  {
   "cell_type": "code",
   "execution_count": 81,
   "id": "25e77d18-ce5b-4fe8-8b97-9cf868b46ddf",
   "metadata": {},
   "outputs": [
    {
     "data": {
      "text/plain": [
       "array([0. , 0.1, 0.2, 0.3, 0.4, 0.5, 0.6, 0.7, 0.8, 0.9])"
      ]
     },
     "execution_count": 81,
     "metadata": {},
     "output_type": "execute_result"
    }
   ],
   "source": [
    "k=np.arange(0,1,0.1)\n",
    "k"
   ]
  },
  {
   "cell_type": "markdown",
   "id": "1117649f-a497-409e-9297-de9bab0237fc",
   "metadata": {
    "tags": []
   },
   "source": [
    "# Entrainement du modele"
   ]
  },
  {
   "cell_type": "code",
   "execution_count": null,
   "id": "783f0283-29f2-4666-b95f-5a7a1275bda8",
   "metadata": {},
   "outputs": [],
   "source": []
  },
  {
   "cell_type": "code",
   "execution_count": 82,
   "id": "3e486140-f0a0-4de1-96d2-dc1dcc32498d",
   "metadata": {},
   "outputs": [],
   "source": [
    "\n",
    "def train_model(X_train,y_train):\n",
    "    \n",
    "    model = RandomForestClassifier(n_estimators=15)\n",
    "        \n",
    "    model.fit(X_train,y_train)\n",
    "    print(\"Train.score:\",model.score(X_train, y_train))\n",
    "    print(\"Test.score:\",model.score(X_test, y_test))\n",
    "    \n",
    "    return model_entraine"
   ]
  },
  {
   "cell_type": "markdown",
   "id": "f0bef561-4ca3-4c10-a249-34806fb63a99",
   "metadata": {
    "tags": []
   },
   "source": [
    "## Reglage du modele"
   ]
  },
  {
   "cell_type": "code",
   "execution_count": 70,
   "id": "7b39fd67-3e1c-4f88-906a-8c6858bbad7c",
   "metadata": {},
   "outputs": [
    {
     "name": "stdout",
     "output_type": "stream",
     "text": [
      "Voici la liste de tous les paramètres reglables du random forest : \n",
      "\n",
      "dict_keys(['bootstrap', 'ccp_alpha', 'class_weight', 'criterion', 'max_depth', 'max_features', 'max_leaf_nodes', 'max_samples', 'min_impurity_decrease', 'min_samples_leaf', 'min_samples_split', 'min_weight_fraction_leaf', 'n_estimators', 'n_jobs', 'oob_score', 'random_state', 'verbose', 'warm_start']) \n",
      "\n",
      "Pour plus d'infos, allez voir ces sites :\n",
      "https://ichi.pro/fr/guide-du-debutant-sur-le-reglage-des-hyperparametres-de-foret-aleatoire-77596161963319\n",
      "https://intellipaat.com/community/9495/how-do-i-solve-overfitting-in-random-forest-of-python-sklearn\n",
      "https://www.youtube.com/watch?v=-3UBmIXGHyc&t=651s&ab_channel=AIforyou-MorganGautherot\n"
     ]
    }
   ],
   "source": [
    "print(f\"Voici la liste de tous les paramètres reglables du random forest : \\n\\n{RandomForestClassifier().get_params().keys()} \\n\\nPour plus d'infos, allez voir ces sites :\") \n",
    "\n",
    "print(\"https://ichi.pro/fr/guide-du-debutant-sur-le-reglage-des-hyperparametres-de-foret-aleatoire-77596161963319\")\n",
    "print(\"https://intellipaat.com/community/9495/how-do-i-solve-overfitting-in-random-forest-of-python-sklearn\")\n",
    "print(\"https://www.youtube.com/watch?v=-3UBmIXGHyc&t=651s&ab_channel=AIforyou-MorganGautherot\")"
   ]
  },
  {
   "cell_type": "markdown",
   "id": "9153f089-a149-48a5-847c-5303bfd3feee",
   "metadata": {},
   "source": [
    "**Score en fonction d'un paramètre (affichage graphique)**"
   ]
  },
  {
   "cell_type": "code",
   "execution_count": 102,
   "id": "88fe9a30-67c8-410f-bfdd-faf06e668f9b",
   "metadata": {},
   "outputs": [
    {
     "data": {
      "text/plain": [
       "<matplotlib.legend.Legend at 0x2485bd0e790>"
      ]
     },
     "execution_count": 102,
     "metadata": {},
     "output_type": "execute_result"
    },
    {
     "data": {
      "image/png": "[encoded data removed]",
      "text/plain": [
       "<Figure size 432x288 with 1 Axes>"
      ]
     },
     "metadata": {
      "needs_background": "light"
     },
     "output_type": "display_data"
    }
   ],
   "source": [
    "import matplotlib.pyplot as plt\n",
    "from sklearn.model_selection import validation_curve\n",
    "\n",
    "#model = RandomForestClassifier(criterion = 'gini', max_features = 35, n_estimators = 23, max_depth=35)\n",
    "model = RandomForestClassifier(criterion = 'gini',max_features = 35, max_depth=35)\n",
    "k=np.arange(0,100)\n",
    "#k=np.arange(0,1,0.1)\n",
    "\n",
    "train_score, val_score = validation_curve(model, X_train, y_train, param_name='n_estimators', param_range=k, cv=3)\n",
    "# n_estimators=40 et faire varier max_features de 1 à 160 on observe une legère augmentation de score vers 70 pour froller 0.2 \n",
    "# n_estimators=40 et max_features=70 et faire varier max_depth de 1 à 100, on observe un score frollant 0.2 à partir de 35, on peut laisser ce paramètre par défaut\n",
    "# faire varier min_samples_leaf fait chuter le score de validation et train donc à laisser par défaut\n",
    "# min_samples_split à laisser par défaut\n",
    "# max_leaf_nodes à laisser par défaut\n",
    "# max_samples à laisser par défaut\n",
    "plt.plot(k, val_score.mean(axis=1), label='validation')\n",
    "plt.plot(k, train_score.mean(axis=1), label='train')\n",
    "\n",
    "plt.ylabel('score')\n",
    "plt.xlabel('n_estimators')\n",
    "plt.legend()"
   ]
  },
  {
   "cell_type": "markdown",
   "id": "6de39d6b-c4b4-41fc-843e-aee9608bc6e9",
   "metadata": {},
   "source": [
    "**Faire varier PLUSIEURS paramètres et on obtient le \"meilleur\" modèle**\n",
    "\n",
    "ATTENTION programme peut être très long si on lance l'évaluation de plusieurs paramètres en même temps"
   ]
  },
  {
   "cell_type": "code",
   "execution_count": 76,
   "id": "7dcbf98b-7f87-4bdb-b87b-7a5b58bf9925",
   "metadata": {},
   "outputs": [
    {
     "name": "stdout",
     "output_type": "stream",
     "text": [
      "174.91540145874023\n"
     ]
    }
   ],
   "source": [
    "from sklearn.model_selection import GridSearchCV\n",
    "import time\n",
    "#from sklearn.model_selection import RandomizedSearchCV\n",
    "\n",
    "start = time.time()\n",
    "\n",
    "param_grid= {'n_estimators':np.arange(1,30),\n",
    "            'max_leaf_nodes':np.arange(1,20)}\n",
    "\n",
    "grid = GridSearchCV(RandomForestClassifier(random_state=123, oob_score=True),param_grid, cv=3) \n",
    "#random_state=123 permet de fixer l'aléatoire, plus pratique pour nos tests\n",
    "#max_features=33 vient d'un GridSearchCV avec max_features, n_estimators et max_leaf_nodes (trop long de refaire les 3)\n",
    "#oob_score=True permet d'afficher certains résultats ensuite\n",
    "grid.fit(X_train,y_train)\n",
    "\n",
    "end = time.time()\n",
    "print(end - start)\n",
    "\n",
    "#permet de bloquer les NOMBREUX warnings avec oob_score\n",
    "import warnings\n",
    "warnings.filterwarnings('ignore')\n",
    "warnings.warn('DelftStack')\n",
    "warnings.warn('Do not show this message')"
   ]
  },
  {
   "cell_type": "code",
   "execution_count": 278,
   "id": "5e0f435a-fe83-4001-b410-6d6b40990b47",
   "metadata": {},
   "outputs": [
    {
     "data": {
      "text/plain": [
       "RandomForestClassifier(max_features=35, n_estimators=23, oob_score=True,\n",
       "                       random_state=123)"
      ]
     },
     "execution_count": 278,
     "metadata": {},
     "output_type": "execute_result"
    }
   ],
   "source": [
    "new_model= RandomForestClassifier(random_state=123, oob_score=True, criterion = 'gini', max_features = 35, n_estimators = 23) #, max_depth = 35,max_leaf_nodes=35\n",
    "new_model.fit(X_train,y_train)"
   ]
  },
  {
   "cell_type": "code",
   "execution_count": 279,
   "id": "8d6bc218-c8cb-4ec0-8690-892c002bc372",
   "metadata": {},
   "outputs": [
    {
     "name": "stdout",
     "output_type": "stream",
     "text": [
      "Matrice de confusion sur les predictions de données d'entrainement\n"
     ]
    },
    {
     "data": {
      "text/plain": [
       "<sklearn.metrics._plot.confusion_matrix.ConfusionMatrixDisplay at 0x28fede76580>"
      ]
     },
     "execution_count": 279,
     "metadata": {},
     "output_type": "execute_result"
    },
    {
     "data": {
      "image/png": "[encoded data removed]",
      "text/plain": [
       "<Figure size 432x288 with 2 Axes>"
      ]
     },
     "metadata": {
      "needs_background": "light"
     },
     "output_type": "display_data"
    }
   ],
   "source": [
    "from sklearn.metrics import ConfusionMatrixDisplay\n",
    "print(\"Matrice de confusion sur les predictions de données d'entrainement\")\n",
    "ConfusionMatrixDisplay.from_predictions(y_train.argmax(axis=1), new_model.predict(X_train).argmax(axis=1))"
   ]
  },
  {
   "cell_type": "code",
   "execution_count": 280,
   "id": "848dd5e1-9c65-4a94-a4fc-f41f1a50711c",
   "metadata": {},
   "outputs": [
    {
     "name": "stdout",
     "output_type": "stream",
     "text": [
      "Matrice de confusion sur les predictions de données d'entrainement\n"
     ]
    },
    {
     "data": {
      "text/plain": [
       "<sklearn.metrics._plot.confusion_matrix.ConfusionMatrixDisplay at 0x28fed79bf40>"
      ]
     },
     "execution_count": 280,
     "metadata": {},
     "output_type": "execute_result"
    },
    {
     "data": {
      "image/png": "[encoded data removed]",
      "text/plain": [
       "<Figure size 432x288 with 2 Axes>"
      ]
     },
     "metadata": {
      "needs_background": "light"
     },
     "output_type": "display_data"
    }
   ],
   "source": [
    "print(\"Matrice de confusion sur les predictions de données d'entrainement\")\n",
    "ConfusionMatrixDisplay.from_predictions(y_test.argmax(axis=1), new_model.predict(X_test).argmax(axis=1))"
   ]
  },
  {
   "cell_type": "markdown",
   "id": "2b747a71-1ba8-4d75-9e4c-0d2617e8853a",
   "metadata": {
    "tags": []
   },
   "source": [
    "## TEST avec données iris pour voir si classification bonne"
   ]
  },
  {
   "cell_type": "code",
   "execution_count": 111,
   "id": "8b9be161-c32e-45a4-94bf-0bcb728e461b",
   "metadata": {},
   "outputs": [],
   "source": [
    "data = pd.read_csv('iris.csv')\n",
    "train_iris, test_iris = train_test_split(data, test_size = 0.4, stratify = data['species'], random_state = 42)\n"
   ]
  },
  {
   "cell_type": "code",
   "execution_count": 121,
   "id": "9abf4e99-b492-47bc-aa7b-05f9b7cf8d7b",
   "metadata": {},
   "outputs": [],
   "source": [
    "X_train_iris = train_iris[['sepal_length','sepal_width','petal_length','petal_width']]\n",
    "y_train_iris = train_iris.species\n",
    "X_test_iris = test_iris[['sepal_length','sepal_width','petal_length','petal_width']]\n",
    "y_test_iris = test_iris.species"
   ]
  },
  {
   "cell_type": "code",
   "execution_count": 115,
   "id": "412640a9-963b-4bc2-806d-4888bce4af78",
   "metadata": {},
   "outputs": [
    {
     "name": "stdout",
     "output_type": "stream",
     "text": [
      "95.79060363769531\n"
     ]
    }
   ],
   "source": [
    "start = time.time()\n",
    "\n",
    "param_grid= {'n_estimators':np.arange(1,30),\n",
    "            'max_leaf_nodes':np.arange(1,20)}\n",
    "\n",
    "grid_iris = GridSearchCV(RandomForestClassifier(random_state=123, oob_score=True),param_grid, cv=3) \n",
    "grid_iris.fit(X_train_iris,y_train_iris)\n",
    "\n",
    "end = time.time()\n",
    "print(end - start)\n",
    "\n",
    "#permet de bloquer les NOMBREUX warnings avec oob_score\n",
    "import warnings\n",
    "warnings.filterwarnings('ignore')\n",
    "warnings.warn('DelftStack')\n",
    "warnings.warn('Do not show this message')"
   ]
  },
  {
   "cell_type": "code",
   "execution_count": 116,
   "id": "fbf705f1-357c-4fc1-ac00-9d03a05a812b",
   "metadata": {},
   "outputs": [
    {
     "data": {
      "text/plain": [
       "0.9555555555555556"
      ]
     },
     "execution_count": 116,
     "metadata": {},
     "output_type": "execute_result"
    }
   ],
   "source": [
    "grid_iris.best_score_"
   ]
  },
  {
   "cell_type": "code",
   "execution_count": 117,
   "id": "16d889fa-f947-40f0-95b9-3c625524093c",
   "metadata": {},
   "outputs": [
    {
     "data": {
      "text/plain": [
       "{'max_leaf_nodes': 3, 'n_estimators': 3}"
      ]
     },
     "execution_count": 117,
     "metadata": {},
     "output_type": "execute_result"
    }
   ],
   "source": [
    "grid_iris.best_params_"
   ]
  },
  {
   "cell_type": "code",
   "execution_count": 124,
   "id": "2db09d2a-d3ee-4cf5-8878-0b611d2b5efe",
   "metadata": {},
   "outputs": [
    {
     "data": {
      "text/plain": [
       "RandomForestClassifier(max_leaf_nodes=3, n_estimators=3, oob_score=True,\n",
       "                       random_state=123)"
      ]
     },
     "execution_count": 124,
     "metadata": {},
     "output_type": "execute_result"
    }
   ],
   "source": [
    "model_iris=RandomForestClassifier(random_state=123, oob_score=True,\n",
    "                       max_leaf_nodes=3, n_estimators=3)\n",
    "model_iris.fit(X_train_iris,y_train_iris)"
   ]
  },
  {
   "cell_type": "code",
   "execution_count": 131,
   "id": "362e9154-cc15-497a-834d-ed56d245b49f",
   "metadata": {},
   "outputs": [
    {
     "data": {
      "text/plain": [
       "0.6888888888888889"
      ]
     },
     "execution_count": 131,
     "metadata": {},
     "output_type": "execute_result"
    }
   ],
   "source": [
    "# grid_iris.oob_score_ --> ne fonctionne pas quand on l'utilise sur le resultat de gridsearchCV\n",
    "model_iris.oob_score_"
   ]
  },
  {
   "cell_type": "code",
   "execution_count": 128,
   "id": "107cc8c7-7896-4a12-9122-a3b9296b31d7",
   "metadata": {},
   "outputs": [
    {
     "name": "stdout",
     "output_type": "stream",
     "text": [
      "Matrice de confusion sur les predictions de données d'entrainement\n"
     ]
    },
    {
     "data": {
      "text/plain": [
       "<sklearn.metrics._plot.confusion_matrix.ConfusionMatrixDisplay at 0x2863d33f6d0>"
      ]
     },
     "execution_count": 128,
     "metadata": {},
     "output_type": "execute_result"
    },
    {
     "data": {
      "image/png": "[encoded data removed]",
      "text/plain": [
       "<Figure size 432x288 with 2 Axes>"
      ]
     },
     "metadata": {
      "needs_background": "light"
     },
     "output_type": "display_data"
    }
   ],
   "source": [
    "print(\"Matrice de confusion sur les predictions de données d'entrainement\")\n",
    "ConfusionMatrixDisplay.from_predictions(y_train_iris, model_iris.predict(X_train_iris))"
   ]
  },
  {
   "cell_type": "code",
   "execution_count": 129,
   "id": "92409a95-0e0f-4b5b-80f7-ca05878310bc",
   "metadata": {},
   "outputs": [
    {
     "name": "stdout",
     "output_type": "stream",
     "text": [
      "Matrice de confusion sur les predictions de données d'entrainement\n"
     ]
    },
    {
     "data": {
      "text/plain": [
       "<sklearn.metrics._plot.confusion_matrix.ConfusionMatrixDisplay at 0x2863d33fe80>"
      ]
     },
     "execution_count": 129,
     "metadata": {},
     "output_type": "execute_result"
    },
    {
     "data": {
      "image/png": "[encoded data removed]",
      "text/plain": [
       "<Figure size 432x288 with 2 Axes>"
      ]
     },
     "metadata": {
      "needs_background": "light"
     },
     "output_type": "display_data"
    }
   ],
   "source": [
    "print(\"Matrice de confusion sur les predictions de données d'entrainement\")\n",
    "ConfusionMatrixDisplay.from_predictions(y_test_iris, model_iris.predict(X_test_iris))"
   ]
  },
  {
   "cell_type": "markdown",
   "id": "2c1086d5-da2d-44b2-9bac-2d352b0ba896",
   "metadata": {
    "tags": []
   },
   "source": [
    "## Evaluation du modele\n",
    "\n",
    "grid est ici le \"meilleur\" modèle qui sort du gridsearchCV"
   ]
  },
  {
   "cell_type": "code",
   "execution_count": 77,
   "id": "b557f15b-93bf-479a-a588-9d4680d4e349",
   "metadata": {},
   "outputs": [
    {
     "data": {
      "text/plain": [
       "0.1001630561378989"
      ]
     },
     "execution_count": 77,
     "metadata": {},
     "output_type": "execute_result"
    }
   ],
   "source": [
    "grid.best_score_\n",
    "#0.17923186344238975"
   ]
  },
  {
   "cell_type": "code",
   "execution_count": 86,
   "id": "a85bbf8c-cc12-4160-91dc-45a264cb9dcc",
   "metadata": {},
   "outputs": [
    {
     "name": "stdout",
     "output_type": "stream",
     "text": [
      "les meilleurs résultats sont quand on fait varier 3 paramètres : 'max_features': 33, 'max_leaf_nodes': 19, 'n_estimators': 39\n"
     ]
    },
    {
     "data": {
      "text/plain": [
       "{'max_leaf_nodes': 14, 'n_estimators': 2}"
      ]
     },
     "execution_count": 86,
     "metadata": {},
     "output_type": "execute_result"
    }
   ],
   "source": [
    "print(f\"les meilleurs résultats sont quand on fait varier 3 paramètres : 'max_features': 33, 'max_leaf_nodes': 19, 'n_estimators': 39\")\n",
    "grid.best_params_"
   ]
  },
  {
   "cell_type": "code",
   "execution_count": 90,
   "id": "c6e83a0a-cbcb-4c51-b1a4-da4ace926fd9",
   "metadata": {},
   "outputs": [
    {
     "data": {
      "text/plain": [
       "0.14375"
      ]
     },
     "execution_count": 90,
     "metadata": {},
     "output_type": "execute_result"
    }
   ],
   "source": [
    "# new_model = grid.best_estimator_ à remettre quand on aura un meilleur gridsearchCV\n",
    "\n",
    "new_model= RandomForestClassifier(random_state=123, oob_score=True, criterion = 'gini', max_features = 35, n_estimators = 23) #ce sont les meilleurs paramètres\n",
    "new_model.fit(X_train,y_train)\n",
    "new_model.oob_score_ #permet de savoir si notre random forest a correctement généraliser (donc pas en overfitting). il faut viser 1.0"
   ]
  },
  {
   "cell_type": "code",
   "execution_count": 91,
   "id": "a20ddff9-38fa-4d06-8c4f-701756a56bf8",
   "metadata": {},
   "outputs": [
    {
     "name": "stdout",
     "output_type": "stream",
     "text": [
      "Matrice de confusion sur les predictions de données d'entrainement\n"
     ]
    },
    {
     "data": {
      "text/plain": [
       "<sklearn.metrics._plot.confusion_matrix.ConfusionMatrixDisplay at 0x2863c3b74f0>"
      ]
     },
     "execution_count": 91,
     "metadata": {},
     "output_type": "execute_result"
    },
    {
     "data": {
      "image/png": "[encoded data removed]",
      "text/plain": [
       "<Figure size 432x288 with 2 Axes>"
      ]
     },
     "metadata": {
      "needs_background": "light"
     },
     "output_type": "display_data"
    }
   ],
   "source": [
    "from sklearn.metrics import ConfusionMatrixDisplay\n",
    "print(\"Matrice de confusion sur les predictions de données d'entrainement\")\n",
    "ConfusionMatrixDisplay.from_predictions(y_train.argmax(axis=1), new_model.predict(X_train).argmax(axis=1))"
   ]
  },
  {
   "cell_type": "code",
   "execution_count": 92,
   "id": "10b15130-f143-4ab6-bfaa-615408e6e261",
   "metadata": {},
   "outputs": [
    {
     "name": "stdout",
     "output_type": "stream",
     "text": [
      "Matrice de confusion sur les predictions de données d'entrainement\n"
     ]
    },
    {
     "data": {
      "text/plain": [
       "<sklearn.metrics._plot.confusion_matrix.ConfusionMatrixDisplay at 0x2863c83c130>"
      ]
     },
     "execution_count": 92,
     "metadata": {},
     "output_type": "execute_result"
    },
    {
     "data": {
      "image/png": "[encoded data removed]",
      "text/plain": [
       "<Figure size 432x288 with 2 Axes>"
      ]
     },
     "metadata": {
      "needs_background": "light"
     },
     "output_type": "display_data"
    }
   ],
   "source": [
    "print(\"Matrice de confusion sur les predictions de données d'entrainement\")\n",
    "ConfusionMatrixDisplay.from_predictions(y_test.argmax(axis=1), new_model.predict(X_test).argmax(axis=1))"
   ]
  },
  {
   "cell_type": "code",
   "execution_count": null,
   "id": "651d5031-b078-468b-a35a-05e3037fd651",
   "metadata": {},
   "outputs": [],
   "source": []
  },
  {
   "cell_type": "code",
   "execution_count": null,
   "id": "1a490bb6-7f4c-4317-86e5-5f2e7010b3f0",
   "metadata": {},
   "outputs": [],
   "source": []
  },
  {
   "cell_type": "code",
   "execution_count": null,
   "id": "99476909-131f-4cb1-9d9e-557a4f2869e2",
   "metadata": {},
   "outputs": [],
   "source": []
  },
  {
   "cell_type": "markdown",
   "id": "a9794262-58f8-4e45-ab63-3f4518c6b0f5",
   "metadata": {
    "jp-MarkdownHeadingCollapsed": true,
    "tags": []
   },
   "source": [
    "# Zone de test "
   ]
  },
  {
   "cell_type": "markdown",
   "id": "30e1e0aa-3b80-4475-8080-8b37d00ca98e",
   "metadata": {},
   "source": [
    "---"
   ]
  },
  {
   "cell_type": "code",
   "execution_count": 104,
   "id": "e66db478-81f7-4c03-bdcd-7dbe03dcd306",
   "metadata": {},
   "outputs": [
    {
     "data": {
      "text/plain": [
       "0.10062893081761007"
      ]
     },
     "execution_count": 104,
     "metadata": {},
     "output_type": "execute_result"
    }
   ],
   "source": [
    "new_model_test= RandomForestClassifier(random_state=123, oob_score=True, criterion = 'gini', n_estimators = 23) #, max_features = 35,max_depth = 34, max_leaf_nodes =19) #, max_depth = 35,max_leaf_nodes=35\n",
    "new_model_test.fit(X_train,y_train)\n",
    "new_model_test.oob_score_ #permet de savoir si notre random forest a correctement généraliser (donc pas en overfitting). il faut viser 1.0"
   ]
  },
  {
   "cell_type": "code",
   "execution_count": 105,
   "id": "843ac9d5-08a7-4f76-a5dd-a492da5b77cf",
   "metadata": {},
   "outputs": [
    {
     "data": {
      "text/plain": [
       "0.16964285714285715"
      ]
     },
     "execution_count": 105,
     "metadata": {},
     "output_type": "execute_result"
    }
   ],
   "source": [
    "new_model_test= RandomForestClassifier(random_state=123, oob_score=True, criterion = 'gini', n_estimators = 23) #, max_features = 35,max_depth = 34, max_leaf_nodes =19) #, max_depth = 35,max_leaf_nodes=35\n",
    "new_model_test.fit(X_train_test,y_train_test)\n",
    "new_model_test.oob_score_ #permet de savoir si notre random forest a correctement généraliser (donc pas en overfitting). il faut viser 1.0"
   ]
  },
  {
   "cell_type": "markdown",
   "id": "3a7363ff-9613-47db-b5f7-3f9387242f0c",
   "metadata": {},
   "source": [
    "---"
   ]
  },
  {
   "cell_type": "code",
   "execution_count": 20,
   "id": "a45deff9-e0c0-4974-a3bf-1b34eb2507ae",
   "metadata": {},
   "outputs": [
    {
     "name": "stdout",
     "output_type": "stream",
     "text": [
      "new_model.score(X_train, y_train) = 0.8303571428571429\n",
      "new_model.score(X_test, y_test) = 0.2857142857142857\n"
     ]
    }
   ],
   "source": [
    "print(\"new_model.score(X_train, y_train) =\",new_model.score(X_train, y_train))\n",
    "print(\"new_model.score(X_test, y_test) =\",new_model.score(X_test, y_test))"
   ]
  },
  {
   "cell_type": "code",
   "execution_count": 21,
   "id": "b96c896a-de35-4e16-a194-183975761e64",
   "metadata": {},
   "outputs": [
    {
     "data": {
      "text/plain": [
       "array([[1, 0, 0, 0, 0, 0, 0, 0, 0, 0, 0, 0, 0, 0, 0, 0, 0, 1],\n",
       "       [0, 1, 0, 0, 2, 0, 0, 0, 0, 0, 0, 0, 0, 0, 0, 0, 0, 0],\n",
       "       [0, 0, 0, 0, 1, 0, 0, 0, 0, 0, 0, 0, 0, 0, 0, 0, 0, 0],\n",
       "       [0, 0, 0, 0, 3, 0, 0, 0, 0, 0, 0, 0, 0, 0, 0, 0, 0, 0],\n",
       "       [0, 0, 0, 0, 1, 0, 0, 0, 0, 0, 0, 0, 0, 0, 0, 0, 0, 0],\n",
       "       [0, 0, 0, 0, 1, 0, 0, 0, 0, 0, 0, 0, 0, 0, 0, 0, 0, 1],\n",
       "       [0, 0, 0, 0, 1, 0, 0, 0, 0, 0, 0, 0, 0, 0, 0, 0, 0, 0],\n",
       "       [0, 0, 0, 0, 1, 0, 0, 0, 0, 0, 0, 0, 0, 0, 0, 0, 0, 0],\n",
       "       [0, 0, 0, 0, 0, 0, 0, 0, 0, 0, 0, 0, 0, 1, 0, 0, 0, 0],\n",
       "       [0, 0, 0, 0, 0, 0, 0, 0, 0, 1, 0, 0, 0, 0, 0, 0, 0, 0],\n",
       "       [0, 0, 0, 0, 0, 0, 0, 0, 0, 0, 1, 0, 0, 1, 0, 0, 0, 0],\n",
       "       [0, 0, 0, 0, 0, 0, 0, 0, 0, 0, 0, 1, 0, 0, 0, 0, 0, 0],\n",
       "       [0, 0, 0, 0, 0, 0, 0, 0, 0, 0, 0, 0, 1, 0, 0, 0, 0, 0],\n",
       "       [0, 0, 0, 0, 1, 0, 0, 0, 0, 0, 0, 0, 0, 1, 1, 0, 0, 0],\n",
       "       [0, 0, 0, 0, 0, 0, 0, 0, 0, 0, 0, 0, 0, 1, 0, 0, 0, 0],\n",
       "       [0, 0, 0, 0, 3, 0, 0, 0, 0, 0, 0, 0, 0, 0, 0, 0, 0, 0],\n",
       "       [0, 0, 0, 0, 1, 0, 0, 0, 0, 0, 0, 0, 0, 0, 0, 0, 0, 0],\n",
       "       [0, 0, 0, 0, 0, 0, 0, 0, 0, 0, 0, 0, 0, 0, 0, 0, 0, 0]],\n",
       "      dtype=int64)"
      ]
     },
     "execution_count": 21,
     "metadata": {},
     "output_type": "execute_result"
    }
   ],
   "source": [
    "from sklearn.metrics import confusion_matrix\n",
    "confusion_matrix(y_test.argmax(axis=1), new_model.predict(X_test).argmax(axis=1))"
   ]
  },
  {
   "cell_type": "code",
   "execution_count": 24,
   "id": "1a5a194c-b397-490f-994a-5c013213ac67",
   "metadata": {},
   "outputs": [
    {
     "ename": "SyntaxError",
     "evalue": "invalid syntax (Temp/ipykernel_51032/1082711333.py, line 1)",
     "output_type": "error",
     "traceback": [
      "\u001b[1;36m  File \u001b[1;32m\"C:\\Users\\chdep\\AppData\\Local\\Temp/ipykernel_51032/1082711333.py\"\u001b[1;36m, line \u001b[1;32m1\u001b[0m\n\u001b[1;33m    https://intellipaat.com/community/9495/how-do-i-solve-overfitting-in-random-forest-of-python-sklearn\u001b[0m\n\u001b[1;37m          ^\u001b[0m\n\u001b[1;31mSyntaxError\u001b[0m\u001b[1;31m:\u001b[0m invalid syntax\n"
     ]
    }
   ],
   "source": [
    "https://intellipaat.com/community/9495/how-do-i-solve-overfitting-in-random-forest-of-python-sklearn\n",
    "\n",
    "https://www.youtube.com/watch?v=-3UBmIXGHyc&t=651s&ab_channel=AIforyou-MorganGautherot"
   ]
  },
  {
   "cell_type": "code",
   "execution_count": null,
   "id": "b9f82bbe-dab6-4025-96e7-9a02aa3b0030",
   "metadata": {},
   "outputs": [],
   "source": [
    "https://ichi.pro/fr/guide-du-debutant-sur-le-reglage-des-hyperparametres-de-foret-aleatoire-77596161963319\n",
    "https://intellipaat.com/community/9495/how-do-i-solve-overfitting-in-random-forest-of-python-sklearn\n",
    "\n",
    "https://www.youtube.com/watch?v=-3UBmIXGHyc&t=651s&ab_channel=AIforyou-MorganGautherot"
   ]
  },
  {
   "cell_type": "markdown",
   "id": "c35cad6c-3bc4-4b8a-9239-de78c0ea2747",
   "metadata": {},
   "source": [
    "------------------"
   ]
  },
  {
   "cell_type": "code",
   "execution_count": null,
   "id": "0191c079-6fa0-4282-a465-7dba21b40e00",
   "metadata": {},
   "outputs": [],
   "source": [
    "X=vectorizer(X_text)\n",
    "y=vectorizer(y_text)"
   ]
  },
  {
   "cell_type": "code",
   "execution_count": null,
   "id": "ab177ee6-5f35-49ab-b959-d0ae05aa6d66",
   "metadata": {},
   "outputs": [],
   "source": [
    "y"
   ]
  },
  {
   "cell_type": "code",
   "execution_count": null,
   "id": "7e960e94-5f17-4600-acc3-cff08ac89074",
   "metadata": {},
   "outputs": [],
   "source": [
    "X\n"
   ]
  },
  {
   "cell_type": "code",
   "execution_count": null,
   "id": "187ec126-fc63-47ce-8c6a-784e7c207a88",
   "metadata": {},
   "outputs": [],
   "source": [
    "#train set et test set"
   ]
  },
  {
   "cell_type": "code",
   "execution_count": null,
   "id": "efae2cea-8b58-4283-80bf-c1b07346912e",
   "metadata": {},
   "outputs": [],
   "source": []
  },
  {
   "cell_type": "code",
   "execution_count": null,
   "id": "09e7a184-e476-4b8e-98c7-fdc6332599a0",
   "metadata": {},
   "outputs": [],
   "source": [
    "from sklearn.preprocessing import LabelEncoder"
   ]
  },
  {
   "cell_type": "code",
   "execution_count": null,
   "id": "b0021952-be7f-46f1-8c09-0c424db1faa5",
   "metadata": {},
   "outputs": [],
   "source": [
    "label_encoder_y = LabelEncoder()"
   ]
  },
  {
   "cell_type": "code",
   "execution_count": null,
   "id": "6e152398-2807-4c7d-ad87-de014f941eac",
   "metadata": {},
   "outputs": [],
   "source": [
    "y_num = label_encoder_y.fit_transform(y_text) #pour avoir la liste complète pour l'entrainement\n",
    "y_num"
   ]
  },
  {
   "cell_type": "code",
   "execution_count": null,
   "id": "d2e28ec5-8f48-43d7-bfd0-fcad2314eebb",
   "metadata": {},
   "outputs": [],
   "source": [
    "y_text"
   ]
  },
  {
   "cell_type": "code",
   "execution_count": null,
   "id": "376d8ceb-e59d-45fb-8d05-0fbce977fd72",
   "metadata": {},
   "outputs": [],
   "source": [
    "y_text_unique = np.unique(y_text)\n",
    "y_text_unique"
   ]
  },
  {
   "cell_type": "code",
   "execution_count": null,
   "id": "031e5b07-a9c2-4d13-b483-46126c525d06",
   "metadata": {},
   "outputs": [],
   "source": []
  },
  {
   "cell_type": "code",
   "execution_count": null,
   "id": "9814654e-77d2-4c7c-bac1-5803b27ca2a8",
   "metadata": {},
   "outputs": [],
   "source": [
    "y_num_unique = label_encoder_y.fit_transform(y_text_unique)\n",
    "y_num_unique\n"
   ]
  },
  {
   "cell_type": "code",
   "execution_count": null,
   "id": "b631acdf-f2e3-47b2-a1a3-c0e4738d684d",
   "metadata": {},
   "outputs": [],
   "source": [
    "print(y_num_unique.shape)\n",
    "y_num_unique=y_num_unique.reshape((y_num_unique.shape[0],1))\n",
    "print(y_num_unique.shape)\n"
   ]
  },
  {
   "cell_type": "code",
   "execution_count": null,
   "id": "b2e6a26d-5b2a-46d7-9e3c-80a109402f35",
   "metadata": {},
   "outputs": [],
   "source": [
    "STOP"
   ]
  },
  {
   "cell_type": "code",
   "execution_count": null,
   "id": "5efe6485-13bb-4336-a86f-dd60b1335f66",
   "metadata": {},
   "outputs": [],
   "source": [
    "y_text_unique"
   ]
  },
  {
   "cell_type": "code",
   "execution_count": null,
   "id": "d81ff639-6ba0-421f-992e-0c014df452f0",
   "metadata": {},
   "outputs": [],
   "source": [
    "y_mapping = {}\n",
    "\n",
    "y_mapping = dict(enumerate(y_text_unique.flatten(),0))\n",
    "\n",
    "\n",
    "#y_text=np.array(y_text)\n",
    "\n",
    "print(y_mapping)\n"
   ]
  },
  {
   "cell_type": "code",
   "execution_count": null,
   "id": "b3a15b16-8c6a-4442-8084-3b899334a3b9",
   "metadata": {},
   "outputs": [],
   "source": []
  },
  {
   "cell_type": "code",
   "execution_count": null,
   "id": "edd088b2-2bfd-4801-8ef8-2e31c61487ae",
   "metadata": {},
   "outputs": [],
   "source": [
    "print (\"X :\", X.shape)\n",
    "print (\"y :\", X.shape)\n",
    "X_train, X_test, y_train, y_test = train_test_split(X,y,train_size=0.8)\n",
    "print (\"Train set :\", X_train.shape)\n",
    "print (\"Test set :\", X_test.shape)\n"
   ]
  },
  {
   "cell_type": "code",
   "execution_count": null,
   "id": "7d133ec4-2736-425c-a38f-29d23a57075b",
   "metadata": {},
   "outputs": [],
   "source": [
    "model = RandomForestClassifier(n_estimators=15)"
   ]
  },
  {
   "cell_type": "code",
   "execution_count": null,
   "id": "afe02ea9-01df-443f-88aa-bc26ea5fc78e",
   "metadata": {},
   "outputs": [],
   "source": [
    "for i in range (5,20):\n",
    "    model = RandomForestClassifier(n_estimators=i)\n",
    "    model.fit(X_train,y_train)\n",
    "    print(\"\\n i=\",i)\n",
    "    print(\"Train.score:\",model.score(X_train, y_train))\n",
    "    print(\"Test.score:\",model.score(X_test, y_test))"
   ]
  },
  {
   "cell_type": "code",
   "execution_count": null,
   "id": "cc38a13a-cd36-4939-a128-415ee720f2fa",
   "metadata": {},
   "outputs": [],
   "source": [
    "print(\"Train.score:\",model.score(X_train, y_train))"
   ]
  },
  {
   "cell_type": "code",
   "execution_count": null,
   "id": "486794f6-884e-452d-833b-7eb87752fd24",
   "metadata": {},
   "outputs": [],
   "source": [
    "print(\"Train.score:\",model.score(X_test, y_test))"
   ]
  },
  {
   "cell_type": "code",
   "execution_count": null,
   "id": "81fdc63b-5760-48a8-8b56-75818ccac430",
   "metadata": {},
   "outputs": [],
   "source": []
  },
  {
   "cell_type": "code",
   "execution_count": null,
   "id": "514cccad-979c-4b47-8359-6b2ec7674d74",
   "metadata": {},
   "outputs": [],
   "source": []
  },
  {
   "cell_type": "code",
   "execution_count": null,
   "id": "979777c2-042a-4a0e-a11c-d9a94b8fb1fa",
   "metadata": {},
   "outputs": [],
   "source": []
  },
  {
   "cell_type": "code",
   "execution_count": null,
   "id": "f4dfbb5d-e212-4caf-a1a9-a9bf972848c4",
   "metadata": {},
   "outputs": [],
   "source": [
    "def test_tag(tag_test,jsonfile): #fonction qui permet de voir l'efficacité du random forest pour un tag donné (exemple : test_tag(\"raison_isen\"))\n",
    "    nb_reussi=0\n",
    "    nb_total=0\n",
    "    \n",
    "    \n",
    "    \n",
    "    X, y, X_train, X_test, y_train, y_test = preprocessing(jsonfile)\n",
    "    model_entraine = train_model(X_train,y_train)\n",
    "    \n",
    "    for doc in intents['intents']:\n",
    "        if doc['tag'] == tag_test:\n",
    "\n",
    "            print(f\"Liste des patterns pour ce tag {tag_test}: \\n\")\n",
    "            for pattern in doc['patterns']:\n",
    "                print(pattern)\n",
    "                test_data = pattern #on ne test ici que les phrases venant des patterns du corpus (donc d'entrainement)\n",
    "                \n",
    "                # [stemmer.stem(i) for i in nltk.word_tokenize((p.lower()))]\n",
    "                test_data = \" \".join([stemmer.stem(i) for i in nltk.word_tokenize((test_data.lower()))])\n",
    "                X_cv_test = cv.transform([test_data]).toarray()\n",
    "                \n",
    "                \n",
    "                model_entraine = train_model(X_train,y_train)\n",
    "                \n",
    "                #test\n",
    "                #random_forest = RandomForestClassifier(n_estimators=15)\n",
    "                #random_forest.fit(X_cv_test, test_data) #entrainement\n",
    "                result = random_forest.predict(X_cv_test) #prediction\n",
    "                #result=1 #--> problème, si on force le result sur une valeur, cela ne change rien du resultat final\n",
    "                predicted_tag = y_mapping[int(result)] \n",
    "                #fin test\n",
    "                \n",
    "                #print(f\"result:{result}\\n\")\n",
    "                \n",
    "                \n",
    "                if predicted_tag==tag_test:\n",
    "                    nb_reussi+=1\n",
    "                nb_total+=1\n",
    "\n",
    "            print(f\"-----------------------------------------------\\nListe des reponses pour ce tag {tag_test}:  \\n\")\n",
    "            for reponse in doc['responses']:\n",
    "                print(reponse)\n",
    "    \n",
    "    if nb_total==0:\n",
    "        print(f\"Le tag {tag_test} n'est pas dans notre corpus intents\")\n",
    "        return False\n",
    "    \n",
    "    print(f\"-----------------------------------------------\\nSur ces pattern de ce tag {tag_test}, {nb_reussi} ont été associé au bon tag sur {nb_total} après entrainement\") \n",
    "    return (nb_reussi,nb_total)\n",
    "\n",
    "preprocessing('intents.json')"
   ]
  }
 ],
 "metadata": {
  "kernelspec": {
   "display_name": "Python 3 (ipykernel)",
   "language": "python",
   "name": "python3"
  },
  "language_info": {
   "codemirror_mode": {
    "name": "ipython",
    "version": 3
   },
   "file_extension": ".py",
   "mimetype": "text/x-python",
   "name": "python",
   "nbconvert_exporter": "python",
   "pygments_lexer": "ipython3",
   "version": "3.8.12"
  }
 },
 "nbformat": 4,
 "nbformat_minor": 5
}
