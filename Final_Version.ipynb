{
 "cells": [
  {
   "cell_type": "markdown",
   "id": "ffb620cd-f5ec-4122-b92e-2a99d2419ca8",
   "metadata": {},
   "source": [
    "- Récupération du corpus --> import_corpus\n",
    "- Séparation et récupération des tags, Patterns et Responses --> Extraction_data_X_Y\n",
    "- Séparer les données en test et train --> Extraction_data_X_Y\n",
    "- Data augmentation sur les patterns --> data_augmentation_syn\n",
    "- Création d'un dictionnaire associant un chiffre à chaque tag --> dico_num_tag(y_texte)\n",
    "- Création d'un dictionnaire associant un tag à une réponse --> Extraction_data_X_Y\n",
    "- Vectoriser les patterns et voir leur gestion pour l'entrainement et la prédiction (prédiction normalement ok avec le 1er dictionnaire)\n",
    "- Vectoriser les Patterns train\n",
    "- Vectoriser les Patterns test de la même manière que ceux de train\n",
    "- GridSearchCV pour voir les meilleurs paramètres\n",
    "- Entrainement du modèle\n"
   ]
  },
  {
   "cell_type": "markdown",
   "id": "9c705605-f593-462c-892c-4f68b8661e31",
   "metadata": {
    "jp-MarkdownHeadingCollapsed": true,
    "tags": []
   },
   "source": [
    "##  Importation des librairies"
   ]
  },
  {
   "cell_type": "code",
   "execution_count": 1,
   "id": "a1b51b72-6eda-467e-a81b-5c3295d092b2",
   "metadata": {},
   "outputs": [],
   "source": [
    "import nltk\n",
    "#from nltk.stem.lancaster import LancasterStemmer\n",
    "#stemmer = LancasterStemmer()\n",
    "from nltk.stem.snowball import FrenchStemmer\n",
    "stemmer = FrenchStemmer()"
   ]
  },
  {
   "cell_type": "code",
   "execution_count": 2,
   "id": "491c9e6c-9ef7-458b-ae07-95e9c409ff91",
   "metadata": {},
   "outputs": [],
   "source": [
    "# things we need for Tensorflow\n",
    "import numpy as np\n",
    "import keras\n",
    "import tensorflow as tf\n",
    "from sklearn.linear_model import LogisticRegression\n",
    "import random\n",
    "from sklearn.feature_extraction.text import TfidfVectorizer, CountVectorizer\n",
    "\n",
    "import pandas as pd\n",
    "from nltk import word_tokenize"
   ]
  },
  {
   "cell_type": "markdown",
   "id": "fb2e78d1-69ce-47b2-8d71-416e184525a9",
   "metadata": {
    "tags": []
   },
   "source": [
    "# Récupération du corpus "
   ]
  },
  {
   "cell_type": "code",
   "execution_count": 3,
   "id": "4c77c062-6a9f-4c8a-bbf3-7ef7549761ae",
   "metadata": {},
   "outputs": [],
   "source": [
    "# import our chat-bot intents file\n",
    "import json\n",
    "\n",
    "def import_corpus(jsonfile): #permet d'importer le corpus\n",
    "    try:\n",
    "        with open(jsonfile, encoding='utf-8') as json_data:\n",
    "            intents = json.load(json_data)\n",
    "        return intents\n",
    "\n",
    "    except OSError as err:\n",
    "        print(\"OS error: {0}\".format(err))\n",
    "    except ValueError:\n",
    "        print(\"Your .json is wrong, look at https://jsonlint.com/\")\n",
    "    except BaseException as err:\n",
    "        print(f\"Unexpected {err=}, {type(err)=}\")\n",
    "        raise\n",
    "        \n",
    "corpus = import_corpus('intents.json')\n",
    "#corpus"
   ]
  },
  {
   "cell_type": "markdown",
   "id": "99e22140-4ae2-48fa-b660-211b75a92ab5",
   "metadata": {
    "tags": []
   },
   "source": [
    "# Extraction_data_X_Y\n",
    "- Séparation et récupération des tags, Patterns et Responses\n",
    "- Séparer les données en test et train \n",
    "- Création d'un dictionnaire associant un tag à une réponse \n",
    "- Nettoyage des ponctuations"
   ]
  },
  {
   "cell_type": "code",
   "execution_count": 104,
   "id": "715bfd87-c949-469a-976d-559623784638",
   "metadata": {},
   "outputs": [
    {
     "data": {
      "text/plain": [
       "'Puis je visiter l isen '"
      ]
     },
     "execution_count": 104,
     "metadata": {},
     "output_type": "execute_result"
    }
   ],
   "source": [
    "from nltk.corpus import stopwords\n",
    "from sklearn.model_selection import train_test_split\n",
    "\n",
    "def extraction_data_X_y(jsonfile = None, testing = False, phrase : str = None): #permet d'obtenir les patterns (X_text) et les tags (y_text)\n",
    "    \n",
    "    ponctuation = [\".\", \"?\", \"!\", \",\", \";\", \":\", \"(\",  \")\", \"[\", \"]\", \"«\", \"»\", '\"', \"/\", \"}\", \"{\", \"'\", \"#\",\"-\",\"’\"]\n",
    "\n",
    "    if testing == False : #cas d'extraction des données du corpus\n",
    "        corpus = import_corpus(jsonfile)\n",
    "    \n",
    "        X_texte = []\n",
    "        y_texte = []\n",
    "        Responses = []\n",
    "\n",
    "        dico_tag_responses = {}\n",
    "\n",
    "        #ponctuation = [\".\", \"?\", \"!\", \",\", \";\", \":\", \"(\",  \")\", \"[\", \"]\", \"«\", \"»\", '\"', \"/\", \"}\", \"{\", \"'\", \"#\",\"-\",\"’\"]\n",
    "        try :\n",
    "            for doc in corpus['intents']: #'intents\n",
    "                #print(doc['tag']) #obtenir chaque tag\n",
    "                for p in doc['patterns']: #'patterns'\n",
    "                    #print(p) #obtenir chaque phrase/patterns par tags \n",
    "\n",
    "                    for element in ponctuation:\n",
    "                        p = p.replace(element,\" \")\n",
    "\n",
    "                    #filtered_phrase = clean_text(p)\n",
    "                    filtered_phrase = p\n",
    "\n",
    "\n",
    "\n",
    "\n",
    "                    #X_texte.append(\" \".join(filtered_phrase)) Bonne version avec stemming\n",
    "                    X_texte.append(filtered_phrase)\n",
    "\n",
    "                    y_texte.append(doc['tag']) \n",
    "                    #y_texte.append(doc['tag']) #on rajoute un 2e même tag car on double le dataset\n",
    "\n",
    "                    Responses.append(doc['responses'])\n",
    "                    dico_tag_responses[doc['tag']] = doc['responses']\n",
    "\n",
    "            X_train, X_test, y_train, y_test = train_test_split(X_texte,y_texte,train_size=0.8)\n",
    "\n",
    "            #print(f\"\\ndico_tag_responses : \\n {dico_tag_responses}\")\n",
    "            return X_texte, y_texte, X_train, X_test, y_train, y_test, dico_tag_responses\n",
    "        except:\n",
    "            print(\"l'extraction des patterns et tags n'a pas fonctionnée, allez voir la fonction extraction data_X_y\")\n",
    "            \n",
    "    else: #cas en utilisation pour récupérer la phrase\n",
    "        #new_phrase = []\n",
    "        \n",
    "        for element in ponctuation:\n",
    "            phrase = phrase.replace(element,\" \")\n",
    "        \n",
    "        new_phrase = phrase\n",
    "        return new_phrase\n",
    "        \n",
    "X_text = []\n",
    "y_text = []\n",
    "X_texte, y_texte, X_train, X_test, y_train, y_test, dico_tag_responses = extraction_data_X_y('intents.json')\n",
    "dico_tag_responses\n",
    "#phrase_test = \"Puis-je visiter l'isen?\"\n",
    "#extraction_data_X_y(None, True, phrase_test)"
   ]
  },
  {
   "cell_type": "code",
   "execution_count": null,
   "id": "d06ac7e4-5f83-4220-874c-dc0d14b2b8c0",
   "metadata": {},
   "outputs": [],
   "source": [
    "phrase_test = \"Puis-je visiter l'isen?\""
   ]
  },
  {
   "cell_type": "markdown",
   "id": "59250122-2a81-41e8-a620-a61d5541013e",
   "metadata": {
    "jp-MarkdownHeadingCollapsed": true,
    "tags": []
   },
   "source": [
    "# dico_num_tag\n",
    "- Création d'un dictionnaire associant un chiffre à chaque tag "
   ]
  },
  {
   "cell_type": "code",
   "execution_count": 5,
   "id": "960cbbb1-c259-437a-aa85-4cc9d20f2f9a",
   "metadata": {},
   "outputs": [
    {
     "name": "stdout",
     "output_type": "stream",
     "text": [
      "{0: 'Bourses', 1: 'Clubs_etudiants', 2: 'Handicap', 3: 'ISEN_logement', 4: 'ISEN_restauration', 5: 'Job_ISEN', 6: 'La vie à Brest', 7: 'Nombre_etudiants_alumni_etudiants', 8: 'SHN', 9: 'Taux_insertion', 10: 'Yncrea', 11: 'bienvenue', 12: 'campus_ouest', 13: 'certifications', 14: 'cursus_isen', 15: 'raison_isen', 16: 'tarif_BIAST', 17: 'tarif_BIOST', 18: 'tarif_CENT', 19: 'tarif_CGSI', 20: 'tarif_CIR', 21: 'tarif_EST', 22: 'tarif_cycle_ingenieur', 23: 'visite_virtuelle_PO'}\n"
     ]
    }
   ],
   "source": [
    "from sklearn.preprocessing import LabelBinarizer,LabelEncoder\n",
    "\n",
    "def dico_num_tag(y_texte):\n",
    "    enc1=LabelEncoder()\n",
    "    enc1.fit(y_texte) #enc1.fit(X_train) --> supprimer les mots inconnues de la base de test --> enc1.transform(X_train) & enc1.transform(X_test)\n",
    "    dicoLabel=enc1.transform(y_texte)\n",
    "    tdico=zip(np.unique(dicoLabel),np.unique(y_texte))\n",
    "    dic_dico={i:j for i,j in tdico} #pour associer les n° de tag à leur nom --> {0: 'Bourses', 1: 'Clubs_etudiants', 2: 'Handicap', 3: 'ISEN_logement' ...}\n",
    "    print(dic_dico)\n",
    "    return dic_dico\n",
    "\n",
    "dico_numero_tag = dico_num_tag(y_texte)"
   ]
  },
  {
   "cell_type": "code",
   "execution_count": null,
   "id": "3e700987-5310-438c-8e95-e8493380a386",
   "metadata": {},
   "outputs": [],
   "source": []
  },
  {
   "cell_type": "markdown",
   "id": "2ebc06fc-7eb6-4c3f-9e10-55054486ef08",
   "metadata": {
    "tags": []
   },
   "source": [
    "# data_augmentation_syn\n",
    "- Data augmentation sur les patterns "
   ]
  },
  {
   "cell_type": "code",
   "execution_count": 6,
   "id": "422be900-6687-47ab-9472-7f6adfd21f63",
   "metadata": {},
   "outputs": [],
   "source": [
    "from nltk.corpus import wordnet\n",
    "from collections import OrderedDict\n",
    "from deep_translator import GoogleTranslator"
   ]
  },
  {
   "cell_type": "code",
   "execution_count": 71,
   "id": "dcb512b4-0749-47ec-8ce1-23699bebe747",
   "metadata": {},
   "outputs": [],
   "source": [
    "def find_synonyms(word):\n",
    "    translated_word = GoogleTranslator(source='fr', target='en').translate(word)\n",
    "    \n",
    "    synonyms = []\n",
    "    for synset in wordnet.synsets(translated_word):\n",
    "        for syn in synset.lemma_names():\n",
    "            synonyms.append(GoogleTranslator(source='en', target='fr').translate(syn))\n",
    "            #print(syn,\"sa traduction en français\",GoogleTranslator(source='en', target='fr').translate(syn))\n",
    "            \n",
    "    # using this to drop duplicates while maintaining word order (closest synonyms comes first)\n",
    "    synonyms_without_duplicates = list(OrderedDict.fromkeys(synonyms))\n",
    "    return list(OrderedDict.fromkeys(synonyms)) #synonyms #synonyms_without_duplicates"
   ]
  },
  {
   "cell_type": "code",
   "execution_count": 72,
   "id": "7bfd9671-b286-4be9-81aa-8dfdaff8b1db",
   "metadata": {},
   "outputs": [],
   "source": [
    "from nltk import word_tokenize\n",
    "def create_set_of_new_sentences(sentence, max_syn_per_word = 6, nbr_new_sentences = 1): #nbr_new_sentences est le nombre de \"nouvelle\" phrase crée par phrase, si =1 on va doubler le dataset par exemple\n",
    "    try:\n",
    "        new_sentences = []\n",
    "        for word in nltk.word_tokenize(sentence):\n",
    "            #print(\"\\n\")\n",
    "            if len(word)<=3 : continue #les petits mots ont souvent des erreurs en synonymes\n",
    "            for synonym in find_synonyms(word)[0:max_syn_per_word]:\n",
    "                \n",
    "                #print(synonym, word)\n",
    "                synonym = synonym.replace('_', ' ') #restore space character\n",
    "                new_sentence = sentence.replace(word,synonym)\n",
    "                new_sentences.append(new_sentence)\n",
    "        return new_sentences[1:nbr_new_sentences+1] #le premier correspond à la phrase initiale\n",
    "    except:\n",
    "        print(\"Peut être que votre phrase n'est pas dans la bonne langue (Français) ou que vous n'avez rien mis en entrée de la fonction\")"
   ]
  },
  {
   "cell_type": "code",
   "execution_count": 73,
   "id": "0f7f329d-0b35-49f9-8d0f-caef1d64e96e",
   "metadata": {},
   "outputs": [
    {
     "name": "stdout",
     "output_type": "stream",
     "text": [
      "\n",
      "X_train ['Salut', 'Salut à tous', 'Bonjour à tous', 'Bonjour', 'Coucou', 'Comment ca va ', 'Comment tu vas ', 'je recherche de l aide', 'oyez oyez', 'hey', 'Pourquoi l isen  ', 'description isen', 'école d ingénieur généraliste', 'C est quoi la différence avec les autres écoles d ingénieurs  ', 'Quelle est la différence avec les autres écoles d ingénieurs  ', 'différence autres écoles ingénieurs', 'en quoi l isen est meilleur ', 'Pourquoi choisir l isen ', 'quelles sont les avantages offert par l isen ', 'qu offre l isen en termes d enseignement ', 'quelles performances peut on retrouvés à l isen', 'C est quoi l ISEN  ', 'cursus isen', 'années scolarité', 'En combien d années se déroule l ISEN  ', 'Qu est ce que l ISEN', 'C est quoi le cursus de l école', 'Combien d années d études post bac ', 'temps post bac', 'peut on intégrer l école après le bac', 'comment foncionne l ISEN', 'comment est on formé à l isen ', 'quelles sont les différentes possibilités suivant mon profil ', 'quels sont les enseignements à l isen ', '204 écoles d ingénieurs', 'ingénieur français', 'C est quoi Yncréa Ouest  ', 'Combien y a t il d écoles dans l ouest ', 'Quels sont les campus de l ISEN Ouest  ', 'Brest  Caen  Nantes et Rennes', 'Où peut on étudier à l ISEN ', 'quelles sont les centre de formation de l isen ', 'quelle est la localisation de l ISEN ', 'Quelles sont les certifications d Yncréa  ', 'L isen est il sous contrat avec le Ministère de l Enseignement Supérieur et de la Recherche  ', 'L isen est il sous contrat avec le MESR  ', 'gage de qualité de l isen', 'MESR', 'L isen est il reconnu de quelconques manières ', 'Qu offre l ISEN en terme d assurrance de reconnaissance du niveau de sortie ', 'Quel est le taux d insertion des jeunes diplômés  ', 'taux d insertion', 'Où sont embauchés les jeunes diplômés  ', 'lieu d embauche', 'Quels sont les lieux de travail après diplôme  ', 'Trouve t on facilement du diplôme après l isen ', 'Est on obligé de travailler sur paris après notre diplome ', 'Quelle est le taux d embauches après l ISEN ', 'C est quoi Yncrea  ', 'Qu est ce que Yncréa  ', 'Yncrea', 'Junia', 'Yncrea ouest', 'Yncrea medittérannée', 'Yncrea Nord', 'L isen fait elle est partie d un groupe ', 'Pourquoi Yncrea ', 'Quelle différences entre l isen et l Yncrea ', 'Combien y a t il d étudiants  ', 'Combien y a t il d enseignants permanents ', 'Combien y a t il d alumnis  ', 'nombre étudiants', 'nombre élèves', 'Quelles est le chiffre d étudiants à l isen ', 'Quelle est la population de l isen ', 'Quels sont les tarifs du cycle CGSI  ', 'prix CGSI', 'Quels sont les frais de scolarité du cycle CGSI  ', 'Combien coûte les années 1 et 2 en CSI  ', 'Combien coûte les années 1 et 2 classes préparatoires implantées', 'tarif CGSI', 'tarif CSI', 'Quelle est le montant d une année du cycle généraliste ', 'une année du cycle généraliste  ça coute combien ', 'Quels sont les tarifs du cycle CIR ', 'tarif CIR', 'prix CIR', 'Quels sont les frais de scolarité du cycle CIR ', 'Combien coûte les années 1 et 2 en CIR ', 'Combien coûte les années 1 et 2 en Cycle Informatique et Réseaux', 'Quelle est le montant d une année du cycle informatique ', 'une année du cycle informatique  ça coute combien ', 'Quels sont les tarifs du cycle BIOST ', 'tarif BIOST', 'prix BIOST', 'Quels sont les frais de scolarité du cycle BIOST ', 'Combien coûte les années 1 et 2 en BIOST ', 'Combien coûte les années 1 et 2 en Cycle Biologie  Sciences et Technologies', 'Quelle est le montant d une année du cycle biologique ', 'une année du cycle biologique  ça coute combien ', 'Quels sont les tarifs du cycle CENT  ', 'tarif CENT', 'Prix CENT', 'Quels sont les frais de scolarité du cycle CENT  ', 'Combien coûte les années 1 et 2 en CENT  ', 'Combien coûte les années 1 et 2 en Cycle Economie Numérique et Technologies', 'Quelle est le montant d une année du cycle economie ', 'une année du cycle economie  ça coute combien ', 'Quels sont les tarifs du cycle EST ', 'tarif EST', 'prix EST', 'Quels sont les frais de scolarité du cycle EST ', 'Combien coûte les années 1 et 2 en EST ', 'Combien coûte les années 1 et 2 en Cycle Environnement  Sciences et Technologies', 'Quelle est le montant d une année du cycle environnement ', 'une année du cycle environnement  ça coute combien ', 'Quels sont les tarifs du cycle BIAST ', 'Tarif BIAST', 'prix BIAST', 'Quels sont les frais de scolarité du cycle BIAST ', 'Combien coûte les années 1 et 2 en BIAST ', 'Combien coûte les années 1 et 2 en Cycle Biologie  Agronomie  Sciences et Technologies', 'Quelle est le montant d une année du cycle agronomie ', 'une année du cycle agronomie  ça coute combien ', 'Quels sont les tarifs du cycle ingénieur ', 'Quel est le prix à BAC+3', 'Quel est le tarif du cycle ingénieur ', 'prix des années 3  4 et 5', 'prix années Master A3 M1 M2', 'Quels sont les frais de scolarité en années 3  4 et 5  ', 'Combien coûte les années 3 à 5  ', 'Quelle est le montant d une année du cycle supérieur ', 'une année du cycle supérieur  ça coute combien ', 'Comment puis je payer l école  ', 'Comment puis je payer la formation ', 'Comment puis je payer l ISEN ', 'Comment financer mes études   ', 'bourses d  excellence', 'Quelles sont les bourses disponibles ', 'ERASMUS est il disponible pour payer l isen', 'l accès aux bourses est elle possible en intégrant l isen ', 'L isen dispose t elle de bourses d études ', 'une bourse est elle décrochable selon nos perfomances académiques ', 'Sportif de Haut Niveau', 'Peut on être SHN ', 'Peut on être en Sport de Haut Niveau ', 'L isen est elle adaptée pour les Sportifs ', 'L isen est elle adaptée pour le Sport de compétition ', 'Peut on être accompagner en tant que sportif ', 'Puis je continuer mon activité sportive de haut niveau en intégrant l isen ', 'Un aménagement des horaires est il possible si je suis sportif de haut niveau ', 'Y a t il un Internat ', 'Quels sont les logements autour de l école', 'Quelles sont les résidences étudiantes ', 'Pourrais je avoir des informations sur les habitations autour ', 'où loger autour de l école ', 'Comment trouver un logement à proximité de l isen ', 'Où habiter si j intègre l isen ', 'Des conseils sur où se loger en intégrant l ISEN ', 'Quels sont les moyens de restauration ', 'Comment puis je manger ', 'Quels sont les lieux pour manger', 'Y a t il une cafeteria ', 'Puis je manger au Super u ', 'Comment se restaurer quand on étudie à l isen ', 'l isen possède t elle une cafétaria ', 'L isen est elle loin des restaurants universitaires ', 'Puis je visiter l isen', 'Comment peut on découvrir le bâtiment', 'Quelles sont les dates de Portes ouvertes', 'nous rencontrer en portes ouvertes', 'Peut on visiter l isen', 'peut on découvrir l isen lors de portes ouvertes ', 'y a t il une possibilité de rencontrer les professeurs et visiter l établissement ', 'L école est elle adaptée aux Handicaps', 'Peut on avoir un tiers temps', 'A t on des aménagements handicaps', 'Peut on y venir avec un fauteuil roulant', 'Le batiment est il accessible pour les personnes à mobilité réduite', 'Je suis en situation de handicap  l isen a t elle les capacités de me recevoir ', 'L isen est elle habilité a accueillir les étudiants ayant besoin d aménagement spécifiques ', 'Quels sont les clubs isen', 'Quelles sont les associations étudiantes', 'Peut on en savoir plus sur la vie étudiante', 'Quel est le club digitaldesign', 'Quel est le club 4Ltrophy', 'Quel est le club BDD', 'Quel est le club BDI', 'Quel est le club BDS', 'Quel est le club club évasion', 'BDA', 'Quelle est la vie étudiante au sein de l ISEN ', 'L isen possède t elle des associations pour développer la vie étudiante ', 'Qu offre l isen en dehors des enseignements obligatoires ', 'Comment est la ville de Brest', 'pourquoi venir à Brest', 'Comment est la vie en finistère', 'Pleut il vraiment à Brest', 'Quelles sont les avantages de vivre à Brest ', 'A quoi m attendre de Brest ', 'La vie brestoise est t elle compliqué ou chère ', 'Quelles sont les Offres d emploi', 'Peut on travailler à Yncrea', 'Peut on Travailler à l ISEN', 'Peut t on prendre un emploi étudiant au sein de l isen ', 'L isen propose t elle des emplois rémunérés aux étudiants '] de taille 206\n",
      "\n",
      "y_train ['bienvenue', 'bienvenue', 'bienvenue', 'bienvenue', 'bienvenue', 'bienvenue', 'bienvenue', 'bienvenue', 'bienvenue', 'bienvenue', 'raison_isen', 'raison_isen', 'raison_isen', 'raison_isen', 'raison_isen', 'raison_isen', 'raison_isen', 'raison_isen', 'raison_isen', 'raison_isen', 'raison_isen', 'cursus_isen', 'cursus_isen', 'cursus_isen', 'cursus_isen', 'cursus_isen', 'cursus_isen', 'cursus_isen', 'cursus_isen', 'cursus_isen', 'cursus_isen', 'cursus_isen', 'cursus_isen', 'cursus_isen', 'cursus_isen', 'cursus_isen', 'campus_ouest', 'campus_ouest', 'campus_ouest', 'campus_ouest', 'campus_ouest', 'campus_ouest', 'campus_ouest', 'certifications', 'certifications', 'certifications', 'certifications', 'certifications', 'certifications', 'certifications', 'Taux_insertion', 'Taux_insertion', 'Taux_insertion', 'Taux_insertion', 'Taux_insertion', 'Taux_insertion', 'Taux_insertion', 'Taux_insertion', 'Yncrea', 'Yncrea', 'Yncrea', 'Yncrea', 'Yncrea', 'Yncrea', 'Yncrea', 'Yncrea', 'Yncrea', 'Yncrea', 'Nombre_etudiants_alumni_etudiants', 'Nombre_etudiants_alumni_etudiants', 'Nombre_etudiants_alumni_etudiants', 'Nombre_etudiants_alumni_etudiants', 'Nombre_etudiants_alumni_etudiants', 'Nombre_etudiants_alumni_etudiants', 'Nombre_etudiants_alumni_etudiants', 'tarif_CGSI', 'tarif_CGSI', 'tarif_CGSI', 'tarif_CGSI', 'tarif_CGSI', 'tarif_CGSI', 'tarif_CGSI', 'tarif_CGSI', 'tarif_CGSI', 'tarif_CIR', 'tarif_CIR', 'tarif_CIR', 'tarif_CIR', 'tarif_CIR', 'tarif_CIR', 'tarif_CIR', 'tarif_CIR', 'tarif_BIOST', 'tarif_BIOST', 'tarif_BIOST', 'tarif_BIOST', 'tarif_BIOST', 'tarif_BIOST', 'tarif_BIOST', 'tarif_BIOST', 'tarif_CENT', 'tarif_CENT', 'tarif_CENT', 'tarif_CENT', 'tarif_CENT', 'tarif_CENT', 'tarif_CENT', 'tarif_CENT', 'tarif_EST', 'tarif_EST', 'tarif_EST', 'tarif_EST', 'tarif_EST', 'tarif_EST', 'tarif_EST', 'tarif_EST', 'tarif_BIAST', 'tarif_BIAST', 'tarif_BIAST', 'tarif_BIAST', 'tarif_BIAST', 'tarif_BIAST', 'tarif_BIAST', 'tarif_BIAST', 'tarif_cycle_ingenieur', 'tarif_cycle_ingenieur', 'tarif_cycle_ingenieur', 'tarif_cycle_ingenieur', 'tarif_cycle_ingenieur', 'tarif_cycle_ingenieur', 'tarif_cycle_ingenieur', 'tarif_cycle_ingenieur', 'tarif_cycle_ingenieur', 'Bourses', 'Bourses', 'Bourses', 'Bourses', 'Bourses', 'Bourses', 'Bourses', 'Bourses', 'Bourses', 'Bourses', 'SHN', 'SHN', 'SHN', 'SHN', 'SHN', 'SHN', 'SHN', 'SHN', 'ISEN_logement', 'ISEN_logement', 'ISEN_logement', 'ISEN_logement', 'ISEN_logement', 'ISEN_logement', 'ISEN_logement', 'ISEN_logement', 'ISEN_restauration', 'ISEN_restauration', 'ISEN_restauration', 'ISEN_restauration', 'ISEN_restauration', 'ISEN_restauration', 'ISEN_restauration', 'ISEN_restauration', 'visite_virtuelle_PO', 'visite_virtuelle_PO', 'visite_virtuelle_PO', 'visite_virtuelle_PO', 'visite_virtuelle_PO', 'visite_virtuelle_PO', 'visite_virtuelle_PO', 'Handicap', 'Handicap', 'Handicap', 'Handicap', 'Handicap', 'Handicap', 'Handicap', 'Clubs_etudiants', 'Clubs_etudiants', 'Clubs_etudiants', 'Clubs_etudiants', 'Clubs_etudiants', 'Clubs_etudiants', 'Clubs_etudiants', 'Clubs_etudiants', 'Clubs_etudiants', 'Clubs_etudiants', 'Clubs_etudiants', 'Clubs_etudiants', 'Clubs_etudiants', 'La vie à Brest', 'La vie à Brest', 'La vie à Brest', 'La vie à Brest', 'La vie à Brest', 'La vie à Brest', 'La vie à Brest', 'Job_ISEN', 'Job_ISEN', 'Job_ISEN', 'Job_ISEN', 'Job_ISEN'] de taille 206\n",
      "\n",
      "phrase initiale : Salut\n",
      "['salut']\n",
      "NOUVELLE phrase : salut\n",
      "\n",
      "phrase initiale : Salut à tous\n",
      "['salut à tous', 'Salut à tous']\n",
      "NOUVELLE phrase : salut à tous\n",
      "NOUVELLE phrase : Salut à tous\n",
      "\n",
      "phrase initiale : Bonjour à tous\n",
      "['Tiens à tous', 'salut à tous']\n",
      "NOUVELLE phrase : Tiens à tous\n",
      "NOUVELLE phrase : salut à tous\n",
      "\n",
      "phrase initiale : Bonjour\n",
      "['Tiens', 'salut']\n",
      "NOUVELLE phrase : Tiens\n",
      "NOUVELLE phrase : salut\n",
      "\n",
      "phrase initiale : Coucou\n",
      "['Tiens', 'salut']\n",
      "NOUVELLE phrase : Tiens\n",
      "NOUVELLE phrase : salut\n",
      "\n",
      "phrase initiale : Comment ca va \n",
      "[]\n",
      "\n",
      "phrase initiale : Comment tu vas \n",
      "[]\n",
      "\n",
      "phrase initiale : je recherche de l aide\n",
      "['je enquête de l aide', 'je chercher de l aide']\n",
      "NOUVELLE phrase : je enquête de l aide\n",
      "NOUVELLE phrase : je chercher de l aide\n",
      "\n",
      "phrase initiale : oyez oyez\n",
      "['apprendre apprendre', 'get word get word']\n",
      "NOUVELLE phrase : apprendre apprendre\n",
      "NOUVELLE phrase : get word get word\n",
      "\n",
      "phrase initiale : hey\n",
      "[]\n",
      "\n",
      "phrase initiale : Pourquoi l isen  \n",
      "['pour cette raison l isen  ']\n",
      "NOUVELLE phrase : pour cette raison l isen  \n",
      "\n",
      "phrase initiale : description isen\n",
      "['description verbale isen']\n",
      "NOUVELLE phrase : description verbale isen\n",
      "\n",
      "phrase initiale : école d ingénieur généraliste\n",
      "['école d ingénieur généraliste', 'scolarité d ingénieur généraliste']\n",
      "NOUVELLE phrase : école d ingénieur généraliste\n",
      "NOUVELLE phrase : scolarité d ingénieur généraliste\n",
      "\n",
      "phrase initiale : C est quoi la différence avec les autres écoles d ingénieurs  \n",
      "['C est quoi la déviation avec les autres écoles d ingénieurs  ', 'C est quoi la divergence avec les autres écoles d ingénieurs  ']\n",
      "NOUVELLE phrase : C est quoi la déviation avec les autres écoles d ingénieurs  \n",
      "NOUVELLE phrase : C est quoi la divergence avec les autres écoles d ingénieurs  \n",
      "\n",
      "phrase initiale : Quelle est la différence avec les autres écoles d ingénieurs  \n",
      "['Quelle est la déviation avec les autres écoles d ingénieurs  ', 'Quelle est la divergence avec les autres écoles d ingénieurs  ']\n",
      "NOUVELLE phrase : Quelle est la déviation avec les autres écoles d ingénieurs  \n",
      "NOUVELLE phrase : Quelle est la divergence avec les autres écoles d ingénieurs  \n",
      "\n",
      "phrase initiale : différence autres écoles ingénieurs\n",
      "['déviation autres écoles ingénieurs', 'divergence autres écoles ingénieurs']\n",
      "NOUVELLE phrase : déviation autres écoles ingénieurs\n",
      "NOUVELLE phrase : divergence autres écoles ingénieurs\n",
      "\n",
      "phrase initiale : en quoi l isen est meilleur \n",
      "['en quoi l isen est parieur ', 'en quoi l isen est Pause ']\n",
      "NOUVELLE phrase : en quoi l isen est parieur \n",
      "NOUVELLE phrase : en quoi l isen est Pause \n",
      "\n",
      "phrase initiale : Pourquoi choisir l isen \n",
      "['pour cette raison choisir l isen ', 'Pourquoi choisir l isen ']\n",
      "NOUVELLE phrase : pour cette raison choisir l isen \n",
      "NOUVELLE phrase : Pourquoi choisir l isen \n",
      "\n",
      "phrase initiale : quelles sont les avantages offert par l isen \n",
      "['quelles ar les avantages offert par l isen ', 'quelles être les avantages offert par l isen ']\n",
      "NOUVELLE phrase : quelles ar les avantages offert par l isen \n",
      "NOUVELLE phrase : quelles être les avantages offert par l isen \n",
      "\n",
      "phrase initiale : qu offre l isen en termes d enseignement \n",
      "['qu offre l isen en termes d enseignement ', 'qu fissure l isen en termes d enseignement ']\n",
      "NOUVELLE phrase : qu offre l isen en termes d enseignement \n",
      "NOUVELLE phrase : qu fissure l isen en termes d enseignement \n",
      "\n",
      "phrase initiale : quelles performances peut on retrouvés à l isen\n",
      "['quelles présentation publique peut on retrouvés à l isen', 'quelles exécution peut on retrouvés à l isen']\n",
      "NOUVELLE phrase : quelles présentation publique peut on retrouvés à l isen\n",
      "NOUVELLE phrase : quelles exécution peut on retrouvés à l isen\n",
      "\n",
      "phrase initiale : C est quoi l ISEN  \n",
      "[]\n",
      "\n",
      "phrase initiale : cursus isen\n",
      "['programme isen', \"programme d'études isen\"]\n",
      "NOUVELLE phrase : programme isen\n",
      "NOUVELLE phrase : programme d'études isen\n",
      "\n",
      "phrase initiale : années scolarité\n",
      "['années scolarité', 'âge scolarité']\n",
      "NOUVELLE phrase : années scolarité\n",
      "NOUVELLE phrase : âge scolarité\n",
      "\n",
      "phrase initiale : En combien d années se déroule l ISEN  \n",
      "['En combien d années se déroule l ISEN  ', 'En combien d âge se déroule l ISEN  ']\n",
      "NOUVELLE phrase : En combien d années se déroule l ISEN  \n",
      "NOUVELLE phrase : En combien d âge se déroule l ISEN  \n",
      "\n",
      "phrase initiale : Qu est ce que l ISEN\n",
      "[]\n",
      "\n",
      "phrase initiale : C est quoi le cursus de l école\n",
      "['C est quoi le programme de l école', \"C est quoi le programme d'études de l école\"]\n",
      "NOUVELLE phrase : C est quoi le programme de l école\n",
      "NOUVELLE phrase : C est quoi le programme d'études de l école\n",
      "\n",
      "phrase initiale : Combien d années d études post bac \n",
      "['Combien d années d études post bac ', 'Combien d âge d études post bac ']\n",
      "NOUVELLE phrase : Combien d années d études post bac \n",
      "NOUVELLE phrase : Combien d âge d études post bac \n",
      "\n",
      "phrase initiale : temps post bac\n",
      "['agrafe post bac', \"temps d'horloge post bac\"]\n",
      "NOUVELLE phrase : agrafe post bac\n",
      "NOUVELLE phrase : temps d'horloge post bac\n",
      "\n",
      "phrase initiale : peut on intégrer l école après le bac\n",
      "['étain on intégrer l école après le bac', 'boîte de conserve on intégrer l école après le bac']\n",
      "NOUVELLE phrase : étain on intégrer l école après le bac\n",
      "NOUVELLE phrase : boîte de conserve on intégrer l école après le bac\n",
      "\n",
      "phrase initiale : comment foncionne l ISEN\n",
      "['comment œuvres l ISEN', 'comment installation industrielle l ISEN']\n",
      "NOUVELLE phrase : comment œuvres l ISEN\n",
      "NOUVELLE phrase : comment installation industrielle l ISEN\n",
      "\n",
      "phrase initiale : comment est on formé à l isen \n",
      "['comment est on forme lexicale à l isen ', 'comment est on signifiant à l isen ']\n",
      "NOUVELLE phrase : comment est on forme lexicale à l isen \n",
      "NOUVELLE phrase : comment est on signifiant à l isen \n",
      "\n",
      "phrase initiale : quelles sont les différentes possibilités suivant mon profil \n",
      "['quelles ar les différentes possibilités suivant mon profil ', 'quelles être les différentes possibilités suivant mon profil ']\n",
      "NOUVELLE phrase : quelles ar les différentes possibilités suivant mon profil \n",
      "NOUVELLE phrase : quelles être les différentes possibilités suivant mon profil \n",
      "\n",
      "phrase initiale : quels sont les enseignements à l isen \n",
      "['quels ar les enseignements à l isen ', 'quels être les enseignements à l isen ']\n",
      "NOUVELLE phrase : quels ar les enseignements à l isen \n",
      "NOUVELLE phrase : quels être les enseignements à l isen \n",
      "\n",
      "phrase initiale : 204 écoles d ingénieurs\n",
      "['204 école d ingénieurs', '204 scolarité d ingénieurs']\n",
      "NOUVELLE phrase : 204 école d ingénieurs\n",
      "NOUVELLE phrase : 204 scolarité d ingénieurs\n",
      "\n",
      "phrase initiale : ingénieur français\n",
      "['scientifique appliqué français', 'technologue français']\n",
      "NOUVELLE phrase : scientifique appliqué français\n",
      "NOUVELLE phrase : technologue français\n",
      "\n",
      "phrase initiale : C est quoi Yncréa Ouest  \n",
      "[]\n",
      "\n",
      "phrase initiale : Combien y a t il d écoles dans l ouest \n",
      "['Combien y a t il d école dans l ouest ', 'Combien y a t il d scolarité dans l ouest ']\n",
      "NOUVELLE phrase : Combien y a t il d école dans l ouest \n",
      "NOUVELLE phrase : Combien y a t il d scolarité dans l ouest \n",
      "\n",
      "phrase initiale : Quels sont les campus de l ISEN Ouest  \n",
      "['Quels ar les campus de l ISEN Ouest  ', 'Quels être les campus de l ISEN Ouest  ']\n",
      "NOUVELLE phrase : Quels ar les campus de l ISEN Ouest  \n",
      "NOUVELLE phrase : Quels être les campus de l ISEN Ouest  \n",
      "\n",
      "phrase initiale : Brest  Caen  Nantes et Rennes\n",
      "['Brest  Caen  Nantes et Rennes', 'Brest  Caen  Nantes et caribou']\n",
      "NOUVELLE phrase : Brest  Caen  Nantes et Rennes\n",
      "NOUVELLE phrase : Brest  Caen  Nantes et caribou\n",
      "\n",
      "phrase initiale : Où peut on étudier à l ISEN \n",
      "['Où étain on étudier à l ISEN ', 'Où boîte de conserve on étudier à l ISEN ']\n",
      "NOUVELLE phrase : Où étain on étudier à l ISEN \n",
      "NOUVELLE phrase : Où boîte de conserve on étudier à l ISEN \n",
      "\n",
      "phrase initiale : quelles sont les centre de formation de l isen \n",
      "['quelles ar les centre de formation de l isen ', 'quelles être les centre de formation de l isen ']\n",
      "NOUVELLE phrase : quelles ar les centre de formation de l isen \n",
      "NOUVELLE phrase : quelles être les centre de formation de l isen \n",
      "\n",
      "phrase initiale : quelle est la localisation de l ISEN \n",
      "['quelle est la placement de l ISEN ', 'quelle est la localiser de l ISEN ']\n",
      "NOUVELLE phrase : quelle est la placement de l ISEN \n",
      "NOUVELLE phrase : quelle est la localiser de l ISEN \n",
      "\n",
      "phrase initiale : Quelles sont les certifications d Yncréa  \n",
      "['Quelles ar les certifications d Yncréa  ', 'Quelles être les certifications d Yncréa  ']\n",
      "NOUVELLE phrase : Quelles ar les certifications d Yncréa  \n",
      "NOUVELLE phrase : Quelles être les certifications d Yncréa  \n",
      "\n",
      "phrase initiale : L isen est il sous contrat avec le Ministère de l Enseignement Supérieur et de la Recherche  \n",
      "['L isen est il en dessous de contrat avec le Ministère de l Enseignement Supérieur et de la Recherche  ', 'L isen est il au dessous de contrat avec le Ministère de l Enseignement Supérieur et de la Recherche  ']\n",
      "NOUVELLE phrase : L isen est il en dessous de contrat avec le Ministère de l Enseignement Supérieur et de la Recherche  \n",
      "NOUVELLE phrase : L isen est il au dessous de contrat avec le Ministère de l Enseignement Supérieur et de la Recherche  \n",
      "\n",
      "phrase initiale : L isen est il sous contrat avec le MESR  \n",
      "['L isen est il en dessous de contrat avec le MESR  ', 'L isen est il au dessous de contrat avec le MESR  ']\n",
      "NOUVELLE phrase : L isen est il en dessous de contrat avec le MESR  \n",
      "NOUVELLE phrase : L isen est il au dessous de contrat avec le MESR  \n",
      "\n",
      "phrase initiale : gage de qualité de l isen\n",
      "['griller de qualité de l isen', 'assurance de qualité de l isen']\n",
      "NOUVELLE phrase : griller de qualité de l isen\n",
      "NOUVELLE phrase : assurance de qualité de l isen\n",
      "\n",
      "phrase initiale : MESR\n",
      "[]\n",
      "\n",
      "phrase initiale : L isen est il reconnu de quelconques manières \n",
      "['L isen est il reconnaître de quelconques manières ', 'L isen est il connaître de quelconques manières ']\n",
      "NOUVELLE phrase : L isen est il reconnaître de quelconques manières \n",
      "NOUVELLE phrase : L isen est il connaître de quelconques manières \n",
      "\n",
      "phrase initiale : Qu offre l ISEN en terme d assurrance de reconnaissance du niveau de sortie \n",
      "['Qu offre l ISEN en terme d assurrance de reconnaissance du niveau de sortie ', 'Qu fissure l ISEN en terme d assurrance de reconnaissance du niveau de sortie ']\n",
      "NOUVELLE phrase : Qu offre l ISEN en terme d assurrance de reconnaissance du niveau de sortie \n",
      "NOUVELLE phrase : Qu fissure l ISEN en terme d assurrance de reconnaissance du niveau de sortie \n",
      "\n",
      "phrase initiale : Quel est le taux d insertion des jeunes diplômés  \n",
      "['Quel est le charge per unit d insertion des jeunes diplômés  ', 'Quel est le rythme d insertion des jeunes diplômés  ']\n",
      "NOUVELLE phrase : Quel est le charge per unit d insertion des jeunes diplômés  \n",
      "NOUVELLE phrase : Quel est le rythme d insertion des jeunes diplômés  \n",
      "\n",
      "phrase initiale : taux d insertion\n",
      "['charge per unit d insertion', 'rythme d insertion']\n",
      "NOUVELLE phrase : charge per unit d insertion\n",
      "NOUVELLE phrase : rythme d insertion\n",
      "\n",
      "phrase initiale : Où sont embauchés les jeunes diplômés  \n",
      "['Où ar embauchés les jeunes diplômés  ', 'Où être embauchés les jeunes diplômés  ']\n",
      "NOUVELLE phrase : Où ar embauchés les jeunes diplômés  \n",
      "NOUVELLE phrase : Où être embauchés les jeunes diplômés  \n",
      "\n",
      "phrase initiale : lieu d embauche\n",
      "['placement d embauche', 'localiser d embauche']\n",
      "NOUVELLE phrase : placement d embauche\n",
      "NOUVELLE phrase : localiser d embauche\n",
      "\n",
      "phrase initiale : Quels sont les lieux de travail après diplôme  \n",
      "['Quels ar les lieux de travail après diplôme  ', 'Quels être les lieux de travail après diplôme  ']\n",
      "NOUVELLE phrase : Quels ar les lieux de travail après diplôme  \n",
      "NOUVELLE phrase : Quels être les lieux de travail après diplôme  \n",
      "\n",
      "phrase initiale : Trouve t on facilement du diplôme après l isen \n",
      "['percée t on facilement du diplôme après l isen ', 'trouver t on facilement du diplôme après l isen ']\n",
      "NOUVELLE phrase : percée t on facilement du diplôme après l isen \n",
      "NOUVELLE phrase : trouver t on facilement du diplôme après l isen \n",
      "\n",
      "phrase initiale : Est on obligé de travailler sur paris après notre diplome \n",
      "['Est on obligé de travailler sur Paris après notre diplome ', 'Est on obligé de travailler sur Ville de lumière après notre diplome ']\n",
      "NOUVELLE phrase : Est on obligé de travailler sur Paris après notre diplome \n",
      "NOUVELLE phrase : Est on obligé de travailler sur Ville de lumière après notre diplome \n",
      "\n",
      "phrase initiale : Quelle est le taux d embauches après l ISEN \n",
      "['Quelle est le charge per unit d embauches après l ISEN ', 'Quelle est le rythme d embauches après l ISEN ']\n",
      "NOUVELLE phrase : Quelle est le charge per unit d embauches après l ISEN \n",
      "NOUVELLE phrase : Quelle est le rythme d embauches après l ISEN \n",
      "\n",
      "phrase initiale : C est quoi Yncrea  \n",
      "[]\n",
      "\n",
      "phrase initiale : Qu est ce que Yncréa  \n",
      "[]\n",
      "\n",
      "phrase initiale : Yncrea\n",
      "[]\n",
      "\n",
      "phrase initiale : Junia\n",
      "[]\n",
      "\n",
      "phrase initiale : Yncrea ouest\n",
      "[]\n",
      "\n",
      "phrase initiale : Yncrea medittérannée\n",
      "['Yncrea Mer Méditerranée']\n",
      "NOUVELLE phrase : Yncrea Mer Méditerranée\n",
      "\n",
      "phrase initiale : Yncrea Nord\n",
      "['Yncrea syndicat', 'Yncrea due north']\n",
      "NOUVELLE phrase : Yncrea syndicat\n",
      "NOUVELLE phrase : Yncrea due north\n",
      "\n",
      "phrase initiale : L isen fait elle est partie d un groupe \n",
      "['L isen fais elle est partie d un groupe ', 'L isen avoir elle est partie d un groupe ']\n",
      "NOUVELLE phrase : L isen fais elle est partie d un groupe \n",
      "NOUVELLE phrase : L isen avoir elle est partie d un groupe \n",
      "\n",
      "phrase initiale : Pourquoi Yncrea \n",
      "['pour cette raison Yncrea ']\n",
      "NOUVELLE phrase : pour cette raison Yncrea \n",
      "\n",
      "phrase initiale : Quelle différences entre l isen et l Yncrea \n",
      "['Quelle déviation entre l isen et l Yncrea ', 'Quelle divergence entre l isen et l Yncrea ']\n",
      "NOUVELLE phrase : Quelle déviation entre l isen et l Yncrea \n",
      "NOUVELLE phrase : Quelle divergence entre l isen et l Yncrea \n",
      "\n",
      "phrase initiale : Combien y a t il d étudiants  \n",
      "['Combien y a t il d instruit  ', 'Combien y a t il d savant  ']\n",
      "NOUVELLE phrase : Combien y a t il d instruit  \n",
      "NOUVELLE phrase : Combien y a t il d savant  \n",
      "\n",
      "phrase initiale : Combien y a t il d enseignants permanents \n",
      "['Combien y a t il d instructeur permanents ', 'Combien y a t il d enseignants vague permanente ']\n",
      "NOUVELLE phrase : Combien y a t il d instructeur permanents \n",
      "NOUVELLE phrase : Combien y a t il d enseignants vague permanente \n",
      "\n",
      "phrase initiale : Combien y a t il d alumnis  \n",
      "['Combien y a t il d ancienne élève  ', 'Combien y a t il d alun  ']\n",
      "NOUVELLE phrase : Combien y a t il d ancienne élève  \n",
      "NOUVELLE phrase : Combien y a t il d alun  \n",
      "\n",
      "phrase initiale : nombre étudiants\n",
      "['chiffre étudiants', 'acte étudiants']\n",
      "NOUVELLE phrase : chiffre étudiants\n",
      "NOUVELLE phrase : acte étudiants\n",
      "\n",
      "phrase initiale : nombre élèves\n",
      "['chiffre élèves', 'acte élèves']\n",
      "NOUVELLE phrase : chiffre élèves\n",
      "NOUVELLE phrase : acte élèves\n",
      "\n",
      "phrase initiale : Quelles est le chiffre d étudiants à l isen \n",
      "['Quelles est le figure d étudiants à l isen ', 'Quelles est le corps humain d étudiants à l isen ']\n",
      "NOUVELLE phrase : Quelles est le figure d étudiants à l isen \n",
      "NOUVELLE phrase : Quelles est le corps humain d étudiants à l isen \n",
      "\n",
      "phrase initiale : Quelle est la population de l isen \n",
      "['Quelle est la univers de l isen ']\n",
      "NOUVELLE phrase : Quelle est la univers de l isen \n",
      "\n",
      "phrase initiale : Quels sont les tarifs du cycle CGSI  \n",
      "['Quels ar les tarifs du cycle CGSI  ', 'Quels être les tarifs du cycle CGSI  ']\n",
      "NOUVELLE phrase : Quels ar les tarifs du cycle CGSI  \n",
      "NOUVELLE phrase : Quels être les tarifs du cycle CGSI  \n",
      "\n",
      "phrase initiale : prix CGSI\n",
      "['le prix CGSI', 'Coût CGSI']\n",
      "NOUVELLE phrase : le prix CGSI\n",
      "NOUVELLE phrase : Coût CGSI\n",
      "\n",
      "phrase initiale : Quels sont les frais de scolarité du cycle CGSI  \n",
      "['Quels ar les frais de scolarité du cycle CGSI  ', 'Quels être les frais de scolarité du cycle CGSI  ']\n",
      "NOUVELLE phrase : Quels ar les frais de scolarité du cycle CGSI  \n",
      "NOUVELLE phrase : Quels être les frais de scolarité du cycle CGSI  \n",
      "\n",
      "phrase initiale : Combien coûte les années 1 et 2 en CSI  \n",
      "['Combien valeur monétaire les années 1 et 2 en CSI  ', 'Combien le prix les années 1 et 2 en CSI  ']\n",
      "NOUVELLE phrase : Combien valeur monétaire les années 1 et 2 en CSI  \n",
      "NOUVELLE phrase : Combien le prix les années 1 et 2 en CSI  \n",
      "\n",
      "phrase initiale : Combien coûte les années 1 et 2 classes préparatoires implantées\n",
      "['Combien valeur monétaire les années 1 et 2 classes préparatoires implantées', 'Combien le prix les années 1 et 2 classes préparatoires implantées']\n",
      "NOUVELLE phrase : Combien valeur monétaire les années 1 et 2 classes préparatoires implantées\n",
      "NOUVELLE phrase : Combien le prix les années 1 et 2 classes préparatoires implantées\n",
      "\n",
      "phrase initiale : tarif CGSI\n",
      "['charge per unit CGSI', 'rythme CGSI']\n",
      "NOUVELLE phrase : charge per unit CGSI\n",
      "NOUVELLE phrase : rythme CGSI\n",
      "\n",
      "phrase initiale : tarif CSI\n",
      "['charge per unit CSI', 'rythme CSI']\n",
      "NOUVELLE phrase : charge per unit CSI\n",
      "NOUVELLE phrase : rythme CSI\n",
      "\n",
      "phrase initiale : Quelle est le montant d une année du cycle généraliste \n",
      "[\"Quelle est le somme d'argent d une année du cycle généraliste \", 'Quelle est le montant d une année du cycle généraliste ']\n",
      "NOUVELLE phrase : Quelle est le somme d'argent d une année du cycle généraliste \n",
      "NOUVELLE phrase : Quelle est le montant d une année du cycle généraliste \n",
      "\n",
      "phrase initiale : une année du cycle généraliste  ça coute combien \n",
      "['une classer du cycle généraliste  ça coute combien ', 'une année du cycle généraliste  ça coute combien ']\n",
      "NOUVELLE phrase : une classer du cycle généraliste  ça coute combien \n",
      "NOUVELLE phrase : une année du cycle généraliste  ça coute combien \n",
      "\n",
      "phrase initiale : Quels sont les tarifs du cycle CIR \n",
      "['Quels ar les tarifs du cycle CIR ', 'Quels être les tarifs du cycle CIR ']\n",
      "NOUVELLE phrase : Quels ar les tarifs du cycle CIR \n",
      "NOUVELLE phrase : Quels être les tarifs du cycle CIR \n",
      "\n",
      "phrase initiale : tarif CIR\n",
      "['charge per unit CIR', 'rythme CIR']\n",
      "NOUVELLE phrase : charge per unit CIR\n",
      "NOUVELLE phrase : rythme CIR\n",
      "\n",
      "phrase initiale : prix CIR\n",
      "['le prix CIR', 'Coût CIR']\n",
      "NOUVELLE phrase : le prix CIR\n",
      "NOUVELLE phrase : Coût CIR\n",
      "\n",
      "phrase initiale : Quels sont les frais de scolarité du cycle CIR \n",
      "['Quels ar les frais de scolarité du cycle CIR ', 'Quels être les frais de scolarité du cycle CIR ']\n",
      "NOUVELLE phrase : Quels ar les frais de scolarité du cycle CIR \n",
      "NOUVELLE phrase : Quels être les frais de scolarité du cycle CIR \n",
      "\n",
      "phrase initiale : Combien coûte les années 1 et 2 en CIR \n",
      "['Combien valeur monétaire les années 1 et 2 en CIR ', 'Combien le prix les années 1 et 2 en CIR ']\n",
      "NOUVELLE phrase : Combien valeur monétaire les années 1 et 2 en CIR \n",
      "NOUVELLE phrase : Combien le prix les années 1 et 2 en CIR \n",
      "\n",
      "phrase initiale : Combien coûte les années 1 et 2 en Cycle Informatique et Réseaux\n",
      "['Combien valeur monétaire les années 1 et 2 en Cycle Informatique et Réseaux', 'Combien le prix les années 1 et 2 en Cycle Informatique et Réseaux']\n",
      "NOUVELLE phrase : Combien valeur monétaire les années 1 et 2 en Cycle Informatique et Réseaux\n",
      "NOUVELLE phrase : Combien le prix les années 1 et 2 en Cycle Informatique et Réseaux\n",
      "\n",
      "phrase initiale : Quelle est le montant d une année du cycle informatique \n",
      "[\"Quelle est le somme d'argent d une année du cycle informatique \", 'Quelle est le montant d une année du cycle informatique ']\n",
      "NOUVELLE phrase : Quelle est le somme d'argent d une année du cycle informatique \n",
      "NOUVELLE phrase : Quelle est le montant d une année du cycle informatique \n",
      "\n",
      "phrase initiale : une année du cycle informatique  ça coute combien \n",
      "['une classer du cycle informatique  ça coute combien ', 'une année du cycle informatique  ça coute combien ']\n",
      "NOUVELLE phrase : une classer du cycle informatique  ça coute combien \n",
      "NOUVELLE phrase : une année du cycle informatique  ça coute combien \n",
      "\n",
      "phrase initiale : Quels sont les tarifs du cycle BIOST \n",
      "['Quels ar les tarifs du cycle BIOST ', 'Quels être les tarifs du cycle BIOST ']\n",
      "NOUVELLE phrase : Quels ar les tarifs du cycle BIOST \n",
      "NOUVELLE phrase : Quels être les tarifs du cycle BIOST \n",
      "\n",
      "phrase initiale : tarif BIOST\n",
      "['charge per unit BIOST', 'rythme BIOST']\n",
      "NOUVELLE phrase : charge per unit BIOST\n",
      "NOUVELLE phrase : rythme BIOST\n",
      "\n",
      "phrase initiale : prix BIOST\n",
      "['le prix BIOST', 'Coût BIOST']\n",
      "NOUVELLE phrase : le prix BIOST\n",
      "NOUVELLE phrase : Coût BIOST\n",
      "\n",
      "phrase initiale : Quels sont les frais de scolarité du cycle BIOST \n",
      "['Quels ar les frais de scolarité du cycle BIOST ', 'Quels être les frais de scolarité du cycle BIOST ']\n",
      "NOUVELLE phrase : Quels ar les frais de scolarité du cycle BIOST \n",
      "NOUVELLE phrase : Quels être les frais de scolarité du cycle BIOST \n",
      "\n",
      "phrase initiale : Combien coûte les années 1 et 2 en BIOST \n",
      "['Combien valeur monétaire les années 1 et 2 en BIOST ', 'Combien le prix les années 1 et 2 en BIOST ']\n",
      "NOUVELLE phrase : Combien valeur monétaire les années 1 et 2 en BIOST \n",
      "NOUVELLE phrase : Combien le prix les années 1 et 2 en BIOST \n",
      "\n",
      "phrase initiale : Combien coûte les années 1 et 2 en Cycle Biologie  Sciences et Technologies\n",
      "['Combien valeur monétaire les années 1 et 2 en Cycle Biologie  Sciences et Technologies', 'Combien le prix les années 1 et 2 en Cycle Biologie  Sciences et Technologies']\n",
      "NOUVELLE phrase : Combien valeur monétaire les années 1 et 2 en Cycle Biologie  Sciences et Technologies\n",
      "NOUVELLE phrase : Combien le prix les années 1 et 2 en Cycle Biologie  Sciences et Technologies\n",
      "\n",
      "phrase initiale : Quelle est le montant d une année du cycle biologique \n",
      "[\"Quelle est le somme d'argent d une année du cycle biologique \", 'Quelle est le montant d une année du cycle biologique ']\n",
      "NOUVELLE phrase : Quelle est le somme d'argent d une année du cycle biologique \n",
      "NOUVELLE phrase : Quelle est le montant d une année du cycle biologique \n",
      "\n",
      "phrase initiale : une année du cycle biologique  ça coute combien \n",
      "['une classer du cycle biologique  ça coute combien ', 'une année du cycle biologique  ça coute combien ']\n",
      "NOUVELLE phrase : une classer du cycle biologique  ça coute combien \n",
      "NOUVELLE phrase : une année du cycle biologique  ça coute combien \n",
      "\n",
      "phrase initiale : Quels sont les tarifs du cycle CENT  \n",
      "Peut être que votre phrase n'est pas dans la bonne langue (Français) ou que vous n'avez rien mis en entrée de la fonction\n",
      "None\n",
      "Quels sont les tarifs du cycle CENT   n'a pas pu avoir de phrases synonymes\n",
      "\n",
      "phrase initiale : tarif CENT\n",
      "Peut être que votre phrase n'est pas dans la bonne langue (Français) ou que vous n'avez rien mis en entrée de la fonction\n",
      "None\n",
      "tarif CENT n'a pas pu avoir de phrases synonymes\n",
      "\n",
      "phrase initiale : Prix CENT\n",
      "Peut être que votre phrase n'est pas dans la bonne langue (Français) ou que vous n'avez rien mis en entrée de la fonction\n",
      "None\n",
      "Prix CENT n'a pas pu avoir de phrases synonymes\n",
      "\n",
      "phrase initiale : Quels sont les frais de scolarité du cycle CENT  \n",
      "Peut être que votre phrase n'est pas dans la bonne langue (Français) ou que vous n'avez rien mis en entrée de la fonction\n",
      "None\n",
      "Quels sont les frais de scolarité du cycle CENT   n'a pas pu avoir de phrases synonymes\n",
      "\n",
      "phrase initiale : Combien coûte les années 1 et 2 en CENT  \n",
      "Peut être que votre phrase n'est pas dans la bonne langue (Français) ou que vous n'avez rien mis en entrée de la fonction\n",
      "None\n",
      "Combien coûte les années 1 et 2 en CENT   n'a pas pu avoir de phrases synonymes\n",
      "\n",
      "phrase initiale : Combien coûte les années 1 et 2 en Cycle Economie Numérique et Technologies\n",
      "['Combien valeur monétaire les années 1 et 2 en Cycle Economie Numérique et Technologies', 'Combien le prix les années 1 et 2 en Cycle Economie Numérique et Technologies']\n",
      "NOUVELLE phrase : Combien valeur monétaire les années 1 et 2 en Cycle Economie Numérique et Technologies\n",
      "NOUVELLE phrase : Combien le prix les années 1 et 2 en Cycle Economie Numérique et Technologies\n",
      "\n",
      "phrase initiale : Quelle est le montant d une année du cycle economie \n",
      "[\"Quelle est le somme d'argent d une année du cycle economie \", 'Quelle est le montant d une année du cycle economie ']\n",
      "NOUVELLE phrase : Quelle est le somme d'argent d une année du cycle economie \n",
      "NOUVELLE phrase : Quelle est le montant d une année du cycle economie \n",
      "\n",
      "phrase initiale : une année du cycle economie  ça coute combien \n",
      "['une classer du cycle economie  ça coute combien ', 'une année du cycle economie  ça coute combien ']\n",
      "NOUVELLE phrase : une classer du cycle economie  ça coute combien \n",
      "NOUVELLE phrase : une année du cycle economie  ça coute combien \n",
      "\n",
      "phrase initiale : Quels sont les tarifs du cycle EST \n",
      "['Quels ar les tarifs du cycle EST ', 'Quels être les tarifs du cycle EST ']\n",
      "NOUVELLE phrase : Quels ar les tarifs du cycle EST \n",
      "NOUVELLE phrase : Quels être les tarifs du cycle EST \n",
      "\n",
      "phrase initiale : tarif EST\n",
      "['charge per unit EST', 'rythme EST']\n",
      "NOUVELLE phrase : charge per unit EST\n",
      "NOUVELLE phrase : rythme EST\n",
      "\n",
      "phrase initiale : prix EST\n",
      "['le prix EST', 'Coût EST']\n",
      "NOUVELLE phrase : le prix EST\n",
      "NOUVELLE phrase : Coût EST\n",
      "\n",
      "phrase initiale : Quels sont les frais de scolarité du cycle EST \n",
      "['Quels ar les frais de scolarité du cycle EST ', 'Quels être les frais de scolarité du cycle EST ']\n",
      "NOUVELLE phrase : Quels ar les frais de scolarité du cycle EST \n",
      "NOUVELLE phrase : Quels être les frais de scolarité du cycle EST \n",
      "\n",
      "phrase initiale : Combien coûte les années 1 et 2 en EST \n",
      "['Combien valeur monétaire les années 1 et 2 en EST ', 'Combien le prix les années 1 et 2 en EST ']\n",
      "NOUVELLE phrase : Combien valeur monétaire les années 1 et 2 en EST \n",
      "NOUVELLE phrase : Combien le prix les années 1 et 2 en EST \n",
      "\n",
      "phrase initiale : Combien coûte les années 1 et 2 en Cycle Environnement  Sciences et Technologies\n",
      "['Combien valeur monétaire les années 1 et 2 en Cycle Environnement  Sciences et Technologies', 'Combien le prix les années 1 et 2 en Cycle Environnement  Sciences et Technologies']\n",
      "NOUVELLE phrase : Combien valeur monétaire les années 1 et 2 en Cycle Environnement  Sciences et Technologies\n",
      "NOUVELLE phrase : Combien le prix les années 1 et 2 en Cycle Environnement  Sciences et Technologies\n",
      "\n",
      "phrase initiale : Quelle est le montant d une année du cycle environnement \n",
      "[\"Quelle est le somme d'argent d une année du cycle environnement \", 'Quelle est le montant d une année du cycle environnement ']\n",
      "NOUVELLE phrase : Quelle est le somme d'argent d une année du cycle environnement \n",
      "NOUVELLE phrase : Quelle est le montant d une année du cycle environnement \n",
      "\n",
      "phrase initiale : une année du cycle environnement  ça coute combien \n",
      "['une classer du cycle environnement  ça coute combien ', 'une année du cycle environnement  ça coute combien ']\n",
      "NOUVELLE phrase : une classer du cycle environnement  ça coute combien \n",
      "NOUVELLE phrase : une année du cycle environnement  ça coute combien \n",
      "\n",
      "phrase initiale : Quels sont les tarifs du cycle BIAST \n",
      "['Quels ar les tarifs du cycle BIAST ', 'Quels être les tarifs du cycle BIAST ']\n",
      "NOUVELLE phrase : Quels ar les tarifs du cycle BIAST \n",
      "NOUVELLE phrase : Quels être les tarifs du cycle BIAST \n",
      "\n",
      "phrase initiale : Tarif BIAST\n",
      "['charge per unit BIAST', 'rythme BIAST']\n",
      "NOUVELLE phrase : charge per unit BIAST\n",
      "NOUVELLE phrase : rythme BIAST\n",
      "\n",
      "phrase initiale : prix BIAST\n",
      "['le prix BIAST', 'Coût BIAST']\n",
      "NOUVELLE phrase : le prix BIAST\n",
      "NOUVELLE phrase : Coût BIAST\n",
      "\n",
      "phrase initiale : Quels sont les frais de scolarité du cycle BIAST \n",
      "['Quels ar les frais de scolarité du cycle BIAST ', 'Quels être les frais de scolarité du cycle BIAST ']\n",
      "NOUVELLE phrase : Quels ar les frais de scolarité du cycle BIAST \n",
      "NOUVELLE phrase : Quels être les frais de scolarité du cycle BIAST \n",
      "\n",
      "phrase initiale : Combien coûte les années 1 et 2 en BIAST \n",
      "['Combien valeur monétaire les années 1 et 2 en BIAST ', 'Combien le prix les années 1 et 2 en BIAST ']\n",
      "NOUVELLE phrase : Combien valeur monétaire les années 1 et 2 en BIAST \n",
      "NOUVELLE phrase : Combien le prix les années 1 et 2 en BIAST \n",
      "\n",
      "phrase initiale : Combien coûte les années 1 et 2 en Cycle Biologie  Agronomie  Sciences et Technologies\n",
      "['Combien valeur monétaire les années 1 et 2 en Cycle Biologie  Agronomie  Sciences et Technologies', 'Combien le prix les années 1 et 2 en Cycle Biologie  Agronomie  Sciences et Technologies']\n",
      "NOUVELLE phrase : Combien valeur monétaire les années 1 et 2 en Cycle Biologie  Agronomie  Sciences et Technologies\n",
      "NOUVELLE phrase : Combien le prix les années 1 et 2 en Cycle Biologie  Agronomie  Sciences et Technologies\n",
      "\n",
      "phrase initiale : Quelle est le montant d une année du cycle agronomie \n",
      "[\"Quelle est le somme d'argent d une année du cycle agronomie \", 'Quelle est le montant d une année du cycle agronomie ']\n",
      "NOUVELLE phrase : Quelle est le somme d'argent d une année du cycle agronomie \n",
      "NOUVELLE phrase : Quelle est le montant d une année du cycle agronomie \n",
      "\n",
      "phrase initiale : une année du cycle agronomie  ça coute combien \n",
      "['une classer du cycle agronomie  ça coute combien ', 'une année du cycle agronomie  ça coute combien ']\n",
      "NOUVELLE phrase : une classer du cycle agronomie  ça coute combien \n",
      "NOUVELLE phrase : une année du cycle agronomie  ça coute combien \n",
      "\n",
      "phrase initiale : Quels sont les tarifs du cycle ingénieur \n",
      "['Quels ar les tarifs du cycle ingénieur ', 'Quels être les tarifs du cycle ingénieur ']\n",
      "NOUVELLE phrase : Quels ar les tarifs du cycle ingénieur \n",
      "NOUVELLE phrase : Quels être les tarifs du cycle ingénieur \n",
      "\n",
      "phrase initiale : Quel est le prix à BAC+3\n",
      "['Quel est le le prix à BAC+3', 'Quel est le Coût à BAC+3']\n",
      "NOUVELLE phrase : Quel est le le prix à BAC+3\n",
      "NOUVELLE phrase : Quel est le Coût à BAC+3\n",
      "\n",
      "phrase initiale : Quel est le tarif du cycle ingénieur \n",
      "['Quel est le charge per unit du cycle ingénieur ', 'Quel est le rythme du cycle ingénieur ']\n",
      "NOUVELLE phrase : Quel est le charge per unit du cycle ingénieur \n",
      "NOUVELLE phrase : Quel est le rythme du cycle ingénieur \n",
      "\n",
      "phrase initiale : prix des années 3  4 et 5\n",
      "['le prix des années 3  4 et 5', 'Coût des années 3  4 et 5']\n",
      "NOUVELLE phrase : le prix des années 3  4 et 5\n",
      "NOUVELLE phrase : Coût des années 3  4 et 5\n",
      "\n",
      "phrase initiale : prix années Master A3 M1 M2\n",
      "['le prix années Master A3 M1 M2', 'Coût années Master A3 M1 M2']\n",
      "NOUVELLE phrase : le prix années Master A3 M1 M2\n",
      "NOUVELLE phrase : Coût années Master A3 M1 M2\n",
      "\n",
      "phrase initiale : Quels sont les frais de scolarité en années 3  4 et 5  \n",
      "['Quels ar les frais de scolarité en années 3  4 et 5  ', 'Quels être les frais de scolarité en années 3  4 et 5  ']\n",
      "NOUVELLE phrase : Quels ar les frais de scolarité en années 3  4 et 5  \n",
      "NOUVELLE phrase : Quels être les frais de scolarité en années 3  4 et 5  \n",
      "\n",
      "phrase initiale : Combien coûte les années 3 à 5  \n",
      "['Combien valeur monétaire les années 3 à 5  ', 'Combien le prix les années 3 à 5  ']\n",
      "NOUVELLE phrase : Combien valeur monétaire les années 3 à 5  \n",
      "NOUVELLE phrase : Combien le prix les années 3 à 5  \n",
      "\n",
      "phrase initiale : Quelle est le montant d une année du cycle supérieur \n",
      "[\"Quelle est le somme d'argent d une année du cycle supérieur \", 'Quelle est le montant d une année du cycle supérieur ']\n",
      "NOUVELLE phrase : Quelle est le somme d'argent d une année du cycle supérieur \n",
      "NOUVELLE phrase : Quelle est le montant d une année du cycle supérieur \n",
      "\n",
      "phrase initiale : une année du cycle supérieur  ça coute combien \n",
      "['une classer du cycle supérieur  ça coute combien ', 'une année du cycle supérieur  ça coute combien ']\n",
      "NOUVELLE phrase : une classer du cycle supérieur  ça coute combien \n",
      "NOUVELLE phrase : une année du cycle supérieur  ça coute combien \n",
      "\n",
      "phrase initiale : Comment puis je payer l école  \n",
      "['Comment alors je payer l école  ', 'Comment et donc je payer l école  ']\n",
      "NOUVELLE phrase : Comment alors je payer l école  \n",
      "NOUVELLE phrase : Comment et donc je payer l école  \n",
      "\n",
      "phrase initiale : Comment puis je payer la formation \n",
      "['Comment alors je payer la formation ', 'Comment et donc je payer la formation ']\n",
      "NOUVELLE phrase : Comment alors je payer la formation \n",
      "NOUVELLE phrase : Comment et donc je payer la formation \n",
      "\n",
      "phrase initiale : Comment puis je payer l ISEN \n",
      "['Comment alors je payer l ISEN ', 'Comment et donc je payer l ISEN ']\n",
      "NOUVELLE phrase : Comment alors je payer l ISEN \n",
      "NOUVELLE phrase : Comment et donc je payer l ISEN \n",
      "\n",
      "phrase initiale : Comment financer mes études   \n",
      "['Comment financer mes enquête   ', 'Comment financer mes étude   ']\n",
      "NOUVELLE phrase : Comment financer mes enquête   \n",
      "NOUVELLE phrase : Comment financer mes étude   \n",
      "\n",
      "phrase initiale : bourses d  excellence\n",
      "['érudition d  excellence', 'apprentissage d  excellence']\n",
      "NOUVELLE phrase : érudition d  excellence\n",
      "NOUVELLE phrase : apprentissage d  excellence\n",
      "\n",
      "phrase initiale : Quelles sont les bourses disponibles \n",
      "['Quelles ar les bourses disponibles ', 'Quelles être les bourses disponibles ']\n",
      "NOUVELLE phrase : Quelles ar les bourses disponibles \n",
      "NOUVELLE phrase : Quelles être les bourses disponibles \n",
      "\n",
      "phrase initiale : ERASMUS est il disponible pour payer l isen\n",
      "['Desiderius Erasmus est il disponible pour payer l isen', 'Gerhard Gerhards est il disponible pour payer l isen']\n",
      "NOUVELLE phrase : Desiderius Erasmus est il disponible pour payer l isen\n",
      "NOUVELLE phrase : Gerhard Gerhards est il disponible pour payer l isen\n",
      "\n",
      "phrase initiale : l accès aux bourses est elle possible en intégrant l isen \n",
      "['l accéder aux bourses est elle possible en intégrant l isen ', 'l accession aux bourses est elle possible en intégrant l isen ']\n",
      "NOUVELLE phrase : l accéder aux bourses est elle possible en intégrant l isen \n",
      "NOUVELLE phrase : l accession aux bourses est elle possible en intégrant l isen \n",
      "\n",
      "phrase initiale : L isen dispose t elle de bourses d études \n",
      "['L isen HA t elle de bourses d études ', 'L isen avoir t elle de bourses d études ']\n",
      "NOUVELLE phrase : L isen HA t elle de bourses d études \n",
      "NOUVELLE phrase : L isen avoir t elle de bourses d études \n",
      "\n",
      "phrase initiale : une bourse est elle décrochable selon nos perfomances académiques \n",
      "['une bourse est elle oblitérable selon nos perfomances académiques ', 'une bourse est elle décrochable selon nos performance académiques ']\n",
      "NOUVELLE phrase : une bourse est elle oblitérable selon nos perfomances académiques \n",
      "NOUVELLE phrase : une bourse est elle décrochable selon nos performance académiques \n",
      "\n",
      "phrase initiale : Sportif de Haut Niveau\n",
      "['acrobatique de Haut Niveau', 'gymnastique de Haut Niveau']\n",
      "NOUVELLE phrase : acrobatique de Haut Niveau\n",
      "NOUVELLE phrase : gymnastique de Haut Niveau\n",
      "\n",
      "phrase initiale : Peut on être SHN \n",
      "['étain on être SHN ', 'boîte de conserve on être SHN ']\n",
      "NOUVELLE phrase : étain on être SHN \n",
      "NOUVELLE phrase : boîte de conserve on être SHN \n",
      "\n",
      "phrase initiale : Peut on être en Sport de Haut Niveau \n",
      "['étain on être en Sport de Haut Niveau ', 'boîte de conserve on être en Sport de Haut Niveau ']\n",
      "NOUVELLE phrase : étain on être en Sport de Haut Niveau \n",
      "NOUVELLE phrase : boîte de conserve on être en Sport de Haut Niveau \n",
      "\n",
      "phrase initiale : L isen est elle adaptée pour les Sportifs \n",
      "['L isen est elle accommoder pour les Sportifs ', 'L isen est elle régler pour les Sportifs ']\n",
      "NOUVELLE phrase : L isen est elle accommoder pour les Sportifs \n",
      "NOUVELLE phrase : L isen est elle régler pour les Sportifs \n",
      "\n",
      "phrase initiale : L isen est elle adaptée pour le Sport de compétition \n",
      "['L isen est elle accommoder pour le Sport de compétition ', 'L isen est elle régler pour le Sport de compétition ']\n",
      "NOUVELLE phrase : L isen est elle accommoder pour le Sport de compétition \n",
      "NOUVELLE phrase : L isen est elle régler pour le Sport de compétition \n",
      "\n",
      "phrase initiale : Peut on être accompagner en tant que sportif \n",
      "['étain on être accompagner en tant que sportif ', 'boîte de conserve on être accompagner en tant que sportif ']\n",
      "NOUVELLE phrase : étain on être accompagner en tant que sportif \n",
      "NOUVELLE phrase : boîte de conserve on être accompagner en tant que sportif \n",
      "\n",
      "phrase initiale : Puis je continuer mon activité sportive de haut niveau en intégrant l isen \n",
      "['alors je continuer mon activité sportive de haut niveau en intégrant l isen ', 'et donc je continuer mon activité sportive de haut niveau en intégrant l isen ']\n",
      "NOUVELLE phrase : alors je continuer mon activité sportive de haut niveau en intégrant l isen \n",
      "NOUVELLE phrase : et donc je continuer mon activité sportive de haut niveau en intégrant l isen \n",
      "\n",
      "phrase initiale : Un aménagement des horaires est il possible si je suis sportif de haut niveau \n",
      "['Un aménagement des ordre du jour est il possible si je suis sportif de haut niveau ', 'Un aménagement des rôle est il possible si je suis sportif de haut niveau ']\n",
      "NOUVELLE phrase : Un aménagement des ordre du jour est il possible si je suis sportif de haut niveau \n",
      "NOUVELLE phrase : Un aménagement des rôle est il possible si je suis sportif de haut niveau \n",
      "\n",
      "phrase initiale : Y a t il un Internat \n",
      "[]\n",
      "\n",
      "phrase initiale : Quels sont les logements autour de l école\n",
      "['Quels ar les logements autour de l école', 'Quels être les logements autour de l école']\n",
      "NOUVELLE phrase : Quels ar les logements autour de l école\n",
      "NOUVELLE phrase : Quels être les logements autour de l école\n",
      "\n",
      "phrase initiale : Quelles sont les résidences étudiantes \n",
      "['Quelles ar les résidences étudiantes ', 'Quelles être les résidences étudiantes ']\n",
      "NOUVELLE phrase : Quelles ar les résidences étudiantes \n",
      "NOUVELLE phrase : Quelles être les résidences étudiantes \n",
      "\n",
      "phrase initiale : Pourrais je avoir des informations sur les habitations autour \n",
      "['Pourrais je avoir des Info sur les habitations autour ', 'Pourrais je avoir des Les données sur les habitations autour ']\n",
      "NOUVELLE phrase : Pourrais je avoir des Info sur les habitations autour \n",
      "NOUVELLE phrase : Pourrais je avoir des Les données sur les habitations autour \n",
      "\n",
      "phrase initiale : où loger autour de l école \n",
      "['où Sir Oliver Lodge autour de l école ', 'où Sir Oliver Joseph Lodge autour de l école ']\n",
      "NOUVELLE phrase : où Sir Oliver Lodge autour de l école \n",
      "NOUVELLE phrase : où Sir Oliver Joseph Lodge autour de l école \n",
      "\n",
      "phrase initiale : Comment trouver un logement à proximité de l isen \n",
      "['Comment trouver un hébergement à proximité de l isen ', 'Comment trouver un logements de vie à proximité de l isen ']\n",
      "NOUVELLE phrase : Comment trouver un hébergement à proximité de l isen \n",
      "NOUVELLE phrase : Comment trouver un logements de vie à proximité de l isen \n",
      "\n",
      "phrase initiale : Où habiter si j intègre l isen \n",
      "['Où habiter si j déségréger l isen ', 'Où habiter si j mélanger l isen ']\n",
      "NOUVELLE phrase : Où habiter si j déségréger l isen \n",
      "NOUVELLE phrase : Où habiter si j mélanger l isen \n",
      "\n",
      "phrase initiale : Des conseils sur où se loger en intégrant l ISEN \n",
      "['Des conseils sur où se Loge en intégrant l ISEN ', 'Des conseils sur où se Sir Oliver Lodge en intégrant l ISEN ']\n",
      "NOUVELLE phrase : Des conseils sur où se Loge en intégrant l ISEN \n",
      "NOUVELLE phrase : Des conseils sur où se Sir Oliver Lodge en intégrant l ISEN \n",
      "\n",
      "phrase initiale : Quels sont les moyens de restauration \n",
      "['Quels ar les moyens de restauration ', 'Quels être les moyens de restauration ']\n",
      "NOUVELLE phrase : Quels ar les moyens de restauration \n",
      "NOUVELLE phrase : Quels être les moyens de restauration \n",
      "\n",
      "phrase initiale : Comment puis je manger \n",
      "['Comment alors je manger ', 'Comment et donc je manger ']\n",
      "NOUVELLE phrase : Comment alors je manger \n",
      "NOUVELLE phrase : Comment et donc je manger \n",
      "\n",
      "phrase initiale : Quels sont les lieux pour manger\n",
      "['Quels ar les lieux pour manger', 'Quels être les lieux pour manger']\n",
      "NOUVELLE phrase : Quels ar les lieux pour manger\n",
      "NOUVELLE phrase : Quels être les lieux pour manger\n",
      "\n",
      "phrase initiale : Y a t il une cafeteria \n",
      "[]\n",
      "\n",
      "phrase initiale : Puis je manger au Super u \n",
      "['alors je manger au Super u ', 'et donc je manger au Super u ']\n",
      "NOUVELLE phrase : alors je manger au Super u \n",
      "NOUVELLE phrase : et donc je manger au Super u \n",
      "\n",
      "phrase initiale : Comment se restaurer quand on étudie à l isen \n",
      "['Comment se reconstruire quand on étudie à l isen ', 'Comment se régénérer quand on étudie à l isen ']\n",
      "NOUVELLE phrase : Comment se reconstruire quand on étudie à l isen \n",
      "NOUVELLE phrase : Comment se régénérer quand on étudie à l isen \n",
      "\n",
      "phrase initiale : l isen possède t elle une cafétaria \n",
      "['l isen groupe comitatus t elle une cafétaria ', 'l isen posséder t elle une cafétaria ']\n",
      "NOUVELLE phrase : l isen groupe comitatus t elle une cafétaria \n",
      "NOUVELLE phrase : l isen posséder t elle une cafétaria \n",
      "\n",
      "phrase initiale : L isen est elle loin des restaurants universitaires \n",
      "['L isen est elle ALIR des restaurants universitaires ', 'L isen est elle Anciennes forces armées des restaurants universitaires ']\n",
      "NOUVELLE phrase : L isen est elle ALIR des restaurants universitaires \n",
      "NOUVELLE phrase : L isen est elle Anciennes forces armées des restaurants universitaires \n",
      "\n",
      "phrase initiale : Puis je visiter l isen\n",
      "['alors je visiter l isen', 'et donc je visiter l isen']\n",
      "NOUVELLE phrase : alors je visiter l isen\n",
      "NOUVELLE phrase : et donc je visiter l isen\n",
      "\n",
      "phrase initiale : Comment peut on découvrir le bâtiment\n",
      "['Comment étain on découvrir le bâtiment', 'Comment boîte de conserve on découvrir le bâtiment']\n",
      "NOUVELLE phrase : Comment étain on découvrir le bâtiment\n",
      "NOUVELLE phrase : Comment boîte de conserve on découvrir le bâtiment\n",
      "\n",
      "phrase initiale : Quelles sont les dates de Portes ouvertes\n",
      "['Quelles ar les dates de Portes ouvertes', 'Quelles être les dates de Portes ouvertes']\n",
      "NOUVELLE phrase : Quelles ar les dates de Portes ouvertes\n",
      "NOUVELLE phrase : Quelles être les dates de Portes ouvertes\n",
      "\n",
      "phrase initiale : nous rencontrer en portes ouvertes\n",
      "['nous sports meeting en portes ouvertes', 'nous percuter en portes ouvertes']\n",
      "NOUVELLE phrase : nous sports meeting en portes ouvertes\n",
      "NOUVELLE phrase : nous percuter en portes ouvertes\n",
      "\n",
      "phrase initiale : Peut on visiter l isen\n",
      "['étain on visiter l isen', 'boîte de conserve on visiter l isen']\n",
      "NOUVELLE phrase : étain on visiter l isen\n",
      "NOUVELLE phrase : boîte de conserve on visiter l isen\n",
      "\n",
      "phrase initiale : peut on découvrir l isen lors de portes ouvertes \n",
      "['étain on découvrir l isen lors de portes ouvertes ', 'boîte de conserve on découvrir l isen lors de portes ouvertes ']\n",
      "NOUVELLE phrase : étain on découvrir l isen lors de portes ouvertes \n",
      "NOUVELLE phrase : boîte de conserve on découvrir l isen lors de portes ouvertes \n",
      "\n",
      "phrase initiale : y a t il une possibilité de rencontrer les professeurs et visiter l établissement \n",
      "['y a t il une hypothèse de rencontrer les professeurs et visiter l établissement ', 'y a t il une théorie de rencontrer les professeurs et visiter l établissement ']\n",
      "NOUVELLE phrase : y a t il une hypothèse de rencontrer les professeurs et visiter l établissement \n",
      "NOUVELLE phrase : y a t il une théorie de rencontrer les professeurs et visiter l établissement \n",
      "\n",
      "phrase initiale : L école est elle adaptée aux Handicaps\n",
      "['L école est elle adaptée aux Handicaps', 'L scolarité est elle adaptée aux Handicaps']\n",
      "NOUVELLE phrase : L école est elle adaptée aux Handicaps\n",
      "NOUVELLE phrase : L scolarité est elle adaptée aux Handicaps\n",
      "\n",
      "phrase initiale : Peut on avoir un tiers temps\n",
      "['étain on avoir un tiers temps', 'boîte de conserve on avoir un tiers temps']\n",
      "NOUVELLE phrase : étain on avoir un tiers temps\n",
      "NOUVELLE phrase : boîte de conserve on avoir un tiers temps\n",
      "\n",
      "phrase initiale : A t on des aménagements handicaps\n",
      "['A t on des conforts de créature handicaps', 'A t on des Agréments handicaps']\n",
      "NOUVELLE phrase : A t on des conforts de créature handicaps\n",
      "NOUVELLE phrase : A t on des Agréments handicaps\n",
      "\n",
      "phrase initiale : Peut on y venir avec un fauteuil roulant\n",
      "['étain on y venir avec un fauteuil roulant', 'boîte de conserve on y venir avec un fauteuil roulant']\n",
      "NOUVELLE phrase : étain on y venir avec un fauteuil roulant\n",
      "NOUVELLE phrase : boîte de conserve on y venir avec un fauteuil roulant\n",
      "\n",
      "phrase initiale : Le batiment est il accessible pour les personnes à mobilité réduite\n",
      "['Le édifice est il accessible pour les personnes à mobilité réduite', 'Le construction est il accessible pour les personnes à mobilité réduite']\n",
      "NOUVELLE phrase : Le édifice est il accessible pour les personnes à mobilité réduite\n",
      "NOUVELLE phrase : Le construction est il accessible pour les personnes à mobilité réduite\n",
      "\n",
      "phrase initiale : Je suis en situation de handicap  l isen a t elle les capacités de me recevoir \n",
      "['Je Un m en situation de handicap  l isen a t elle les capacités de me recevoir ', 'Je numéro atomique 95 en situation de handicap  l isen a t elle les capacités de me recevoir ']\n",
      "NOUVELLE phrase : Je Un m en situation de handicap  l isen a t elle les capacités de me recevoir \n",
      "NOUVELLE phrase : Je numéro atomique 95 en situation de handicap  l isen a t elle les capacités de me recevoir \n",
      "\n",
      "phrase initiale : L isen est elle habilité a accueillir les étudiants ayant besoin d aménagement spécifiques \n",
      "['L isen est elle passe a accueillir les étudiants ayant besoin d aménagement spécifiques ', 'L isen est elle dégager a accueillir les étudiants ayant besoin d aménagement spécifiques ']\n",
      "NOUVELLE phrase : L isen est elle passe a accueillir les étudiants ayant besoin d aménagement spécifiques \n",
      "NOUVELLE phrase : L isen est elle dégager a accueillir les étudiants ayant besoin d aménagement spécifiques \n",
      "\n",
      "phrase initiale : Quels sont les clubs isen\n",
      "['Quels ar les clubs isen', 'Quels être les clubs isen']\n",
      "NOUVELLE phrase : Quels ar les clubs isen\n",
      "NOUVELLE phrase : Quels être les clubs isen\n",
      "\n",
      "phrase initiale : Quelles sont les associations étudiantes\n",
      "['Quelles ar les associations étudiantes', 'Quelles être les associations étudiantes']\n",
      "NOUVELLE phrase : Quelles ar les associations étudiantes\n",
      "NOUVELLE phrase : Quelles être les associations étudiantes\n",
      "\n",
      "phrase initiale : Peut on en savoir plus sur la vie étudiante\n",
      "['étain on en savoir plus sur la vie étudiante', 'boîte de conserve on en savoir plus sur la vie étudiante']\n",
      "NOUVELLE phrase : étain on en savoir plus sur la vie étudiante\n",
      "NOUVELLE phrase : boîte de conserve on en savoir plus sur la vie étudiante\n",
      "\n",
      "phrase initiale : Quel est le club digitaldesign\n",
      "['Quel est le ball club digitaldesign', 'Quel est le club digitaldesign']\n",
      "NOUVELLE phrase : Quel est le ball club digitaldesign\n",
      "NOUVELLE phrase : Quel est le club digitaldesign\n",
      "\n",
      "phrase initiale : Quel est le club 4Ltrophy\n",
      "['Quel est le ball club 4Ltrophy', 'Quel est le club 4Ltrophy']\n",
      "NOUVELLE phrase : Quel est le ball club 4Ltrophy\n",
      "NOUVELLE phrase : Quel est le club 4Ltrophy\n",
      "\n",
      "phrase initiale : Quel est le club BDD\n",
      "['Quel est le ball club BDD', 'Quel est le club BDD']\n",
      "NOUVELLE phrase : Quel est le ball club BDD\n",
      "NOUVELLE phrase : Quel est le club BDD\n",
      "\n",
      "phrase initiale : Quel est le club BDI\n",
      "['Quel est le ball club BDI', 'Quel est le club BDI']\n",
      "NOUVELLE phrase : Quel est le ball club BDI\n",
      "NOUVELLE phrase : Quel est le club BDI\n",
      "\n",
      "phrase initiale : Quel est le club BDS\n",
      "['Quel est le ball club BDS', 'Quel est le club BDS']\n",
      "NOUVELLE phrase : Quel est le ball club BDS\n",
      "NOUVELLE phrase : Quel est le club BDS\n",
      "\n",
      "phrase initiale : Quel est le club club évasion\n",
      "['Quel est le ball club ball club évasion', 'Quel est le club club évasion']\n",
      "NOUVELLE phrase : Quel est le ball club ball club évasion\n",
      "NOUVELLE phrase : Quel est le club club évasion\n",
      "\n",
      "phrase initiale : BDA\n",
      "[]\n",
      "\n",
      "phrase initiale : Quelle est la vie étudiante au sein de l ISEN \n",
      "['Quelle est la vie instruit au sein de l ISEN ', 'Quelle est la vie savant au sein de l ISEN ']\n",
      "NOUVELLE phrase : Quelle est la vie instruit au sein de l ISEN \n",
      "NOUVELLE phrase : Quelle est la vie savant au sein de l ISEN \n",
      "\n",
      "phrase initiale : L isen possède t elle des associations pour développer la vie étudiante \n",
      "['L isen groupe comitatus t elle des associations pour développer la vie étudiante ', 'L isen posséder t elle des associations pour développer la vie étudiante ']\n",
      "NOUVELLE phrase : L isen groupe comitatus t elle des associations pour développer la vie étudiante \n",
      "NOUVELLE phrase : L isen posséder t elle des associations pour développer la vie étudiante \n",
      "\n",
      "phrase initiale : Qu offre l isen en dehors des enseignements obligatoires \n",
      "['Qu offre l isen en dehors des enseignements obligatoires ', 'Qu fissure l isen en dehors des enseignements obligatoires ']\n",
      "NOUVELLE phrase : Qu offre l isen en dehors des enseignements obligatoires \n",
      "NOUVELLE phrase : Qu fissure l isen en dehors des enseignements obligatoires \n",
      "\n",
      "phrase initiale : Comment est la ville de Brest\n",
      "['Comment est la les citadins de Brest', 'Comment est la citadins de Brest']\n",
      "NOUVELLE phrase : Comment est la les citadins de Brest\n",
      "NOUVELLE phrase : Comment est la citadins de Brest\n",
      "\n",
      "phrase initiale : pourquoi venir à Brest\n",
      "['pour cette raison venir à Brest', 'pourquoi venir à Brest']\n",
      "NOUVELLE phrase : pour cette raison venir à Brest\n",
      "NOUVELLE phrase : pourquoi venir à Brest\n",
      "\n",
      "phrase initiale : Comment est la vie en finistère\n",
      "[]\n",
      "\n",
      "phrase initiale : Pleut il vraiment à Brest\n",
      "['pleuvoir il vraiment à Brest', 'il pleut il vraiment à Brest']\n",
      "NOUVELLE phrase : pleuvoir il vraiment à Brest\n",
      "NOUVELLE phrase : il pleut il vraiment à Brest\n",
      "\n",
      "phrase initiale : Quelles sont les avantages de vivre à Brest \n",
      "['Quelles ar les avantages de vivre à Brest ', 'Quelles être les avantages de vivre à Brest ']\n",
      "NOUVELLE phrase : Quelles ar les avantages de vivre à Brest \n",
      "NOUVELLE phrase : Quelles être les avantages de vivre à Brest \n",
      "\n",
      "phrase initiale : A quoi m attendre de Brest \n",
      "['A quoi m anticiper de Brest ', 'A quoi m interroger de Brest ']\n",
      "NOUVELLE phrase : A quoi m anticiper de Brest \n",
      "NOUVELLE phrase : A quoi m interroger de Brest \n",
      "\n",
      "phrase initiale : La vie brestoise est t elle compliqué ou chère \n",
      "['La vie brestoise est t elle embarrasser ou chère ', 'La vie brestoise est t elle affiner ou chère ']\n",
      "NOUVELLE phrase : La vie brestoise est t elle embarrasser ou chère \n",
      "NOUVELLE phrase : La vie brestoise est t elle affiner ou chère \n",
      "\n",
      "phrase initiale : Quelles sont les Offres d emploi\n",
      "['Quelles ar les Offres d emploi', 'Quelles être les Offres d emploi']\n",
      "NOUVELLE phrase : Quelles ar les Offres d emploi\n",
      "NOUVELLE phrase : Quelles être les Offres d emploi\n",
      "\n",
      "phrase initiale : Peut on travailler à Yncrea\n",
      "['étain on travailler à Yncrea', 'boîte de conserve on travailler à Yncrea']\n",
      "NOUVELLE phrase : étain on travailler à Yncrea\n",
      "NOUVELLE phrase : boîte de conserve on travailler à Yncrea\n",
      "\n",
      "phrase initiale : Peut on Travailler à l ISEN\n",
      "['étain on Travailler à l ISEN', 'boîte de conserve on Travailler à l ISEN']\n",
      "NOUVELLE phrase : étain on Travailler à l ISEN\n",
      "NOUVELLE phrase : boîte de conserve on Travailler à l ISEN\n",
      "\n",
      "phrase initiale : Peut t on prendre un emploi étudiant au sein de l isen \n",
      "['étain t on prendre un emploi étudiant au sein de l isen ', 'boîte de conserve t on prendre un emploi étudiant au sein de l isen ']\n",
      "NOUVELLE phrase : étain t on prendre un emploi étudiant au sein de l isen \n",
      "NOUVELLE phrase : boîte de conserve t on prendre un emploi étudiant au sein de l isen \n",
      "\n",
      "phrase initiale : L isen propose t elle des emplois rémunérés aux étudiants \n",
      "['L isen suggérer t elle des emplois rémunérés aux étudiants ', 'L isen conseiller t elle des emplois rémunérés aux étudiants ']\n",
      "NOUVELLE phrase : L isen suggérer t elle des emplois rémunérés aux étudiants \n",
      "NOUVELLE phrase : L isen conseiller t elle des emplois rémunérés aux étudiants \n",
      "\n",
      "X_train_augmented ['Salut', 'salut', 'Salut à tous', 'salut à tous', 'Salut à tous', 'Bonjour à tous', 'Tiens à tous', 'salut à tous', 'Bonjour', 'Tiens', 'salut', 'Coucou', 'Tiens', 'salut', 'Comment ca va ', 'Comment tu vas ', 'je recherche de l aide', 'je enquête de l aide', 'je chercher de l aide', 'oyez oyez', 'apprendre apprendre', 'get word get word', 'hey', 'Pourquoi l isen  ', 'pour cette raison l isen  ', 'description isen', 'description verbale isen', 'école d ingénieur généraliste', 'école d ingénieur généraliste', 'scolarité d ingénieur généraliste', 'C est quoi la différence avec les autres écoles d ingénieurs  ', 'C est quoi la déviation avec les autres écoles d ingénieurs  ', 'C est quoi la divergence avec les autres écoles d ingénieurs  ', 'Quelle est la différence avec les autres écoles d ingénieurs  ', 'Quelle est la déviation avec les autres écoles d ingénieurs  ', 'Quelle est la divergence avec les autres écoles d ingénieurs  ', 'différence autres écoles ingénieurs', 'déviation autres écoles ingénieurs', 'divergence autres écoles ingénieurs', 'en quoi l isen est meilleur ', 'en quoi l isen est parieur ', 'en quoi l isen est Pause ', 'Pourquoi choisir l isen ', 'pour cette raison choisir l isen ', 'Pourquoi choisir l isen ', 'quelles sont les avantages offert par l isen ', 'quelles ar les avantages offert par l isen ', 'quelles être les avantages offert par l isen ', 'qu offre l isen en termes d enseignement ', 'qu offre l isen en termes d enseignement ', 'qu fissure l isen en termes d enseignement ', 'quelles performances peut on retrouvés à l isen', 'quelles présentation publique peut on retrouvés à l isen', 'quelles exécution peut on retrouvés à l isen', 'C est quoi l ISEN  ', 'cursus isen', 'programme isen', \"programme d'études isen\", 'années scolarité', 'années scolarité', 'âge scolarité', 'En combien d années se déroule l ISEN  ', 'En combien d années se déroule l ISEN  ', 'En combien d âge se déroule l ISEN  ', 'Qu est ce que l ISEN', 'C est quoi le cursus de l école', 'C est quoi le programme de l école', \"C est quoi le programme d'études de l école\", 'Combien d années d études post bac ', 'Combien d années d études post bac ', 'Combien d âge d études post bac ', 'temps post bac', 'agrafe post bac', \"temps d'horloge post bac\", 'peut on intégrer l école après le bac', 'étain on intégrer l école après le bac', 'boîte de conserve on intégrer l école après le bac', 'comment foncionne l ISEN', 'comment œuvres l ISEN', 'comment installation industrielle l ISEN', 'comment est on formé à l isen ', 'comment est on forme lexicale à l isen ', 'comment est on signifiant à l isen ', 'quelles sont les différentes possibilités suivant mon profil ', 'quelles ar les différentes possibilités suivant mon profil ', 'quelles être les différentes possibilités suivant mon profil ', 'quels sont les enseignements à l isen ', 'quels ar les enseignements à l isen ', 'quels être les enseignements à l isen ', '204 écoles d ingénieurs', '204 école d ingénieurs', '204 scolarité d ingénieurs', 'ingénieur français', 'scientifique appliqué français', 'technologue français', 'C est quoi Yncréa Ouest  ', 'Combien y a t il d écoles dans l ouest ', 'Combien y a t il d école dans l ouest ', 'Combien y a t il d scolarité dans l ouest ', 'Quels sont les campus de l ISEN Ouest  ', 'Quels ar les campus de l ISEN Ouest  ', 'Quels être les campus de l ISEN Ouest  ', 'Brest  Caen  Nantes et Rennes', 'Brest  Caen  Nantes et Rennes', 'Brest  Caen  Nantes et caribou', 'Où peut on étudier à l ISEN ', 'Où étain on étudier à l ISEN ', 'Où boîte de conserve on étudier à l ISEN ', 'quelles sont les centre de formation de l isen ', 'quelles ar les centre de formation de l isen ', 'quelles être les centre de formation de l isen ', 'quelle est la localisation de l ISEN ', 'quelle est la placement de l ISEN ', 'quelle est la localiser de l ISEN ', 'Quelles sont les certifications d Yncréa  ', 'Quelles ar les certifications d Yncréa  ', 'Quelles être les certifications d Yncréa  ', 'L isen est il sous contrat avec le Ministère de l Enseignement Supérieur et de la Recherche  ', 'L isen est il en dessous de contrat avec le Ministère de l Enseignement Supérieur et de la Recherche  ', 'L isen est il au dessous de contrat avec le Ministère de l Enseignement Supérieur et de la Recherche  ', 'L isen est il sous contrat avec le MESR  ', 'L isen est il en dessous de contrat avec le MESR  ', 'L isen est il au dessous de contrat avec le MESR  ', 'gage de qualité de l isen', 'griller de qualité de l isen', 'assurance de qualité de l isen', 'MESR', 'L isen est il reconnu de quelconques manières ', 'L isen est il reconnaître de quelconques manières ', 'L isen est il connaître de quelconques manières ', 'Qu offre l ISEN en terme d assurrance de reconnaissance du niveau de sortie ', 'Qu offre l ISEN en terme d assurrance de reconnaissance du niveau de sortie ', 'Qu fissure l ISEN en terme d assurrance de reconnaissance du niveau de sortie ', 'Quel est le taux d insertion des jeunes diplômés  ', 'Quel est le charge per unit d insertion des jeunes diplômés  ', 'Quel est le rythme d insertion des jeunes diplômés  ', 'taux d insertion', 'charge per unit d insertion', 'rythme d insertion', 'Où sont embauchés les jeunes diplômés  ', 'Où ar embauchés les jeunes diplômés  ', 'Où être embauchés les jeunes diplômés  ', 'lieu d embauche', 'placement d embauche', 'localiser d embauche', 'Quels sont les lieux de travail après diplôme  ', 'Quels ar les lieux de travail après diplôme  ', 'Quels être les lieux de travail après diplôme  ', 'Trouve t on facilement du diplôme après l isen ', 'percée t on facilement du diplôme après l isen ', 'trouver t on facilement du diplôme après l isen ', 'Est on obligé de travailler sur paris après notre diplome ', 'Est on obligé de travailler sur Paris après notre diplome ', 'Est on obligé de travailler sur Ville de lumière après notre diplome ', 'Quelle est le taux d embauches après l ISEN ', 'Quelle est le charge per unit d embauches après l ISEN ', 'Quelle est le rythme d embauches après l ISEN ', 'C est quoi Yncrea  ', 'Qu est ce que Yncréa  ', 'Yncrea', 'Junia', 'Yncrea ouest', 'Yncrea medittérannée', 'Yncrea Mer Méditerranée', 'Yncrea Nord', 'Yncrea syndicat', 'Yncrea due north', 'L isen fait elle est partie d un groupe ', 'L isen fais elle est partie d un groupe ', 'L isen avoir elle est partie d un groupe ', 'Pourquoi Yncrea ', 'pour cette raison Yncrea ', 'Quelle différences entre l isen et l Yncrea ', 'Quelle déviation entre l isen et l Yncrea ', 'Quelle divergence entre l isen et l Yncrea ', 'Combien y a t il d étudiants  ', 'Combien y a t il d instruit  ', 'Combien y a t il d savant  ', 'Combien y a t il d enseignants permanents ', 'Combien y a t il d instructeur permanents ', 'Combien y a t il d enseignants vague permanente ', 'Combien y a t il d alumnis  ', 'Combien y a t il d ancienne élève  ', 'Combien y a t il d alun  ', 'nombre étudiants', 'chiffre étudiants', 'acte étudiants', 'nombre élèves', 'chiffre élèves', 'acte élèves', 'Quelles est le chiffre d étudiants à l isen ', 'Quelles est le figure d étudiants à l isen ', 'Quelles est le corps humain d étudiants à l isen ', 'Quelle est la population de l isen ', 'Quelle est la univers de l isen ', 'Quels sont les tarifs du cycle CGSI  ', 'Quels ar les tarifs du cycle CGSI  ', 'Quels être les tarifs du cycle CGSI  ', 'prix CGSI', 'le prix CGSI', 'Coût CGSI', 'Quels sont les frais de scolarité du cycle CGSI  ', 'Quels ar les frais de scolarité du cycle CGSI  ', 'Quels être les frais de scolarité du cycle CGSI  ', 'Combien coûte les années 1 et 2 en CSI  ', 'Combien valeur monétaire les années 1 et 2 en CSI  ', 'Combien le prix les années 1 et 2 en CSI  ', 'Combien coûte les années 1 et 2 classes préparatoires implantées', 'Combien valeur monétaire les années 1 et 2 classes préparatoires implantées', 'Combien le prix les années 1 et 2 classes préparatoires implantées', 'tarif CGSI', 'charge per unit CGSI', 'rythme CGSI', 'tarif CSI', 'charge per unit CSI', 'rythme CSI', 'Quelle est le montant d une année du cycle généraliste ', \"Quelle est le somme d'argent d une année du cycle généraliste \", 'Quelle est le montant d une année du cycle généraliste ', 'une année du cycle généraliste  ça coute combien ', 'une classer du cycle généraliste  ça coute combien ', 'une année du cycle généraliste  ça coute combien ', 'Quels sont les tarifs du cycle CIR ', 'Quels ar les tarifs du cycle CIR ', 'Quels être les tarifs du cycle CIR ', 'tarif CIR', 'charge per unit CIR', 'rythme CIR', 'prix CIR', 'le prix CIR', 'Coût CIR', 'Quels sont les frais de scolarité du cycle CIR ', 'Quels ar les frais de scolarité du cycle CIR ', 'Quels être les frais de scolarité du cycle CIR ', 'Combien coûte les années 1 et 2 en CIR ', 'Combien valeur monétaire les années 1 et 2 en CIR ', 'Combien le prix les années 1 et 2 en CIR ', 'Combien coûte les années 1 et 2 en Cycle Informatique et Réseaux', 'Combien valeur monétaire les années 1 et 2 en Cycle Informatique et Réseaux', 'Combien le prix les années 1 et 2 en Cycle Informatique et Réseaux', 'Quelle est le montant d une année du cycle informatique ', \"Quelle est le somme d'argent d une année du cycle informatique \", 'Quelle est le montant d une année du cycle informatique ', 'une année du cycle informatique  ça coute combien ', 'une classer du cycle informatique  ça coute combien ', 'une année du cycle informatique  ça coute combien ', 'Quels sont les tarifs du cycle BIOST ', 'Quels ar les tarifs du cycle BIOST ', 'Quels être les tarifs du cycle BIOST ', 'tarif BIOST', 'charge per unit BIOST', 'rythme BIOST', 'prix BIOST', 'le prix BIOST', 'Coût BIOST', 'Quels sont les frais de scolarité du cycle BIOST ', 'Quels ar les frais de scolarité du cycle BIOST ', 'Quels être les frais de scolarité du cycle BIOST ', 'Combien coûte les années 1 et 2 en BIOST ', 'Combien valeur monétaire les années 1 et 2 en BIOST ', 'Combien le prix les années 1 et 2 en BIOST ', 'Combien coûte les années 1 et 2 en Cycle Biologie  Sciences et Technologies', 'Combien valeur monétaire les années 1 et 2 en Cycle Biologie  Sciences et Technologies', 'Combien le prix les années 1 et 2 en Cycle Biologie  Sciences et Technologies', 'Quelle est le montant d une année du cycle biologique ', \"Quelle est le somme d'argent d une année du cycle biologique \", 'Quelle est le montant d une année du cycle biologique ', 'une année du cycle biologique  ça coute combien ', 'une classer du cycle biologique  ça coute combien ', 'une année du cycle biologique  ça coute combien ', 'Quels sont les tarifs du cycle CENT  ', 'tarif CENT', 'Prix CENT', 'Quels sont les frais de scolarité du cycle CENT  ', 'Combien coûte les années 1 et 2 en CENT  ', 'Combien coûte les années 1 et 2 en Cycle Economie Numérique et Technologies', 'Combien valeur monétaire les années 1 et 2 en Cycle Economie Numérique et Technologies', 'Combien le prix les années 1 et 2 en Cycle Economie Numérique et Technologies', 'Quelle est le montant d une année du cycle economie ', \"Quelle est le somme d'argent d une année du cycle economie \", 'Quelle est le montant d une année du cycle economie ', 'une année du cycle economie  ça coute combien ', 'une classer du cycle economie  ça coute combien ', 'une année du cycle economie  ça coute combien ', 'Quels sont les tarifs du cycle EST ', 'Quels ar les tarifs du cycle EST ', 'Quels être les tarifs du cycle EST ', 'tarif EST', 'charge per unit EST', 'rythme EST', 'prix EST', 'le prix EST', 'Coût EST', 'Quels sont les frais de scolarité du cycle EST ', 'Quels ar les frais de scolarité du cycle EST ', 'Quels être les frais de scolarité du cycle EST ', 'Combien coûte les années 1 et 2 en EST ', 'Combien valeur monétaire les années 1 et 2 en EST ', 'Combien le prix les années 1 et 2 en EST ', 'Combien coûte les années 1 et 2 en Cycle Environnement  Sciences et Technologies', 'Combien valeur monétaire les années 1 et 2 en Cycle Environnement  Sciences et Technologies', 'Combien le prix les années 1 et 2 en Cycle Environnement  Sciences et Technologies', 'Quelle est le montant d une année du cycle environnement ', \"Quelle est le somme d'argent d une année du cycle environnement \", 'Quelle est le montant d une année du cycle environnement ', 'une année du cycle environnement  ça coute combien ', 'une classer du cycle environnement  ça coute combien ', 'une année du cycle environnement  ça coute combien ', 'Quels sont les tarifs du cycle BIAST ', 'Quels ar les tarifs du cycle BIAST ', 'Quels être les tarifs du cycle BIAST ', 'Tarif BIAST', 'charge per unit BIAST', 'rythme BIAST', 'prix BIAST', 'le prix BIAST', 'Coût BIAST', 'Quels sont les frais de scolarité du cycle BIAST ', 'Quels ar les frais de scolarité du cycle BIAST ', 'Quels être les frais de scolarité du cycle BIAST ', 'Combien coûte les années 1 et 2 en BIAST ', 'Combien valeur monétaire les années 1 et 2 en BIAST ', 'Combien le prix les années 1 et 2 en BIAST ', 'Combien coûte les années 1 et 2 en Cycle Biologie  Agronomie  Sciences et Technologies', 'Combien valeur monétaire les années 1 et 2 en Cycle Biologie  Agronomie  Sciences et Technologies', 'Combien le prix les années 1 et 2 en Cycle Biologie  Agronomie  Sciences et Technologies', 'Quelle est le montant d une année du cycle agronomie ', \"Quelle est le somme d'argent d une année du cycle agronomie \", 'Quelle est le montant d une année du cycle agronomie ', 'une année du cycle agronomie  ça coute combien ', 'une classer du cycle agronomie  ça coute combien ', 'une année du cycle agronomie  ça coute combien ', 'Quels sont les tarifs du cycle ingénieur ', 'Quels ar les tarifs du cycle ingénieur ', 'Quels être les tarifs du cycle ingénieur ', 'Quel est le prix à BAC+3', 'Quel est le le prix à BAC+3', 'Quel est le Coût à BAC+3', 'Quel est le tarif du cycle ingénieur ', 'Quel est le charge per unit du cycle ingénieur ', 'Quel est le rythme du cycle ingénieur ', 'prix des années 3  4 et 5', 'le prix des années 3  4 et 5', 'Coût des années 3  4 et 5', 'prix années Master A3 M1 M2', 'le prix années Master A3 M1 M2', 'Coût années Master A3 M1 M2', 'Quels sont les frais de scolarité en années 3  4 et 5  ', 'Quels ar les frais de scolarité en années 3  4 et 5  ', 'Quels être les frais de scolarité en années 3  4 et 5  ', 'Combien coûte les années 3 à 5  ', 'Combien valeur monétaire les années 3 à 5  ', 'Combien le prix les années 3 à 5  ', 'Quelle est le montant d une année du cycle supérieur ', \"Quelle est le somme d'argent d une année du cycle supérieur \", 'Quelle est le montant d une année du cycle supérieur ', 'une année du cycle supérieur  ça coute combien ', 'une classer du cycle supérieur  ça coute combien ', 'une année du cycle supérieur  ça coute combien ', 'Comment puis je payer l école  ', 'Comment alors je payer l école  ', 'Comment et donc je payer l école  ', 'Comment puis je payer la formation ', 'Comment alors je payer la formation ', 'Comment et donc je payer la formation ', 'Comment puis je payer l ISEN ', 'Comment alors je payer l ISEN ', 'Comment et donc je payer l ISEN ', 'Comment financer mes études   ', 'Comment financer mes enquête   ', 'Comment financer mes étude   ', 'bourses d  excellence', 'érudition d  excellence', 'apprentissage d  excellence', 'Quelles sont les bourses disponibles ', 'Quelles ar les bourses disponibles ', 'Quelles être les bourses disponibles ', 'ERASMUS est il disponible pour payer l isen', 'Desiderius Erasmus est il disponible pour payer l isen', 'Gerhard Gerhards est il disponible pour payer l isen', 'l accès aux bourses est elle possible en intégrant l isen ', 'l accéder aux bourses est elle possible en intégrant l isen ', 'l accession aux bourses est elle possible en intégrant l isen ', 'L isen dispose t elle de bourses d études ', 'L isen HA t elle de bourses d études ', 'L isen avoir t elle de bourses d études ', 'une bourse est elle décrochable selon nos perfomances académiques ', 'une bourse est elle oblitérable selon nos perfomances académiques ', 'une bourse est elle décrochable selon nos performance académiques ', 'Sportif de Haut Niveau', 'acrobatique de Haut Niveau', 'gymnastique de Haut Niveau', 'Peut on être SHN ', 'étain on être SHN ', 'boîte de conserve on être SHN ', 'Peut on être en Sport de Haut Niveau ', 'étain on être en Sport de Haut Niveau ', 'boîte de conserve on être en Sport de Haut Niveau ', 'L isen est elle adaptée pour les Sportifs ', 'L isen est elle accommoder pour les Sportifs ', 'L isen est elle régler pour les Sportifs ', 'L isen est elle adaptée pour le Sport de compétition ', 'L isen est elle accommoder pour le Sport de compétition ', 'L isen est elle régler pour le Sport de compétition ', 'Peut on être accompagner en tant que sportif ', 'étain on être accompagner en tant que sportif ', 'boîte de conserve on être accompagner en tant que sportif ', 'Puis je continuer mon activité sportive de haut niveau en intégrant l isen ', 'alors je continuer mon activité sportive de haut niveau en intégrant l isen ', 'et donc je continuer mon activité sportive de haut niveau en intégrant l isen ', 'Un aménagement des horaires est il possible si je suis sportif de haut niveau ', 'Un aménagement des ordre du jour est il possible si je suis sportif de haut niveau ', 'Un aménagement des rôle est il possible si je suis sportif de haut niveau ', 'Y a t il un Internat ', 'Quels sont les logements autour de l école', 'Quels ar les logements autour de l école', 'Quels être les logements autour de l école', 'Quelles sont les résidences étudiantes ', 'Quelles ar les résidences étudiantes ', 'Quelles être les résidences étudiantes ', 'Pourrais je avoir des informations sur les habitations autour ', 'Pourrais je avoir des Info sur les habitations autour ', 'Pourrais je avoir des Les données sur les habitations autour ', 'où loger autour de l école ', 'où Sir Oliver Lodge autour de l école ', 'où Sir Oliver Joseph Lodge autour de l école ', 'Comment trouver un logement à proximité de l isen ', 'Comment trouver un hébergement à proximité de l isen ', 'Comment trouver un logements de vie à proximité de l isen ', 'Où habiter si j intègre l isen ', 'Où habiter si j déségréger l isen ', 'Où habiter si j mélanger l isen ', 'Des conseils sur où se loger en intégrant l ISEN ', 'Des conseils sur où se Loge en intégrant l ISEN ', 'Des conseils sur où se Sir Oliver Lodge en intégrant l ISEN ', 'Quels sont les moyens de restauration ', 'Quels ar les moyens de restauration ', 'Quels être les moyens de restauration ', 'Comment puis je manger ', 'Comment alors je manger ', 'Comment et donc je manger ', 'Quels sont les lieux pour manger', 'Quels ar les lieux pour manger', 'Quels être les lieux pour manger', 'Y a t il une cafeteria ', 'Puis je manger au Super u ', 'alors je manger au Super u ', 'et donc je manger au Super u ', 'Comment se restaurer quand on étudie à l isen ', 'Comment se reconstruire quand on étudie à l isen ', 'Comment se régénérer quand on étudie à l isen ', 'l isen possède t elle une cafétaria ', 'l isen groupe comitatus t elle une cafétaria ', 'l isen posséder t elle une cafétaria ', 'L isen est elle loin des restaurants universitaires ', 'L isen est elle ALIR des restaurants universitaires ', 'L isen est elle Anciennes forces armées des restaurants universitaires ', 'Puis je visiter l isen', 'alors je visiter l isen', 'et donc je visiter l isen', 'Comment peut on découvrir le bâtiment', 'Comment étain on découvrir le bâtiment', 'Comment boîte de conserve on découvrir le bâtiment', 'Quelles sont les dates de Portes ouvertes', 'Quelles ar les dates de Portes ouvertes', 'Quelles être les dates de Portes ouvertes', 'nous rencontrer en portes ouvertes', 'nous sports meeting en portes ouvertes', 'nous percuter en portes ouvertes', 'Peut on visiter l isen', 'étain on visiter l isen', 'boîte de conserve on visiter l isen', 'peut on découvrir l isen lors de portes ouvertes ', 'étain on découvrir l isen lors de portes ouvertes ', 'boîte de conserve on découvrir l isen lors de portes ouvertes ', 'y a t il une possibilité de rencontrer les professeurs et visiter l établissement ', 'y a t il une hypothèse de rencontrer les professeurs et visiter l établissement ', 'y a t il une théorie de rencontrer les professeurs et visiter l établissement ', 'L école est elle adaptée aux Handicaps', 'L école est elle adaptée aux Handicaps', 'L scolarité est elle adaptée aux Handicaps', 'Peut on avoir un tiers temps', 'étain on avoir un tiers temps', 'boîte de conserve on avoir un tiers temps', 'A t on des aménagements handicaps', 'A t on des conforts de créature handicaps', 'A t on des Agréments handicaps', 'Peut on y venir avec un fauteuil roulant', 'étain on y venir avec un fauteuil roulant', 'boîte de conserve on y venir avec un fauteuil roulant', 'Le batiment est il accessible pour les personnes à mobilité réduite', 'Le édifice est il accessible pour les personnes à mobilité réduite', 'Le construction est il accessible pour les personnes à mobilité réduite', 'Je suis en situation de handicap  l isen a t elle les capacités de me recevoir ', 'Je Un m en situation de handicap  l isen a t elle les capacités de me recevoir ', 'Je numéro atomique 95 en situation de handicap  l isen a t elle les capacités de me recevoir ', 'L isen est elle habilité a accueillir les étudiants ayant besoin d aménagement spécifiques ', 'L isen est elle passe a accueillir les étudiants ayant besoin d aménagement spécifiques ', 'L isen est elle dégager a accueillir les étudiants ayant besoin d aménagement spécifiques ', 'Quels sont les clubs isen', 'Quels ar les clubs isen', 'Quels être les clubs isen', 'Quelles sont les associations étudiantes', 'Quelles ar les associations étudiantes', 'Quelles être les associations étudiantes', 'Peut on en savoir plus sur la vie étudiante', 'étain on en savoir plus sur la vie étudiante', 'boîte de conserve on en savoir plus sur la vie étudiante', 'Quel est le club digitaldesign', 'Quel est le ball club digitaldesign', 'Quel est le club digitaldesign', 'Quel est le club 4Ltrophy', 'Quel est le ball club 4Ltrophy', 'Quel est le club 4Ltrophy', 'Quel est le club BDD', 'Quel est le ball club BDD', 'Quel est le club BDD', 'Quel est le club BDI', 'Quel est le ball club BDI', 'Quel est le club BDI', 'Quel est le club BDS', 'Quel est le ball club BDS', 'Quel est le club BDS', 'Quel est le club club évasion', 'Quel est le ball club ball club évasion', 'Quel est le club club évasion', 'BDA', 'Quelle est la vie étudiante au sein de l ISEN ', 'Quelle est la vie instruit au sein de l ISEN ', 'Quelle est la vie savant au sein de l ISEN ', 'L isen possède t elle des associations pour développer la vie étudiante ', 'L isen groupe comitatus t elle des associations pour développer la vie étudiante ', 'L isen posséder t elle des associations pour développer la vie étudiante ', 'Qu offre l isen en dehors des enseignements obligatoires ', 'Qu offre l isen en dehors des enseignements obligatoires ', 'Qu fissure l isen en dehors des enseignements obligatoires ', 'Comment est la ville de Brest', 'Comment est la les citadins de Brest', 'Comment est la citadins de Brest', 'pourquoi venir à Brest', 'pour cette raison venir à Brest', 'pourquoi venir à Brest', 'Comment est la vie en finistère', 'Pleut il vraiment à Brest', 'pleuvoir il vraiment à Brest', 'il pleut il vraiment à Brest', 'Quelles sont les avantages de vivre à Brest ', 'Quelles ar les avantages de vivre à Brest ', 'Quelles être les avantages de vivre à Brest ', 'A quoi m attendre de Brest ', 'A quoi m anticiper de Brest ', 'A quoi m interroger de Brest ', 'La vie brestoise est t elle compliqué ou chère ', 'La vie brestoise est t elle embarrasser ou chère ', 'La vie brestoise est t elle affiner ou chère ', 'Quelles sont les Offres d emploi', 'Quelles ar les Offres d emploi', 'Quelles être les Offres d emploi', 'Peut on travailler à Yncrea', 'étain on travailler à Yncrea', 'boîte de conserve on travailler à Yncrea', 'Peut on Travailler à l ISEN', 'étain on Travailler à l ISEN', 'boîte de conserve on Travailler à l ISEN', 'Peut t on prendre un emploi étudiant au sein de l isen ', 'étain t on prendre un emploi étudiant au sein de l isen ', 'boîte de conserve t on prendre un emploi étudiant au sein de l isen ', 'L isen propose t elle des emplois rémunérés aux étudiants ', 'L isen suggérer t elle des emplois rémunérés aux étudiants ', 'L isen conseiller t elle des emplois rémunérés aux étudiants '] de taille 570\n",
      "\n",
      "y_train_augmented ['bienvenue', 'bienvenue', 'bienvenue', 'bienvenue', 'bienvenue', 'bienvenue', 'bienvenue', 'bienvenue', 'bienvenue', 'bienvenue', 'bienvenue', 'bienvenue', 'bienvenue', 'bienvenue', 'bienvenue', 'bienvenue', 'bienvenue', 'bienvenue', 'bienvenue', 'bienvenue', 'bienvenue', 'bienvenue', 'bienvenue', 'raison_isen', 'raison_isen', 'raison_isen', 'raison_isen', 'raison_isen', 'raison_isen', 'raison_isen', 'raison_isen', 'raison_isen', 'raison_isen', 'raison_isen', 'raison_isen', 'raison_isen', 'raison_isen', 'raison_isen', 'raison_isen', 'raison_isen', 'raison_isen', 'raison_isen', 'raison_isen', 'raison_isen', 'raison_isen', 'raison_isen', 'raison_isen', 'raison_isen', 'raison_isen', 'raison_isen', 'raison_isen', 'raison_isen', 'raison_isen', 'raison_isen', 'cursus_isen', 'cursus_isen', 'cursus_isen', 'cursus_isen', 'cursus_isen', 'cursus_isen', 'cursus_isen', 'cursus_isen', 'cursus_isen', 'cursus_isen', 'cursus_isen', 'cursus_isen', 'cursus_isen', 'cursus_isen', 'cursus_isen', 'cursus_isen', 'cursus_isen', 'cursus_isen', 'cursus_isen', 'cursus_isen', 'cursus_isen', 'cursus_isen', 'cursus_isen', 'cursus_isen', 'cursus_isen', 'cursus_isen', 'cursus_isen', 'cursus_isen', 'cursus_isen', 'cursus_isen', 'cursus_isen', 'cursus_isen', 'cursus_isen', 'cursus_isen', 'cursus_isen', 'cursus_isen', 'cursus_isen', 'cursus_isen', 'cursus_isen', 'cursus_isen', 'cursus_isen', 'campus_ouest', 'campus_ouest', 'campus_ouest', 'campus_ouest', 'campus_ouest', 'campus_ouest', 'campus_ouest', 'campus_ouest', 'campus_ouest', 'campus_ouest', 'campus_ouest', 'campus_ouest', 'campus_ouest', 'campus_ouest', 'campus_ouest', 'campus_ouest', 'campus_ouest', 'campus_ouest', 'campus_ouest', 'certifications', 'certifications', 'certifications', 'certifications', 'certifications', 'certifications', 'certifications', 'certifications', 'certifications', 'certifications', 'certifications', 'certifications', 'certifications', 'certifications', 'certifications', 'certifications', 'certifications', 'certifications', 'certifications', 'Taux_insertion', 'Taux_insertion', 'Taux_insertion', 'Taux_insertion', 'Taux_insertion', 'Taux_insertion', 'Taux_insertion', 'Taux_insertion', 'Taux_insertion', 'Taux_insertion', 'Taux_insertion', 'Taux_insertion', 'Taux_insertion', 'Taux_insertion', 'Taux_insertion', 'Taux_insertion', 'Taux_insertion', 'Taux_insertion', 'Taux_insertion', 'Taux_insertion', 'Taux_insertion', 'Taux_insertion', 'Taux_insertion', 'Taux_insertion', 'Yncrea', 'Yncrea', 'Yncrea', 'Yncrea', 'Yncrea', 'Yncrea', 'Yncrea', 'Yncrea', 'Yncrea', 'Yncrea', 'Yncrea', 'Yncrea', 'Yncrea', 'Yncrea', 'Yncrea', 'Yncrea', 'Yncrea', 'Yncrea', 'Nombre_etudiants_alumni_etudiants', 'Nombre_etudiants_alumni_etudiants', 'Nombre_etudiants_alumni_etudiants', 'Nombre_etudiants_alumni_etudiants', 'Nombre_etudiants_alumni_etudiants', 'Nombre_etudiants_alumni_etudiants', 'Nombre_etudiants_alumni_etudiants', 'Nombre_etudiants_alumni_etudiants', 'Nombre_etudiants_alumni_etudiants', 'Nombre_etudiants_alumni_etudiants', 'Nombre_etudiants_alumni_etudiants', 'Nombre_etudiants_alumni_etudiants', 'Nombre_etudiants_alumni_etudiants', 'Nombre_etudiants_alumni_etudiants', 'Nombre_etudiants_alumni_etudiants', 'Nombre_etudiants_alumni_etudiants', 'Nombre_etudiants_alumni_etudiants', 'Nombre_etudiants_alumni_etudiants', 'Nombre_etudiants_alumni_etudiants', 'Nombre_etudiants_alumni_etudiants', 'tarif_CGSI', 'tarif_CGSI', 'tarif_CGSI', 'tarif_CGSI', 'tarif_CGSI', 'tarif_CGSI', 'tarif_CGSI', 'tarif_CGSI', 'tarif_CGSI', 'tarif_CGSI', 'tarif_CGSI', 'tarif_CGSI', 'tarif_CGSI', 'tarif_CGSI', 'tarif_CGSI', 'tarif_CGSI', 'tarif_CGSI', 'tarif_CGSI', 'tarif_CGSI', 'tarif_CGSI', 'tarif_CGSI', 'tarif_CGSI', 'tarif_CGSI', 'tarif_CGSI', 'tarif_CGSI', 'tarif_CGSI', 'tarif_CGSI', 'tarif_CIR', 'tarif_CIR', 'tarif_CIR', 'tarif_CIR', 'tarif_CIR', 'tarif_CIR', 'tarif_CIR', 'tarif_CIR', 'tarif_CIR', 'tarif_CIR', 'tarif_CIR', 'tarif_CIR', 'tarif_CIR', 'tarif_CIR', 'tarif_CIR', 'tarif_CIR', 'tarif_CIR', 'tarif_CIR', 'tarif_CIR', 'tarif_CIR', 'tarif_CIR', 'tarif_CIR', 'tarif_CIR', 'tarif_CIR', 'tarif_BIOST', 'tarif_BIOST', 'tarif_BIOST', 'tarif_BIOST', 'tarif_BIOST', 'tarif_BIOST', 'tarif_BIOST', 'tarif_BIOST', 'tarif_BIOST', 'tarif_BIOST', 'tarif_BIOST', 'tarif_BIOST', 'tarif_BIOST', 'tarif_BIOST', 'tarif_BIOST', 'tarif_BIOST', 'tarif_BIOST', 'tarif_BIOST', 'tarif_BIOST', 'tarif_BIOST', 'tarif_BIOST', 'tarif_BIOST', 'tarif_BIOST', 'tarif_BIOST', 'tarif_CENT', 'tarif_CENT', 'tarif_CENT', 'tarif_CENT', 'tarif_CENT', 'tarif_CENT', 'tarif_CENT', 'tarif_CENT', 'tarif_CENT', 'tarif_CENT', 'tarif_CENT', 'tarif_CENT', 'tarif_CENT', 'tarif_CENT', 'tarif_CENT', 'tarif_CENT', 'tarif_CENT', 'tarif_CENT', 'tarif_CENT', 'tarif_CENT', 'tarif_CENT', 'tarif_CENT', 'tarif_CENT', 'tarif_CENT', 'tarif_CENT', 'tarif_CENT', 'tarif_CENT', 'tarif_CENT', 'tarif_CENT', 'tarif_EST', 'tarif_EST', 'tarif_EST', 'tarif_EST', 'tarif_EST', 'tarif_EST', 'tarif_EST', 'tarif_EST', 'tarif_EST', 'tarif_EST', 'tarif_EST', 'tarif_EST', 'tarif_EST', 'tarif_EST', 'tarif_EST', 'tarif_EST', 'tarif_EST', 'tarif_EST', 'tarif_EST', 'tarif_EST', 'tarif_EST', 'tarif_EST', 'tarif_EST', 'tarif_EST', 'tarif_BIAST', 'tarif_BIAST', 'tarif_BIAST', 'tarif_BIAST', 'tarif_BIAST', 'tarif_BIAST', 'tarif_BIAST', 'tarif_BIAST', 'tarif_BIAST', 'tarif_BIAST', 'tarif_BIAST', 'tarif_BIAST', 'tarif_BIAST', 'tarif_BIAST', 'tarif_BIAST', 'tarif_BIAST', 'tarif_BIAST', 'tarif_BIAST', 'tarif_BIAST', 'tarif_BIAST', 'tarif_BIAST', 'tarif_BIAST', 'tarif_BIAST', 'tarif_BIAST', 'tarif_cycle_ingenieur', 'tarif_cycle_ingenieur', 'tarif_cycle_ingenieur', 'tarif_cycle_ingenieur', 'tarif_cycle_ingenieur', 'tarif_cycle_ingenieur', 'tarif_cycle_ingenieur', 'tarif_cycle_ingenieur', 'tarif_cycle_ingenieur', 'tarif_cycle_ingenieur', 'tarif_cycle_ingenieur', 'tarif_cycle_ingenieur', 'tarif_cycle_ingenieur', 'tarif_cycle_ingenieur', 'tarif_cycle_ingenieur', 'tarif_cycle_ingenieur', 'tarif_cycle_ingenieur', 'tarif_cycle_ingenieur', 'tarif_cycle_ingenieur', 'tarif_cycle_ingenieur', 'tarif_cycle_ingenieur', 'tarif_cycle_ingenieur', 'tarif_cycle_ingenieur', 'tarif_cycle_ingenieur', 'tarif_cycle_ingenieur', 'tarif_cycle_ingenieur', 'tarif_cycle_ingenieur', 'Bourses', 'Bourses', 'Bourses', 'Bourses', 'Bourses', 'Bourses', 'Bourses', 'Bourses', 'Bourses', 'Bourses', 'Bourses', 'Bourses', 'Bourses', 'Bourses', 'Bourses', 'Bourses', 'Bourses', 'Bourses', 'Bourses', 'Bourses', 'Bourses', 'Bourses', 'Bourses', 'Bourses', 'Bourses', 'Bourses', 'Bourses', 'Bourses', 'Bourses', 'Bourses', 'SHN', 'SHN', 'SHN', 'SHN', 'SHN', 'SHN', 'SHN', 'SHN', 'SHN', 'SHN', 'SHN', 'SHN', 'SHN', 'SHN', 'SHN', 'SHN', 'SHN', 'SHN', 'SHN', 'SHN', 'SHN', 'SHN', 'ISEN_logement', 'ISEN_logement', 'ISEN_logement', 'ISEN_logement', 'ISEN_logement', 'ISEN_logement', 'ISEN_logement', 'ISEN_logement', 'ISEN_logement', 'ISEN_logement', 'ISEN_logement', 'ISEN_logement', 'ISEN_logement', 'ISEN_logement', 'ISEN_logement', 'ISEN_logement', 'ISEN_logement', 'ISEN_logement', 'ISEN_logement', 'ISEN_logement', 'ISEN_logement', 'ISEN_logement', 'ISEN_restauration', 'ISEN_restauration', 'ISEN_restauration', 'ISEN_restauration', 'ISEN_restauration', 'ISEN_restauration', 'ISEN_restauration', 'ISEN_restauration', 'ISEN_restauration', 'ISEN_restauration', 'ISEN_restauration', 'ISEN_restauration', 'ISEN_restauration', 'ISEN_restauration', 'ISEN_restauration', 'ISEN_restauration', 'ISEN_restauration', 'ISEN_restauration', 'ISEN_restauration', 'ISEN_restauration', 'ISEN_restauration', 'ISEN_restauration', 'ISEN_restauration', 'ISEN_restauration', 'visite_virtuelle_PO', 'visite_virtuelle_PO', 'visite_virtuelle_PO', 'visite_virtuelle_PO', 'visite_virtuelle_PO', 'visite_virtuelle_PO', 'visite_virtuelle_PO', 'visite_virtuelle_PO', 'visite_virtuelle_PO', 'visite_virtuelle_PO', 'visite_virtuelle_PO', 'visite_virtuelle_PO', 'visite_virtuelle_PO', 'visite_virtuelle_PO', 'visite_virtuelle_PO', 'visite_virtuelle_PO', 'visite_virtuelle_PO', 'visite_virtuelle_PO', 'visite_virtuelle_PO', 'visite_virtuelle_PO', 'visite_virtuelle_PO', 'Handicap', 'Handicap', 'Handicap', 'Handicap', 'Handicap', 'Handicap', 'Handicap', 'Handicap', 'Handicap', 'Handicap', 'Handicap', 'Handicap', 'Handicap', 'Handicap', 'Handicap', 'Handicap', 'Handicap', 'Handicap', 'Handicap', 'Handicap', 'Handicap', 'Clubs_etudiants', 'Clubs_etudiants', 'Clubs_etudiants', 'Clubs_etudiants', 'Clubs_etudiants', 'Clubs_etudiants', 'Clubs_etudiants', 'Clubs_etudiants', 'Clubs_etudiants', 'Clubs_etudiants', 'Clubs_etudiants', 'Clubs_etudiants', 'Clubs_etudiants', 'Clubs_etudiants', 'Clubs_etudiants', 'Clubs_etudiants', 'Clubs_etudiants', 'Clubs_etudiants', 'Clubs_etudiants', 'Clubs_etudiants', 'Clubs_etudiants', 'Clubs_etudiants', 'Clubs_etudiants', 'Clubs_etudiants', 'Clubs_etudiants', 'Clubs_etudiants', 'Clubs_etudiants', 'Clubs_etudiants', 'Clubs_etudiants', 'Clubs_etudiants', 'Clubs_etudiants', 'Clubs_etudiants', 'Clubs_etudiants', 'Clubs_etudiants', 'Clubs_etudiants', 'La vie à Brest', 'La vie à Brest', 'La vie à Brest', 'La vie à Brest', 'La vie à Brest', 'La vie à Brest', 'La vie à Brest', 'La vie à Brest', 'La vie à Brest', 'La vie à Brest', 'La vie à Brest', 'La vie à Brest', 'La vie à Brest', 'La vie à Brest', 'La vie à Brest', 'La vie à Brest', 'La vie à Brest', 'La vie à Brest', 'La vie à Brest', 'La vie à Brest', 'La vie à Brest'] de taille 570\n"
     ]
    }
   ],
   "source": [
    "def data_augmentation_syn(X_train,y_train, nbr_new_sentences = 1): #need X_train et y_train au format texte\n",
    "    print(f\"\\nX_train {X_train} de taille {len(X_train)}\")\n",
    "    print(f\"\\ny_train {y_train} de taille {len(y_train)}\")\n",
    "    \n",
    "    \n",
    "    X_train_complete=[] #pour stocker les phrases complètes\n",
    "    \n",
    "    X_train_augmented = [] #[[0] for i in range(len(X_train)*(1+nbr_new_sentences))] #pour créer une liste de bonne taille\n",
    "    y_train_augmented= [] #X_train_augmented #y_train_augmented sera de même taille que X_train_augmented\n",
    "        \n",
    "    #Pour avoir les phrases complètes (et pas des listes de mots pour une phrase) (ex: on veut [phrase1,phrase2,phrase3] et X_train est au départ sous format [[mot1_phrase1,mot2_phase1],[mot1_phrase2...\n",
    "    for phrase in X_train :\n",
    "        X_train_complete.append(phrase) \n",
    "    #print(f\"X_train_complete {X_train_complete} et taille : {len(X_train_complete)}\")\n",
    "    \n",
    "    \n",
    "    i=0\n",
    "    for phrase_initiale in X_train:\n",
    "        print(f\"\\nphrase initiale : {phrase_initiale}\")\n",
    "        X_train_augmented.append(phrase_initiale)\n",
    "        y_train_augmented.append(y_train[i])\n",
    "        new_phrases=create_set_of_new_sentences(phrase_initiale, None, nbr_new_sentences)\n",
    "        print(new_phrases)\n",
    "        \n",
    "        try :\n",
    "            for new_phrase in new_phrases:\n",
    "                print(f\"NOUVELLE phrase : {new_phrase}\")\n",
    "                X_train_augmented.append(new_phrase)\n",
    "                y_train_augmented.append(y_train[i])\n",
    "            i+=1\n",
    "        except : \n",
    "            print(f\"{phrase_initiale} n'a pas pu avoir de phrases synonymes\")\n",
    "            \n",
    "    print(f\"\\nX_train_augmented {X_train_augmented} de taille {len(X_train_augmented)}\")\n",
    "    print(f\"\\ny_train_augmented {y_train_augmented} de taille {len(y_train_augmented)}\")\n",
    "    return (X_train_augmented, y_train_augmented)\n",
    "#X_train_augmented, y_train_augmented = data_augmentation_syn(X_texte,y_texte,nbr_new_sentences=2)"
   ]
  },
  {
   "cell_type": "markdown",
   "id": "59e97e57-c4ba-4f74-9ebc-bbc7811ef97c",
   "metadata": {},
   "source": [
    "## sauvegarde des variables"
   ]
  },
  {
   "cell_type": "code",
   "execution_count": 192,
   "id": "063fc19f-e044-476a-9db2-7770f1bfd872",
   "metadata": {},
   "outputs": [],
   "source": [
    "X_train_augmented = ['Salut', 'salut', 'Salut à tous', 'salut à tous', 'Salut à tous', 'Bonjour à tous', 'Tiens à tous', 'salut à tous', 'Bonjour', 'Tiens', 'salut', 'Coucou', 'Tiens', 'salut', 'Comment ca va ', 'Comment tu vas ', 'je recherche de l aide', 'je enquête de l aide', 'je chercher de l aide', 'oyez oyez', 'apprendre apprendre', 'get word get word', 'hey', 'Pourquoi l isen  ', 'pour cette raison l isen  ', 'description isen', 'description verbale isen', 'école d ingénieur généraliste', 'école d ingénieur généraliste', 'scolarité d ingénieur généraliste', 'C est quoi la différence avec les autres écoles d ingénieurs  ', 'C est quoi la déviation avec les autres écoles d ingénieurs  ', 'C est quoi la divergence avec les autres écoles d ingénieurs  ', 'Quelle est la différence avec les autres écoles d ingénieurs  ', 'Quelle est la déviation avec les autres écoles d ingénieurs  ', 'Quelle est la divergence avec les autres écoles d ingénieurs  ', 'différence autres écoles ingénieurs', 'déviation autres écoles ingénieurs', 'divergence autres écoles ingénieurs', 'en quoi l isen est meilleur ', 'en quoi l isen est parieur ', 'en quoi l isen est Pause ', 'Pourquoi choisir l isen ', 'pour cette raison choisir l isen ', 'Pourquoi choisir l isen ', 'quelles sont les avantages offert par l isen ', 'quelles ar les avantages offert par l isen ', 'quelles être les avantages offert par l isen ', 'qu offre l isen en termes d enseignement ', 'qu offre l isen en termes d enseignement ', 'qu fissure l isen en termes d enseignement ', 'quelles performances peut on retrouvés à l isen', 'quelles présentation publique peut on retrouvés à l isen', 'quelles exécution peut on retrouvés à l isen', 'C est quoi l ISEN  ', 'cursus isen', 'programme isen', \"programme d'études isen\", 'années scolarité', 'années scolarité', 'âge scolarité', 'En combien d années se déroule l ISEN  ', 'En combien d années se déroule l ISEN  ', 'En combien d âge se déroule l ISEN  ', 'Qu est ce que l ISEN', 'C est quoi le cursus de l école', 'C est quoi le programme de l école', \"C est quoi le programme d'études de l école\", 'Combien d années d études post bac ', 'Combien d années d études post bac ', 'Combien d âge d études post bac ', 'temps post bac', 'agrafe post bac', \"temps d'horloge post bac\", 'peut on intégrer l école après le bac', 'étain on intégrer l école après le bac', 'boîte de conserve on intégrer l école après le bac', 'comment foncionne l ISEN', 'comment œuvres l ISEN', 'comment installation industrielle l ISEN', 'comment est on formé à l isen ', 'comment est on forme lexicale à l isen ', 'comment est on signifiant à l isen ', 'quelles sont les différentes possibilités suivant mon profil ', 'quelles ar les différentes possibilités suivant mon profil ', 'quelles être les différentes possibilités suivant mon profil ', 'quels sont les enseignements à l isen ', 'quels ar les enseignements à l isen ', 'quels être les enseignements à l isen ', '204 écoles d ingénieurs', '204 école d ingénieurs', '204 scolarité d ingénieurs', 'ingénieur français', 'scientifique appliqué français', 'technologue français', 'C est quoi Yncréa Ouest  ', 'Combien y a t il d écoles dans l ouest ', 'Combien y a t il d école dans l ouest ', 'Combien y a t il d scolarité dans l ouest ', 'Quels sont les campus de l ISEN Ouest  ', 'Quels ar les campus de l ISEN Ouest  ', 'Quels être les campus de l ISEN Ouest  ', 'Brest  Caen  Nantes et Rennes', 'Brest  Caen  Nantes et Rennes', 'Brest  Caen  Nantes et caribou', 'Où peut on étudier à l ISEN ', 'Où étain on étudier à l ISEN ', 'Où boîte de conserve on étudier à l ISEN ', 'quelles sont les centre de formation de l isen ', 'quelles ar les centre de formation de l isen ', 'quelles être les centre de formation de l isen ', 'quelle est la localisation de l ISEN ', 'quelle est la placement de l ISEN ', 'quelle est la localiser de l ISEN ', 'Quelles sont les certifications d Yncréa  ', 'Quelles ar les certifications d Yncréa  ', 'Quelles être les certifications d Yncréa  ', 'L isen est il sous contrat avec le Ministère de l Enseignement Supérieur et de la Recherche  ', 'L isen est il en dessous de contrat avec le Ministère de l Enseignement Supérieur et de la Recherche  ', 'L isen est il au dessous de contrat avec le Ministère de l Enseignement Supérieur et de la Recherche  ', 'L isen est il sous contrat avec le MESR  ', 'L isen est il en dessous de contrat avec le MESR  ', 'L isen est il au dessous de contrat avec le MESR  ', 'gage de qualité de l isen', 'griller de qualité de l isen', 'assurance de qualité de l isen', 'MESR', 'L isen est il reconnu de quelconques manières ', 'L isen est il reconnaître de quelconques manières ', 'L isen est il connaître de quelconques manières ', 'Qu offre l ISEN en terme d assurrance de reconnaissance du niveau de sortie ', 'Qu offre l ISEN en terme d assurrance de reconnaissance du niveau de sortie ', 'Qu fissure l ISEN en terme d assurrance de reconnaissance du niveau de sortie ', 'Quel est le taux d insertion des jeunes diplômés  ', 'Quel est le charge per unit d insertion des jeunes diplômés  ', 'Quel est le rythme d insertion des jeunes diplômés  ', 'taux d insertion', 'charge per unit d insertion', 'rythme d insertion', 'Où sont embauchés les jeunes diplômés  ', 'Où ar embauchés les jeunes diplômés  ', 'Où être embauchés les jeunes diplômés  ', 'lieu d embauche', 'placement d embauche', 'localiser d embauche', 'Quels sont les lieux de travail après diplôme  ', 'Quels ar les lieux de travail après diplôme  ', 'Quels être les lieux de travail après diplôme  ', 'Trouve t on facilement du diplôme après l isen ', 'percée t on facilement du diplôme après l isen ', 'trouver t on facilement du diplôme après l isen ', 'Est on obligé de travailler sur paris après notre diplome ', 'Est on obligé de travailler sur Paris après notre diplome ', 'Est on obligé de travailler sur Ville de lumière après notre diplome ', 'Quelle est le taux d embauches après l ISEN ', 'Quelle est le charge per unit d embauches après l ISEN ', 'Quelle est le rythme d embauches après l ISEN ', 'C est quoi Yncrea  ', 'Qu est ce que Yncréa  ', 'Yncrea', 'Junia', 'Yncrea ouest', 'Yncrea medittérannée', 'Yncrea Mer Méditerranée', 'Yncrea Nord', 'Yncrea syndicat', 'Yncrea due north', 'L isen fait elle est partie d un groupe ', 'L isen fais elle est partie d un groupe ', 'L isen avoir elle est partie d un groupe ', 'Pourquoi Yncrea ', 'pour cette raison Yncrea ', 'Quelle différences entre l isen et l Yncrea ', 'Quelle déviation entre l isen et l Yncrea ', 'Quelle divergence entre l isen et l Yncrea ', 'Combien y a t il d étudiants  ', 'Combien y a t il d instruit  ', 'Combien y a t il d savant  ', 'Combien y a t il d enseignants permanents ', 'Combien y a t il d instructeur permanents ', 'Combien y a t il d enseignants vague permanente ', 'Combien y a t il d alumnis  ', 'Combien y a t il d ancienne élève  ', 'Combien y a t il d alun  ', 'nombre étudiants', 'chiffre étudiants', 'acte étudiants', 'nombre élèves', 'chiffre élèves', 'acte élèves', 'Quelles est le chiffre d étudiants à l isen ', 'Quelles est le figure d étudiants à l isen ', 'Quelles est le corps humain d étudiants à l isen ', 'Quelle est la population de l isen ', 'Quelle est la univers de l isen ', 'Quels sont les tarifs du cycle CGSI  ', 'Quels ar les tarifs du cycle CGSI  ', 'Quels être les tarifs du cycle CGSI  ', 'prix CGSI', 'le prix CGSI', 'Coût CGSI', 'Quels sont les frais de scolarité du cycle CGSI  ', 'Quels ar les frais de scolarité du cycle CGSI  ', 'Quels être les frais de scolarité du cycle CGSI  ', 'Combien coûte les années 1 et 2 en CSI  ', 'Combien valeur monétaire les années 1 et 2 en CSI  ', 'Combien le prix les années 1 et 2 en CSI  ', 'Combien coûte les années 1 et 2 classes préparatoires implantées', 'Combien valeur monétaire les années 1 et 2 classes préparatoires implantées', 'Combien le prix les années 1 et 2 classes préparatoires implantées', 'tarif CGSI', 'charge per unit CGSI', 'rythme CGSI', 'tarif CSI', 'charge per unit CSI', 'rythme CSI', 'Quelle est le montant d une année du cycle généraliste ', \"Quelle est le somme d'argent d une année du cycle généraliste \", 'Quelle est le montant d une année du cycle généraliste ', 'une année du cycle généraliste  ça coute combien ', 'une classer du cycle généraliste  ça coute combien ', 'une année du cycle généraliste  ça coute combien ', 'Quels sont les tarifs du cycle CIR ', 'Quels ar les tarifs du cycle CIR ', 'Quels être les tarifs du cycle CIR ', 'tarif CIR', 'charge per unit CIR', 'rythme CIR', 'prix CIR', 'le prix CIR', 'Coût CIR', 'Quels sont les frais de scolarité du cycle CIR ', 'Quels ar les frais de scolarité du cycle CIR ', 'Quels être les frais de scolarité du cycle CIR ', 'Combien coûte les années 1 et 2 en CIR ', 'Combien valeur monétaire les années 1 et 2 en CIR ', 'Combien le prix les années 1 et 2 en CIR ', 'Combien coûte les années 1 et 2 en Cycle Informatique et Réseaux', 'Combien valeur monétaire les années 1 et 2 en Cycle Informatique et Réseaux', 'Combien le prix les années 1 et 2 en Cycle Informatique et Réseaux', 'Quelle est le montant d une année du cycle informatique ', \"Quelle est le somme d'argent d une année du cycle informatique \", 'Quelle est le montant d une année du cycle informatique ', 'une année du cycle informatique  ça coute combien ', 'une classer du cycle informatique  ça coute combien ', 'une année du cycle informatique  ça coute combien ', 'Quels sont les tarifs du cycle BIOST ', 'Quels ar les tarifs du cycle BIOST ', 'Quels être les tarifs du cycle BIOST ', 'tarif BIOST', 'charge per unit BIOST', 'rythme BIOST', 'prix BIOST', 'le prix BIOST', 'Coût BIOST', 'Quels sont les frais de scolarité du cycle BIOST ', 'Quels ar les frais de scolarité du cycle BIOST ', 'Quels être les frais de scolarité du cycle BIOST ', 'Combien coûte les années 1 et 2 en BIOST ', 'Combien valeur monétaire les années 1 et 2 en BIOST ', 'Combien le prix les années 1 et 2 en BIOST ', 'Combien coûte les années 1 et 2 en Cycle Biologie  Sciences et Technologies', 'Combien valeur monétaire les années 1 et 2 en Cycle Biologie  Sciences et Technologies', 'Combien le prix les années 1 et 2 en Cycle Biologie  Sciences et Technologies', 'Quelle est le montant d une année du cycle biologique ', \"Quelle est le somme d'argent d une année du cycle biologique \", 'Quelle est le montant d une année du cycle biologique ', 'une année du cycle biologique  ça coute combien ', 'une classer du cycle biologique  ça coute combien ', 'une année du cycle biologique  ça coute combien ', 'Quels sont les tarifs du cycle CENT  ', 'tarif CENT', 'Prix CENT', 'Quels sont les frais de scolarité du cycle CENT  ', 'Combien coûte les années 1 et 2 en CENT  ', 'Combien coûte les années 1 et 2 en Cycle Economie Numérique et Technologies', 'Combien valeur monétaire les années 1 et 2 en Cycle Economie Numérique et Technologies', 'Combien le prix les années 1 et 2 en Cycle Economie Numérique et Technologies', 'Quelle est le montant d une année du cycle economie ', \"Quelle est le somme d'argent d une année du cycle economie \", 'Quelle est le montant d une année du cycle economie ', 'une année du cycle economie  ça coute combien ', 'une classer du cycle economie  ça coute combien ', 'une année du cycle economie  ça coute combien ', 'Quels sont les tarifs du cycle EST ', 'Quels ar les tarifs du cycle EST ', 'Quels être les tarifs du cycle EST ', 'tarif EST', 'charge per unit EST', 'rythme EST', 'prix EST', 'le prix EST', 'Coût EST', 'Quels sont les frais de scolarité du cycle EST ', 'Quels ar les frais de scolarité du cycle EST ', 'Quels être les frais de scolarité du cycle EST ', 'Combien coûte les années 1 et 2 en EST ', 'Combien valeur monétaire les années 1 et 2 en EST ', 'Combien le prix les années 1 et 2 en EST ', 'Combien coûte les années 1 et 2 en Cycle Environnement  Sciences et Technologies', 'Combien valeur monétaire les années 1 et 2 en Cycle Environnement  Sciences et Technologies', 'Combien le prix les années 1 et 2 en Cycle Environnement  Sciences et Technologies', 'Quelle est le montant d une année du cycle environnement ', \"Quelle est le somme d'argent d une année du cycle environnement \", 'Quelle est le montant d une année du cycle environnement ', 'une année du cycle environnement  ça coute combien ', 'une classer du cycle environnement  ça coute combien ', 'une année du cycle environnement  ça coute combien ', 'Quels sont les tarifs du cycle BIAST ', 'Quels ar les tarifs du cycle BIAST ', 'Quels être les tarifs du cycle BIAST ', 'Tarif BIAST', 'charge per unit BIAST', 'rythme BIAST', 'prix BIAST', 'le prix BIAST', 'Coût BIAST', 'Quels sont les frais de scolarité du cycle BIAST ', 'Quels ar les frais de scolarité du cycle BIAST ', 'Quels être les frais de scolarité du cycle BIAST ', 'Combien coûte les années 1 et 2 en BIAST ', 'Combien valeur monétaire les années 1 et 2 en BIAST ', 'Combien le prix les années 1 et 2 en BIAST ', 'Combien coûte les années 1 et 2 en Cycle Biologie  Agronomie  Sciences et Technologies', 'Combien valeur monétaire les années 1 et 2 en Cycle Biologie  Agronomie  Sciences et Technologies', 'Combien le prix les années 1 et 2 en Cycle Biologie  Agronomie  Sciences et Technologies', 'Quelle est le montant d une année du cycle agronomie ', \"Quelle est le somme d'argent d une année du cycle agronomie \", 'Quelle est le montant d une année du cycle agronomie ', 'une année du cycle agronomie  ça coute combien ', 'une classer du cycle agronomie  ça coute combien ', 'une année du cycle agronomie  ça coute combien ', 'Quels sont les tarifs du cycle ingénieur ', 'Quels ar les tarifs du cycle ingénieur ', 'Quels être les tarifs du cycle ingénieur ', 'Quel est le prix à BAC+3', 'Quel est le le prix à BAC+3', 'Quel est le Coût à BAC+3', 'Quel est le tarif du cycle ingénieur ', 'Quel est le charge per unit du cycle ingénieur ', 'Quel est le rythme du cycle ingénieur ', 'prix des années 3  4 et 5', 'le prix des années 3  4 et 5', 'Coût des années 3  4 et 5', 'prix années Master A3 M1 M2', 'le prix années Master A3 M1 M2', 'Coût années Master A3 M1 M2', 'Quels sont les frais de scolarité en années 3  4 et 5  ', 'Quels ar les frais de scolarité en années 3  4 et 5  ', 'Quels être les frais de scolarité en années 3  4 et 5  ', 'Combien coûte les années 3 à 5  ', 'Combien valeur monétaire les années 3 à 5  ', 'Combien le prix les années 3 à 5  ', 'Quelle est le montant d une année du cycle supérieur ', \"Quelle est le somme d'argent d une année du cycle supérieur \", 'Quelle est le montant d une année du cycle supérieur ', 'une année du cycle supérieur  ça coute combien ', 'une classer du cycle supérieur  ça coute combien ', 'une année du cycle supérieur  ça coute combien ', 'Comment puis je payer l école  ', 'Comment alors je payer l école  ', 'Comment et donc je payer l école  ', 'Comment puis je payer la formation ', 'Comment alors je payer la formation ', 'Comment et donc je payer la formation ', 'Comment puis je payer l ISEN ', 'Comment alors je payer l ISEN ', 'Comment et donc je payer l ISEN ', 'Comment financer mes études   ', 'Comment financer mes enquête   ', 'Comment financer mes étude   ', 'bourses d  excellence', 'érudition d  excellence', 'apprentissage d  excellence', 'Quelles sont les bourses disponibles ', 'Quelles ar les bourses disponibles ', 'Quelles être les bourses disponibles ', 'ERASMUS est il disponible pour payer l isen', 'Desiderius Erasmus est il disponible pour payer l isen', 'Gerhard Gerhards est il disponible pour payer l isen', 'l accès aux bourses est elle possible en intégrant l isen ', 'l accéder aux bourses est elle possible en intégrant l isen ', 'l accession aux bourses est elle possible en intégrant l isen ', 'L isen dispose t elle de bourses d études ', 'L isen HA t elle de bourses d études ', 'L isen avoir t elle de bourses d études ', 'une bourse est elle décrochable selon nos perfomances académiques ', 'une bourse est elle oblitérable selon nos perfomances académiques ', 'une bourse est elle décrochable selon nos performance académiques ', 'Sportif de Haut Niveau', 'acrobatique de Haut Niveau', 'gymnastique de Haut Niveau', 'Peut on être SHN ', 'étain on être SHN ', 'boîte de conserve on être SHN ', 'Peut on être en Sport de Haut Niveau ', 'étain on être en Sport de Haut Niveau ', 'boîte de conserve on être en Sport de Haut Niveau ', 'L isen est elle adaptée pour les Sportifs ', 'L isen est elle accommoder pour les Sportifs ', 'L isen est elle régler pour les Sportifs ', 'L isen est elle adaptée pour le Sport de compétition ', 'L isen est elle accommoder pour le Sport de compétition ', 'L isen est elle régler pour le Sport de compétition ', 'Peut on être accompagner en tant que sportif ', 'étain on être accompagner en tant que sportif ', 'boîte de conserve on être accompagner en tant que sportif ', 'Puis je continuer mon activité sportive de haut niveau en intégrant l isen ', 'alors je continuer mon activité sportive de haut niveau en intégrant l isen ', 'et donc je continuer mon activité sportive de haut niveau en intégrant l isen ', 'Un aménagement des horaires est il possible si je suis sportif de haut niveau ', 'Un aménagement des ordre du jour est il possible si je suis sportif de haut niveau ', 'Un aménagement des rôle est il possible si je suis sportif de haut niveau ', 'Y a t il un Internat ', 'Quels sont les logements autour de l école', 'Quels ar les logements autour de l école', 'Quels être les logements autour de l école', 'Quelles sont les résidences étudiantes ', 'Quelles ar les résidences étudiantes ', 'Quelles être les résidences étudiantes ', 'Pourrais je avoir des informations sur les habitations autour ', 'Pourrais je avoir des Info sur les habitations autour ', 'Pourrais je avoir des Les données sur les habitations autour ', 'où loger autour de l école ', 'où Sir Oliver Lodge autour de l école ', 'où Sir Oliver Joseph Lodge autour de l école ', 'Comment trouver un logement à proximité de l isen ', 'Comment trouver un hébergement à proximité de l isen ', 'Comment trouver un logements de vie à proximité de l isen ', 'Où habiter si j intègre l isen ', 'Où habiter si j déségréger l isen ', 'Où habiter si j mélanger l isen ', 'Des conseils sur où se loger en intégrant l ISEN ', 'Des conseils sur où se Loge en intégrant l ISEN ', 'Des conseils sur où se Sir Oliver Lodge en intégrant l ISEN ', 'Quels sont les moyens de restauration ', 'Quels ar les moyens de restauration ', 'Quels être les moyens de restauration ', 'Comment puis je manger ', 'Comment alors je manger ', 'Comment et donc je manger ', 'Quels sont les lieux pour manger', 'Quels ar les lieux pour manger', 'Quels être les lieux pour manger', 'Y a t il une cafeteria ', 'Puis je manger au Super u ', 'alors je manger au Super u ', 'et donc je manger au Super u ', 'Comment se restaurer quand on étudie à l isen ', 'Comment se reconstruire quand on étudie à l isen ', 'Comment se régénérer quand on étudie à l isen ', 'l isen possède t elle une cafétaria ', 'l isen groupe comitatus t elle une cafétaria ', 'l isen posséder t elle une cafétaria ', 'L isen est elle loin des restaurants universitaires ', 'L isen est elle ALIR des restaurants universitaires ', 'L isen est elle Anciennes forces armées des restaurants universitaires ', 'Puis je visiter l isen', 'alors je visiter l isen', 'et donc je visiter l isen', 'Comment peut on découvrir le bâtiment', 'Comment étain on découvrir le bâtiment', 'Comment boîte de conserve on découvrir le bâtiment', 'Quelles sont les dates de Portes ouvertes', 'Quelles ar les dates de Portes ouvertes', 'Quelles être les dates de Portes ouvertes', 'nous rencontrer en portes ouvertes', 'nous sports meeting en portes ouvertes', 'nous percuter en portes ouvertes', 'Peut on visiter l isen', 'étain on visiter l isen', 'boîte de conserve on visiter l isen', 'peut on découvrir l isen lors de portes ouvertes ', 'étain on découvrir l isen lors de portes ouvertes ', 'boîte de conserve on découvrir l isen lors de portes ouvertes ', 'y a t il une possibilité de rencontrer les professeurs et visiter l établissement ', 'y a t il une hypothèse de rencontrer les professeurs et visiter l établissement ', 'y a t il une théorie de rencontrer les professeurs et visiter l établissement ', 'L école est elle adaptée aux Handicaps', 'L école est elle adaptée aux Handicaps', 'L scolarité est elle adaptée aux Handicaps', 'Peut on avoir un tiers temps', 'étain on avoir un tiers temps', 'boîte de conserve on avoir un tiers temps', 'A t on des aménagements handicaps', 'A t on des conforts de créature handicaps', 'A t on des Agréments handicaps', 'Peut on y venir avec un fauteuil roulant', 'étain on y venir avec un fauteuil roulant', 'boîte de conserve on y venir avec un fauteuil roulant', 'Le batiment est il accessible pour les personnes à mobilité réduite', 'Le édifice est il accessible pour les personnes à mobilité réduite', 'Le construction est il accessible pour les personnes à mobilité réduite', 'Je suis en situation de handicap  l isen a t elle les capacités de me recevoir ', 'Je Un m en situation de handicap  l isen a t elle les capacités de me recevoir ', 'Je numéro atomique 95 en situation de handicap  l isen a t elle les capacités de me recevoir ', 'L isen est elle habilité a accueillir les étudiants ayant besoin d aménagement spécifiques ', 'L isen est elle passe a accueillir les étudiants ayant besoin d aménagement spécifiques ', 'L isen est elle dégager a accueillir les étudiants ayant besoin d aménagement spécifiques ', 'Quels sont les clubs isen', 'Quels ar les clubs isen', 'Quels être les clubs isen', 'Quelles sont les associations étudiantes', 'Quelles ar les associations étudiantes', 'Quelles être les associations étudiantes', 'Peut on en savoir plus sur la vie étudiante', 'étain on en savoir plus sur la vie étudiante', 'boîte de conserve on en savoir plus sur la vie étudiante', 'Quel est le club digitaldesign', 'Quel est le ball club digitaldesign', 'Quel est le club digitaldesign', 'Quel est le club 4Ltrophy', 'Quel est le ball club 4Ltrophy', 'Quel est le club 4Ltrophy', 'Quel est le club BDD', 'Quel est le ball club BDD', 'Quel est le club BDD', 'Quel est le club BDI', 'Quel est le ball club BDI', 'Quel est le club BDI', 'Quel est le club BDS', 'Quel est le ball club BDS', 'Quel est le club BDS', 'Quel est le club club évasion', 'Quel est le ball club ball club évasion', 'Quel est le club club évasion', 'BDA', 'Quelle est la vie étudiante au sein de l ISEN ', 'Quelle est la vie instruit au sein de l ISEN ', 'Quelle est la vie savant au sein de l ISEN ', 'L isen possède t elle des associations pour développer la vie étudiante ', 'L isen groupe comitatus t elle des associations pour développer la vie étudiante ', 'L isen posséder t elle des associations pour développer la vie étudiante ', 'Qu offre l isen en dehors des enseignements obligatoires ', 'Qu offre l isen en dehors des enseignements obligatoires ', 'Qu fissure l isen en dehors des enseignements obligatoires ', 'Comment est la ville de Brest', 'Comment est la les citadins de Brest', 'Comment est la citadins de Brest', 'pourquoi venir à Brest', 'pour cette raison venir à Brest', 'pourquoi venir à Brest', 'Comment est la vie en finistère', 'Pleut il vraiment à Brest', 'pleuvoir il vraiment à Brest', 'il pleut il vraiment à Brest', 'Quelles sont les avantages de vivre à Brest ', 'Quelles ar les avantages de vivre à Brest ', 'Quelles être les avantages de vivre à Brest ', 'A quoi m attendre de Brest ', 'A quoi m anticiper de Brest ', 'A quoi m interroger de Brest ', 'La vie brestoise est t elle compliqué ou chère ', 'La vie brestoise est t elle embarrasser ou chère ', 'La vie brestoise est t elle affiner ou chère ', 'Quelles sont les Offres d emploi', 'Quelles ar les Offres d emploi', 'Quelles être les Offres d emploi', 'Peut on travailler à Yncrea', 'étain on travailler à Yncrea', 'boîte de conserve on travailler à Yncrea', 'Peut on Travailler à l ISEN', 'étain on Travailler à l ISEN', 'boîte de conserve on Travailler à l ISEN', 'Peut t on prendre un emploi étudiant au sein de l isen ', 'étain t on prendre un emploi étudiant au sein de l isen ', 'boîte de conserve t on prendre un emploi étudiant au sein de l isen ', 'L isen propose t elle des emplois rémunérés aux étudiants ', 'L isen suggérer t elle des emplois rémunérés aux étudiants ', 'L isen conseiller t elle des emplois rémunérés aux étudiants ']\n",
    "y_train_augmented = ['bienvenue', 'bienvenue', 'bienvenue', 'bienvenue', 'bienvenue', 'bienvenue', 'bienvenue', 'bienvenue', 'bienvenue', 'bienvenue', 'bienvenue', 'bienvenue', 'bienvenue', 'bienvenue', 'bienvenue', 'bienvenue', 'bienvenue', 'bienvenue', 'bienvenue', 'bienvenue', 'bienvenue', 'bienvenue', 'bienvenue', 'raison_isen', 'raison_isen', 'raison_isen', 'raison_isen', 'raison_isen', 'raison_isen', 'raison_isen', 'raison_isen', 'raison_isen', 'raison_isen', 'raison_isen', 'raison_isen', 'raison_isen', 'raison_isen', 'raison_isen', 'raison_isen', 'raison_isen', 'raison_isen', 'raison_isen', 'raison_isen', 'raison_isen', 'raison_isen', 'raison_isen', 'raison_isen', 'raison_isen', 'raison_isen', 'raison_isen', 'raison_isen', 'raison_isen', 'raison_isen', 'raison_isen', 'cursus_isen', 'cursus_isen', 'cursus_isen', 'cursus_isen', 'cursus_isen', 'cursus_isen', 'cursus_isen', 'cursus_isen', 'cursus_isen', 'cursus_isen', 'cursus_isen', 'cursus_isen', 'cursus_isen', 'cursus_isen', 'cursus_isen', 'cursus_isen', 'cursus_isen', 'cursus_isen', 'cursus_isen', 'cursus_isen', 'cursus_isen', 'cursus_isen', 'cursus_isen', 'cursus_isen', 'cursus_isen', 'cursus_isen', 'cursus_isen', 'cursus_isen', 'cursus_isen', 'cursus_isen', 'cursus_isen', 'cursus_isen', 'cursus_isen', 'cursus_isen', 'cursus_isen', 'cursus_isen', 'cursus_isen', 'cursus_isen', 'cursus_isen', 'cursus_isen', 'cursus_isen', 'campus_ouest', 'campus_ouest', 'campus_ouest', 'campus_ouest', 'campus_ouest', 'campus_ouest', 'campus_ouest', 'campus_ouest', 'campus_ouest', 'campus_ouest', 'campus_ouest', 'campus_ouest', 'campus_ouest', 'campus_ouest', 'campus_ouest', 'campus_ouest', 'campus_ouest', 'campus_ouest', 'campus_ouest', 'certifications', 'certifications', 'certifications', 'certifications', 'certifications', 'certifications', 'certifications', 'certifications', 'certifications', 'certifications', 'certifications', 'certifications', 'certifications', 'certifications', 'certifications', 'certifications', 'certifications', 'certifications', 'certifications', 'Taux_insertion', 'Taux_insertion', 'Taux_insertion', 'Taux_insertion', 'Taux_insertion', 'Taux_insertion', 'Taux_insertion', 'Taux_insertion', 'Taux_insertion', 'Taux_insertion', 'Taux_insertion', 'Taux_insertion', 'Taux_insertion', 'Taux_insertion', 'Taux_insertion', 'Taux_insertion', 'Taux_insertion', 'Taux_insertion', 'Taux_insertion', 'Taux_insertion', 'Taux_insertion', 'Taux_insertion', 'Taux_insertion', 'Taux_insertion', 'Yncrea', 'Yncrea', 'Yncrea', 'Yncrea', 'Yncrea', 'Yncrea', 'Yncrea', 'Yncrea', 'Yncrea', 'Yncrea', 'Yncrea', 'Yncrea', 'Yncrea', 'Yncrea', 'Yncrea', 'Yncrea', 'Yncrea', 'Yncrea', 'Nombre_etudiants_alumni_etudiants', 'Nombre_etudiants_alumni_etudiants', 'Nombre_etudiants_alumni_etudiants', 'Nombre_etudiants_alumni_etudiants', 'Nombre_etudiants_alumni_etudiants', 'Nombre_etudiants_alumni_etudiants', 'Nombre_etudiants_alumni_etudiants', 'Nombre_etudiants_alumni_etudiants', 'Nombre_etudiants_alumni_etudiants', 'Nombre_etudiants_alumni_etudiants', 'Nombre_etudiants_alumni_etudiants', 'Nombre_etudiants_alumni_etudiants', 'Nombre_etudiants_alumni_etudiants', 'Nombre_etudiants_alumni_etudiants', 'Nombre_etudiants_alumni_etudiants', 'Nombre_etudiants_alumni_etudiants', 'Nombre_etudiants_alumni_etudiants', 'Nombre_etudiants_alumni_etudiants', 'Nombre_etudiants_alumni_etudiants', 'Nombre_etudiants_alumni_etudiants', 'tarif_CGSI', 'tarif_CGSI', 'tarif_CGSI', 'tarif_CGSI', 'tarif_CGSI', 'tarif_CGSI', 'tarif_CGSI', 'tarif_CGSI', 'tarif_CGSI', 'tarif_CGSI', 'tarif_CGSI', 'tarif_CGSI', 'tarif_CGSI', 'tarif_CGSI', 'tarif_CGSI', 'tarif_CGSI', 'tarif_CGSI', 'tarif_CGSI', 'tarif_CGSI', 'tarif_CGSI', 'tarif_CGSI', 'tarif_CGSI', 'tarif_CGSI', 'tarif_CGSI', 'tarif_CGSI', 'tarif_CGSI', 'tarif_CGSI', 'tarif_CIR', 'tarif_CIR', 'tarif_CIR', 'tarif_CIR', 'tarif_CIR', 'tarif_CIR', 'tarif_CIR', 'tarif_CIR', 'tarif_CIR', 'tarif_CIR', 'tarif_CIR', 'tarif_CIR', 'tarif_CIR', 'tarif_CIR', 'tarif_CIR', 'tarif_CIR', 'tarif_CIR', 'tarif_CIR', 'tarif_CIR', 'tarif_CIR', 'tarif_CIR', 'tarif_CIR', 'tarif_CIR', 'tarif_CIR', 'tarif_BIOST', 'tarif_BIOST', 'tarif_BIOST', 'tarif_BIOST', 'tarif_BIOST', 'tarif_BIOST', 'tarif_BIOST', 'tarif_BIOST', 'tarif_BIOST', 'tarif_BIOST', 'tarif_BIOST', 'tarif_BIOST', 'tarif_BIOST', 'tarif_BIOST', 'tarif_BIOST', 'tarif_BIOST', 'tarif_BIOST', 'tarif_BIOST', 'tarif_BIOST', 'tarif_BIOST', 'tarif_BIOST', 'tarif_BIOST', 'tarif_BIOST', 'tarif_BIOST', 'tarif_CENT', 'tarif_CENT', 'tarif_CENT', 'tarif_CENT', 'tarif_CENT', 'tarif_CENT', 'tarif_CENT', 'tarif_CENT', 'tarif_CENT', 'tarif_CENT', 'tarif_CENT', 'tarif_CENT', 'tarif_CENT', 'tarif_CENT', 'tarif_CENT', 'tarif_CENT', 'tarif_CENT', 'tarif_CENT', 'tarif_CENT', 'tarif_CENT', 'tarif_CENT', 'tarif_CENT', 'tarif_CENT', 'tarif_CENT', 'tarif_CENT', 'tarif_CENT', 'tarif_CENT', 'tarif_CENT', 'tarif_CENT', 'tarif_EST', 'tarif_EST', 'tarif_EST', 'tarif_EST', 'tarif_EST', 'tarif_EST', 'tarif_EST', 'tarif_EST', 'tarif_EST', 'tarif_EST', 'tarif_EST', 'tarif_EST', 'tarif_EST', 'tarif_EST', 'tarif_EST', 'tarif_EST', 'tarif_EST', 'tarif_EST', 'tarif_EST', 'tarif_EST', 'tarif_EST', 'tarif_EST', 'tarif_EST', 'tarif_EST', 'tarif_BIAST', 'tarif_BIAST', 'tarif_BIAST', 'tarif_BIAST', 'tarif_BIAST', 'tarif_BIAST', 'tarif_BIAST', 'tarif_BIAST', 'tarif_BIAST', 'tarif_BIAST', 'tarif_BIAST', 'tarif_BIAST', 'tarif_BIAST', 'tarif_BIAST', 'tarif_BIAST', 'tarif_BIAST', 'tarif_BIAST', 'tarif_BIAST', 'tarif_BIAST', 'tarif_BIAST', 'tarif_BIAST', 'tarif_BIAST', 'tarif_BIAST', 'tarif_BIAST', 'tarif_cycle_ingenieur', 'tarif_cycle_ingenieur', 'tarif_cycle_ingenieur', 'tarif_cycle_ingenieur', 'tarif_cycle_ingenieur', 'tarif_cycle_ingenieur', 'tarif_cycle_ingenieur', 'tarif_cycle_ingenieur', 'tarif_cycle_ingenieur', 'tarif_cycle_ingenieur', 'tarif_cycle_ingenieur', 'tarif_cycle_ingenieur', 'tarif_cycle_ingenieur', 'tarif_cycle_ingenieur', 'tarif_cycle_ingenieur', 'tarif_cycle_ingenieur', 'tarif_cycle_ingenieur', 'tarif_cycle_ingenieur', 'tarif_cycle_ingenieur', 'tarif_cycle_ingenieur', 'tarif_cycle_ingenieur', 'tarif_cycle_ingenieur', 'tarif_cycle_ingenieur', 'tarif_cycle_ingenieur', 'tarif_cycle_ingenieur', 'tarif_cycle_ingenieur', 'tarif_cycle_ingenieur', 'Bourses', 'Bourses', 'Bourses', 'Bourses', 'Bourses', 'Bourses', 'Bourses', 'Bourses', 'Bourses', 'Bourses', 'Bourses', 'Bourses', 'Bourses', 'Bourses', 'Bourses', 'Bourses', 'Bourses', 'Bourses', 'Bourses', 'Bourses', 'Bourses', 'Bourses', 'Bourses', 'Bourses', 'Bourses', 'Bourses', 'Bourses', 'Bourses', 'Bourses', 'Bourses', 'SHN', 'SHN', 'SHN', 'SHN', 'SHN', 'SHN', 'SHN', 'SHN', 'SHN', 'SHN', 'SHN', 'SHN', 'SHN', 'SHN', 'SHN', 'SHN', 'SHN', 'SHN', 'SHN', 'SHN', 'SHN', 'SHN', 'ISEN_logement', 'ISEN_logement', 'ISEN_logement', 'ISEN_logement', 'ISEN_logement', 'ISEN_logement', 'ISEN_logement', 'ISEN_logement', 'ISEN_logement', 'ISEN_logement', 'ISEN_logement', 'ISEN_logement', 'ISEN_logement', 'ISEN_logement', 'ISEN_logement', 'ISEN_logement', 'ISEN_logement', 'ISEN_logement', 'ISEN_logement', 'ISEN_logement', 'ISEN_logement', 'ISEN_logement', 'ISEN_restauration', 'ISEN_restauration', 'ISEN_restauration', 'ISEN_restauration', 'ISEN_restauration', 'ISEN_restauration', 'ISEN_restauration', 'ISEN_restauration', 'ISEN_restauration', 'ISEN_restauration', 'ISEN_restauration', 'ISEN_restauration', 'ISEN_restauration', 'ISEN_restauration', 'ISEN_restauration', 'ISEN_restauration', 'ISEN_restauration', 'ISEN_restauration', 'ISEN_restauration', 'ISEN_restauration', 'ISEN_restauration', 'ISEN_restauration', 'ISEN_restauration', 'ISEN_restauration', 'visite_virtuelle_PO', 'visite_virtuelle_PO', 'visite_virtuelle_PO', 'visite_virtuelle_PO', 'visite_virtuelle_PO', 'visite_virtuelle_PO', 'visite_virtuelle_PO', 'visite_virtuelle_PO', 'visite_virtuelle_PO', 'visite_virtuelle_PO', 'visite_virtuelle_PO', 'visite_virtuelle_PO', 'visite_virtuelle_PO', 'visite_virtuelle_PO', 'visite_virtuelle_PO', 'visite_virtuelle_PO', 'visite_virtuelle_PO', 'visite_virtuelle_PO', 'visite_virtuelle_PO', 'visite_virtuelle_PO', 'visite_virtuelle_PO', 'Handicap', 'Handicap', 'Handicap', 'Handicap', 'Handicap', 'Handicap', 'Handicap', 'Handicap', 'Handicap', 'Handicap', 'Handicap', 'Handicap', 'Handicap', 'Handicap', 'Handicap', 'Handicap', 'Handicap', 'Handicap', 'Handicap', 'Handicap', 'Handicap', 'Clubs_etudiants', 'Clubs_etudiants', 'Clubs_etudiants', 'Clubs_etudiants', 'Clubs_etudiants', 'Clubs_etudiants', 'Clubs_etudiants', 'Clubs_etudiants', 'Clubs_etudiants', 'Clubs_etudiants', 'Clubs_etudiants', 'Clubs_etudiants', 'Clubs_etudiants', 'Clubs_etudiants', 'Clubs_etudiants', 'Clubs_etudiants', 'Clubs_etudiants', 'Clubs_etudiants', 'Clubs_etudiants', 'Clubs_etudiants', 'Clubs_etudiants', 'Clubs_etudiants', 'Clubs_etudiants', 'Clubs_etudiants', 'Clubs_etudiants', 'Clubs_etudiants', 'Clubs_etudiants', 'Clubs_etudiants', 'Clubs_etudiants', 'Clubs_etudiants', 'Clubs_etudiants', 'Clubs_etudiants', 'Clubs_etudiants', 'Clubs_etudiants', 'Clubs_etudiants', 'La vie à Brest', 'La vie à Brest', 'La vie à Brest', 'La vie à Brest', 'La vie à Brest', 'La vie à Brest', 'La vie à Brest', 'La vie à Brest', 'La vie à Brest', 'La vie à Brest', 'La vie à Brest', 'La vie à Brest', 'La vie à Brest', 'La vie à Brest', 'La vie à Brest', 'La vie à Brest', 'La vie à Brest', 'La vie à Brest', 'La vie à Brest', 'La vie à Brest', 'La vie à Brest']"
   ]
  },
  {
   "cell_type": "code",
   "execution_count": null,
   "id": "9e08d07f-5f03-4b04-ab60-cceea3dc8253",
   "metadata": {},
   "outputs": [],
   "source": []
  },
  {
   "cell_type": "markdown",
   "id": "362d9c1b-5534-45a0-b9cd-c0db2ad42939",
   "metadata": {
    "tags": []
   },
   "source": [
    "# nettoyage\n",
    "- Enlève les mots inutiles des phrases (programme adapté pour X_train ET X_test)"
   ]
  },
  {
   "cell_type": "code",
   "execution_count": 109,
   "id": "3833c552-4fc1-4e05-92df-d137b560ec4b",
   "metadata": {},
   "outputs": [
    {
     "data": {
      "text/plain": [
       "['puis', 'visit', 'isen']"
      ]
     },
     "execution_count": 109,
     "metadata": {},
     "output_type": "execute_result"
    }
   ],
   "source": [
    "from nltk.corpus import stopwords\n",
    "\n",
    "from nltk.stem.snowball import FrenchStemmer\n",
    "import string\n",
    "\n",
    "\n",
    "def clean_text(phrase): #fait du french stemming et du stop words sur une phrase\n",
    "    \"\"\"\n",
    "    test = True indique que la phrase fait parti du dataset de test --> donc on rajoute aux stop_words TOUS les mots du dataset train\n",
    "    \"\"\"\n",
    "    #print(f\"----------------------Début clean_text ------------------\")\n",
    "    try:\n",
    "        \n",
    "        \n",
    "        stemmer = FrenchStemmer()\n",
    "        \n",
    "        alphabet = list(string.ascii_lowercase)\n",
    "        une_lettre = [\"é\", \"â\", \"ê\", \"î\", \"ô\", \"û\", \"è\", \"ç\", \"ä\", \"ë\", \"ï\", \"ö\", \"ü\", \"ÿ\"]\n",
    "        for lettre in une_lettre:\n",
    "            alphabet.append(lettre)\n",
    "            \n",
    "        stop_words=stopwords.words(\"French\")\n",
    "        for element in alphabet:\n",
    "            stop_words.append(element)\n",
    "        \n",
    "        \n",
    "        \n",
    "        filtered_sentence=[]\n",
    "\n",
    "        #enlever les stop words\n",
    "        for mot in nltk.word_tokenize((phrase.lower())):\n",
    "                    \n",
    "                    #print(mot)\n",
    "                    if mot not in stop_words:\n",
    "                        filtered_sentence.append(mot)\n",
    "        #print(filtered_sentence)\n",
    "\n",
    "        #stemming en français\n",
    "     #  print(\"dans cas données train\")\n",
    "\n",
    "        stemmed = [stemmer.stem(i) for i in filtered_sentence] #stemmer.stem(i) bonne version avec stemming \n",
    "        return stemmed\n",
    "    \n",
    "    except:\n",
    "        print(\"stemming et stop_words n'ont pas fonctionnés\")\n",
    "    \n",
    "test=clean_text(\"\")\n",
    "test\n",
    "phrase_test = clean_text(\"Puis je visiter l isen\")\n",
    "phrase_test"
   ]
  },
  {
   "cell_type": "code",
   "execution_count": 108,
   "id": "98ab85dd-687a-448b-bf7d-361ff84fd676",
   "metadata": {},
   "outputs": [
    {
     "data": {
      "text/plain": [
       "[[],\n",
       " [],\n",
       " [],\n",
       " [],\n",
       " [],\n",
       " [],\n",
       " [],\n",
       " [],\n",
       " [],\n",
       " [],\n",
       " [],\n",
       " [],\n",
       " [],\n",
       " [],\n",
       " [],\n",
       " [],\n",
       " [],\n",
       " [],\n",
       " [],\n",
       " [],\n",
       " [],\n",
       " []]"
      ]
     },
     "execution_count": 108,
     "metadata": {},
     "output_type": "execute_result"
    }
   ],
   "source": [
    "def nettoyage(X_to_clean):\n",
    "    X_cleaned=[]\n",
    "    try :\n",
    "        for phrase in X_to_clean:\n",
    "             #   print(f\"phrase: {phrase}\")\n",
    "            X_cleaned.append(clean_text(phrase))\n",
    "            #print(f\"X_cleaned : {X_cleaned}\")\n",
    "            \n",
    "        return X_cleaned\n",
    "    except : \n",
    "        print(f\"nettoyage n'a pas marché sur {X_to_clean}\")\n",
    "X_train_augmented_clean = nettoyage(X_train_augmented)\n",
    "X_test_clean = nettoyage(X_test)\n",
    "\n"
   ]
  },
  {
   "cell_type": "code",
   "execution_count": 77,
   "id": "2d4441e5-76c8-473d-a270-1232bb5472e1",
   "metadata": {},
   "outputs": [],
   "source": [
    "#len(y_train_augmented)"
   ]
  },
  {
   "cell_type": "code",
   "execution_count": 78,
   "id": "db90283b-2da5-4055-9c6e-375330c4f8b7",
   "metadata": {},
   "outputs": [],
   "source": [
    "#print(X_test_clean)"
   ]
  },
  {
   "cell_type": "code",
   "execution_count": 79,
   "id": "0759ec80-5f9d-4af8-89c4-fa77ff4973e9",
   "metadata": {},
   "outputs": [],
   "source": [
    "#X = [['mot1','mot2','mot3'], ['mot4', 'mot5', 'mot6', 'mot7'], ['mot8', 'mot9', 'mot10']]\n",
    "#print(collage(X))\n",
    "\n",
    "# on veut ['mot1 mot2 mot3', 'mot4 mot5 mot6 mot7', mot8 mot9 mot10']"
   ]
  },
  {
   "cell_type": "code",
   "execution_count": 80,
   "id": "e7bd4b92-f95d-40e2-9e6d-31d512397db1",
   "metadata": {},
   "outputs": [
    {
     "name": "stdout",
     "output_type": "stream",
     "text": [
      "570\n",
      "42\n"
     ]
    }
   ],
   "source": [
    "print(len(X_train_augmented_clean))\n",
    "print(len(X_test_clean))\n",
    "def clean_multiple(X,y): #pour enlever les phrases qui se répètent après le data_augmentation_syn\n",
    "    new_X = [] \n",
    "    new_y = []\n",
    "\n",
    "    i=0\n",
    "    for phrase in X : \n",
    "        if phrase not in new_X: \n",
    "            new_X.append(phrase) \n",
    "            #print(\"\\n\",i)\n",
    "            new_y.append(y[i])\n",
    "            #print(phrase,\"----\",y[i],\" ------- i = \",i)\n",
    "        i+=1\n",
    "    return new_X, new_y\n",
    "\n",
    "X_train_augmented_clean, y_train_augmented = clean_multiple(X_train_augmented_clean, y_train_augmented)\n",
    "#X_train_augmented_clean"
   ]
  },
  {
   "cell_type": "code",
   "execution_count": 81,
   "id": "883e8703-6670-4f57-b07f-84c2fe12bc33",
   "metadata": {},
   "outputs": [
    {
     "name": "stdout",
     "output_type": "stream",
     "text": [
      "TRAIN\n",
      "\n",
      "TEST\n"
     ]
    }
   ],
   "source": [
    "def collage(X_to_merge):\n",
    "    #print(f\"taille debut : {len(X_to_merge)}\")\n",
    "    new_X = []\n",
    "    phrase=\"\"\n",
    "    for phrase in X_to_merge :\n",
    "        #print(\"phrase : \", phrase)\n",
    "        new_X.append(\" \".join(phrase))\n",
    "        \"\"\"for mot in phrase : \n",
    "            print('mot:',mot)\n",
    "            new_X.append(\" \".join(phrase))\n",
    "           \"\"\" \n",
    "    #print(f\"taille finale: {len(new_X)}\")\n",
    "    return new_X\n",
    "        \n",
    "print(\"TRAIN\")\n",
    "X_train_augmented_clean = collage(X_train_augmented_clean)\n",
    "    \n",
    "print(\"\\nTEST\")\n",
    "X_test_clean = collage(X_test_clean)\n",
    "#X_train_augmented_clean[:10]"
   ]
  },
  {
   "cell_type": "code",
   "execution_count": null,
   "id": "12b03ba8-2f31-46df-9e40-bf6d21648a82",
   "metadata": {},
   "outputs": [],
   "source": []
  },
  {
   "cell_type": "code",
   "execution_count": null,
   "id": "3e986f83-0a7b-4afa-b708-ef65468b0310",
   "metadata": {},
   "outputs": [],
   "source": []
  },
  {
   "cell_type": "code",
   "execution_count": 82,
   "id": "9bd51354-4071-426f-9a54-dadfcfcf7a50",
   "metadata": {},
   "outputs": [],
   "source": [
    "#X_train_augmented_clean_test"
   ]
  },
  {
   "cell_type": "code",
   "execution_count": null,
   "id": "57d15401-05cd-42f5-af45-c39d70805484",
   "metadata": {},
   "outputs": [],
   "source": []
  },
  {
   "cell_type": "code",
   "execution_count": 83,
   "id": "5a832592-a57a-4100-9882-c4647cfbd6e4",
   "metadata": {},
   "outputs": [
    {
     "data": {
      "text/plain": [
       "509"
      ]
     },
     "execution_count": 83,
     "metadata": {},
     "output_type": "execute_result"
    }
   ],
   "source": [
    "len(X_train_augmented_clean)"
   ]
  },
  {
   "cell_type": "code",
   "execution_count": 84,
   "id": "8d8f47a9-ab7e-4b57-8bb1-d39ea5cdea15",
   "metadata": {},
   "outputs": [
    {
     "data": {
      "text/plain": [
       "509"
      ]
     },
     "execution_count": 84,
     "metadata": {},
     "output_type": "execute_result"
    }
   ],
   "source": [
    "len(y_train_augmented)"
   ]
  },
  {
   "cell_type": "code",
   "execution_count": 85,
   "id": "80bd5b30-7234-4656-946e-51e430de1d38",
   "metadata": {},
   "outputs": [
    {
     "data": {
      "text/plain": [
       "42"
      ]
     },
     "execution_count": 85,
     "metadata": {},
     "output_type": "execute_result"
    }
   ],
   "source": [
    "len(X_test_clean)"
   ]
  },
  {
   "cell_type": "code",
   "execution_count": 86,
   "id": "bdeae7bd-e420-4145-aaa0-65d4c5c101b0",
   "metadata": {},
   "outputs": [
    {
     "data": {
      "text/plain": [
       "42"
      ]
     },
     "execution_count": 86,
     "metadata": {},
     "output_type": "execute_result"
    }
   ],
   "source": [
    "len(y_test)"
   ]
  },
  {
   "cell_type": "markdown",
   "id": "40450971-87be-4187-a5a4-577201339a64",
   "metadata": {
    "tags": []
   },
   "source": [
    "# Vectorizer\n",
    "- Vectoriser les patterns et voir leur gestion pour l'entrainement et la prédiction (prédiction normalement ok avec le 1er dictionnaire)\n",
    "- Vectoriser les Patterns train\n",
    "- Vectoriser les Patterns test de la même manière que ceux de train"
   ]
  },
  {
   "cell_type": "code",
   "execution_count": 87,
   "id": "6cf6eecf-81d6-43c3-8278-f70ba00e64cd",
   "metadata": {},
   "outputs": [],
   "source": [
    "from sklearn.preprocessing import OneHotEncoder\n",
    "\n",
    "#X_train = [\"mot1 mot2 mot3\",\"mot4\",\"mot1 mot3\"]\n",
    "#X_test = [\"mot1 mot2 mot3 mot5\"]\n",
    "\n",
    "def vectorizer(X_to_vect, train = True, encodeur = None):\n",
    "    try :\n",
    "        if train: #cas où on est sur les données d'entrainements : on doit donc créer notre encodeur\n",
    "            \n",
    "            enc1=CountVectorizer()\n",
    "            #enc1=LabelEncoder()\n",
    "            #enc1=LabelBinarizer()\n",
    "            #enc1=TfidfVectorizer()\n",
    "            #enc1=OneHotEncoder(handle_unknown='ignore')\n",
    "\n",
    "\n",
    "            enc1.fit(X_to_vect) #enc1.fit(X_train) --> supprimer les mots inconnues de la base de test --> enc1.transform(X_train) & enc1.transform(X_test)\n",
    "            X_train_vec = enc1.transform(X_to_vect)\n",
    "            X_train_vec = X_train_vec.toarray()\n",
    "            \n",
    "            return X_train_vec, enc1\n",
    "        \n",
    "        else: #cas où on est avec les données tests, on doit donc récupérer l'encodeur utilisé sur les données d'entrainement pour tranform dessus\n",
    "            X_test_vec = encodeur.transform(X_to_vect)\n",
    "            \n",
    "            X_test_vec = X_test_vec.toarray()\n",
    "            \n",
    "            return X_test_vec\n",
    "            \n",
    "    except :\n",
    "        print(\"la fonction vectorizer n'a pas fonctionnée\")\n",
    "\n",
    "#X_train_vec_test, encodeur = vectorizer(X_train) \n",
    "#X_test_vec_test = vectorizer(X_test, False, encodeur)\n",
    "\n",
    "X_train_vec, encodeur_X = vectorizer(X_train_augmented_clean) \n",
    "X_test_vec = vectorizer(X_test_clean, False, encodeur_X)\n",
    "\n",
    "y_train_vec, encodeur_y = vectorizer(y_train_augmented) \n",
    "y_test_vec = vectorizer(y_test, False, encodeur_y)"
   ]
  },
  {
   "cell_type": "code",
   "execution_count": 66,
   "id": "8ff05faf-9024-4bdc-98b0-465e42811600",
   "metadata": {},
   "outputs": [
    {
     "name": "stdout",
     "output_type": "stream",
     "text": [
      "[('divergent autr écol ingénieur', 'raison_isen'), ('quoi isen meilleur', 'raison_isen'), ('quoi isen parieur', 'raison_isen'), ('quoi isen paus', 'raison_isen'), ('pourquoi chois isen', 'raison_isen'), ('cet raison chois isen', 'raison_isen'), ('quel avantag offert isen', 'raison_isen'), ('quel ar avantag offert isen', 'raison_isen'), ('quel être avantag offert isen', 'raison_isen'), ('offre isen term enseign', 'raison_isen')]\n"
     ]
    }
   ],
   "source": [
    "#print(y_train_augmented[10:20])\n",
    "#for i in range (10,20\n",
    "print(list(zip(X_train_augmented_clean[30:40],y_train_augmented[30:40])))"
   ]
  },
  {
   "cell_type": "code",
   "execution_count": 30,
   "id": "7fd33902-3998-4360-8592-265cca4dd69a",
   "metadata": {},
   "outputs": [
    {
     "name": "stdout",
     "output_type": "stream",
     "text": [
      "[[1 1 1 0]\n",
      " [0 0 0 1]\n",
      " [1 0 1 0]]\n",
      "\n",
      " [[1 1 1 0]]\n"
     ]
    }
   ],
   "source": [
    "X_train_test = [\"mot1 mot2 mot3\",\"mot4\",\"mot1 mot3\"]\n",
    "X_test_test = [\"mot1 mot2 mot3 mot5\"]\n",
    "\n",
    "X_train_vec_test, encodeur_X_test = vectorizer(X_train_test) \n",
    "X_test_vec_test = vectorizer(X_test_test, False, encodeur_X_test)\n",
    "\n",
    "print(X_train_vec_test)\n",
    "\n",
    "print(\"\\n\",X_test_vec_test)\n",
    "#print(X_train_vec_test)\n",
    "#print(X_test_vec_test)"
   ]
  },
  {
   "cell_type": "code",
   "execution_count": 40,
   "id": "2e5d4c38-ca2b-4368-8f70-bc6cd3dd9b0f",
   "metadata": {},
   "outputs": [],
   "source": [
    "#encodeur_X.get_feature_names()"
   ]
  },
  {
   "cell_type": "markdown",
   "id": "51e7cc17-ba71-47ca-8f96-e2a0b8f36e2b",
   "metadata": {
    "tags": []
   },
   "source": [
    "## Dictionnaire numero tag\n",
    "- celui au dessus ne fonctionne pas car le np.unique ne conserve pas l'ordre initial"
   ]
  },
  {
   "cell_type": "code",
   "execution_count": 88,
   "id": "f94e0264-c013-4d08-a4fc-52ab822c1411",
   "metadata": {},
   "outputs": [
    {
     "data": {
      "text/plain": [
       "array([ 0,  0,  0,  0,  0,  0,  0,  0,  0,  0,  0,  0,  0,  0,  0,  0, 12,\n",
       "       12, 12, 12, 12, 12, 12, 12, 12, 12, 12, 12, 12, 12, 12, 12, 12, 12,\n",
       "       12, 12, 12, 12, 12, 12, 12, 12, 12, 12,  6,  6,  6,  6,  6,  6,  6,\n",
       "        6,  6,  6,  6,  6,  6,  6,  6,  6,  6,  6,  6,  6,  6,  6,  6,  6,\n",
       "        6,  6,  6,  6,  6,  6,  6,  6,  6,  6,  6,  6,  6,  3,  3,  3,  3,\n",
       "        3,  3,  3,  3,  3,  3,  3,  3,  3,  3,  3,  3,  4,  4,  4,  4,  4,\n",
       "        4,  4,  4,  4,  4,  4,  4,  4,  4,  4,  4, 21, 21, 21, 21, 21, 21,\n",
       "       21, 21, 21, 21, 21, 21, 21, 21, 21, 21, 21, 21, 21, 21, 21, 21, 24,\n",
       "       24, 24, 24, 24, 24, 24, 24, 24, 24, 24, 24, 24, 24, 24, 24, 24, 24,\n",
       "       11, 11, 11, 11, 11, 11, 11, 11, 11, 11, 11, 11, 11, 11, 11, 11, 11,\n",
       "       11, 11, 11, 17, 17, 17, 17, 17, 17, 17, 17, 17, 17, 17, 17, 17, 17,\n",
       "       17, 17, 17, 17, 17, 17, 17, 17, 17, 17, 18, 18, 18, 18, 18, 18, 18,\n",
       "       18, 18, 18, 18, 18, 18, 18, 18, 18, 18, 18, 18, 18, 18, 15, 15, 15,\n",
       "       15, 15, 15, 15, 15, 15, 15, 15, 15, 15, 15, 15, 15, 15, 15, 15, 15,\n",
       "       15, 16, 16, 16, 16, 16, 16, 16, 16, 16, 16, 16, 16, 16, 16, 16, 16,\n",
       "       16, 16, 16, 16, 16, 16, 16, 16, 16, 16, 20, 20, 20, 20, 20, 20, 20,\n",
       "       20, 20, 20, 20, 20, 20, 20, 20, 20, 20, 20, 20, 20, 20, 14, 14, 14,\n",
       "       14, 14, 14, 14, 14, 14, 14, 14, 14, 14, 14, 14, 14, 14, 14, 19, 19,\n",
       "       19, 19, 19, 19, 19, 19, 19, 19, 19, 19, 19, 19, 19, 19, 19, 19, 19,\n",
       "       19, 19, 19, 19, 19,  1,  1,  1,  1,  1,  1,  1,  1,  1,  1,  1,  1,\n",
       "        1,  1,  1,  1,  1,  1,  1,  1,  1,  1,  1,  1,  1,  1,  1,  1,  1,\n",
       "        1, 13, 13, 13, 13, 13, 13, 13, 13, 13, 13, 13, 13, 13, 13, 13, 13,\n",
       "       13, 13, 13, 13, 13, 13,  8,  8,  8,  8,  8,  8,  8,  8,  8,  8,  8,\n",
       "        8,  8,  8,  8,  8,  8,  8,  8,  8,  8,  9,  9,  9,  9,  9,  9,  9,\n",
       "        9,  9,  9,  9,  9,  9,  9,  9,  9,  9,  9,  9,  9,  9,  9,  9, 23,\n",
       "       23, 23, 23, 23, 23, 23, 23, 23, 23, 23, 23, 23, 23, 23, 23, 23, 23,\n",
       "       23, 23,  7,  7,  7,  7,  7,  7,  7,  7,  7,  7,  7,  7,  7,  7,  7,\n",
       "        7,  7,  7,  5,  5,  5,  5,  5,  5,  5,  5,  5,  5,  5,  5,  5,  5,\n",
       "        5,  5,  5,  5,  5,  5,  5,  5,  5,  5,  5,  5,  2,  2,  2,  2,  2,\n",
       "        2,  2,  2,  2,  2,  2,  2,  2,  2,  2,  2,  2,  2,  2,  2,  2],\n",
       "      dtype=int64)"
      ]
     },
     "execution_count": 88,
     "metadata": {},
     "output_type": "execute_result"
    }
   ],
   "source": [
    "y_train_vec.argmax(axis=1)"
   ]
  },
  {
   "cell_type": "code",
   "execution_count": 89,
   "id": "2ebfd17a-1175-456f-a097-c513d16a705c",
   "metadata": {},
   "outputs": [
    {
     "data": {
      "text/plain": [
       "{0: 'bienvenue',\n",
       " 12: 'raison_isen',\n",
       " 6: 'cursus_isen',\n",
       " 3: 'campus_ouest',\n",
       " 4: 'certifications',\n",
       " 21: 'Taux_insertion',\n",
       " 24: 'Yncrea',\n",
       " 11: 'Nombre_etudiants_alumni_etudiants',\n",
       " 17: 'tarif_CGSI',\n",
       " 18: 'tarif_CIR',\n",
       " 15: 'tarif_BIOST',\n",
       " 16: 'tarif_CENT',\n",
       " 20: 'tarif_EST',\n",
       " 14: 'tarif_BIAST',\n",
       " 19: 'tarif_cycle_ingenieur',\n",
       " 1: 'Bourses',\n",
       " 13: 'SHN',\n",
       " 8: 'ISEN_logement',\n",
       " 9: 'ISEN_restauration',\n",
       " 23: 'visite_virtuelle_PO',\n",
       " 7: 'Handicap',\n",
       " 5: 'Clubs_etudiants',\n",
       " 2: 'La vie à Brest'}"
      ]
     },
     "execution_count": 89,
     "metadata": {},
     "output_type": "execute_result"
    }
   ],
   "source": [
    "def dictionnaire_numero_tag(y_train_vec, y_train_augmented):\n",
    "\n",
    "    dictionnaire_test = {}\n",
    "    list_y_num = y_train_vec.argmax(axis=1)\n",
    "    for i in range (len(list_y_num)):\n",
    "        dictionnaire_test [list_y_num[i]] = y_train_augmented[i]\n",
    "    return dictionnaire_test\n",
    "num_tag = dictionnaire_numero_tag(y_train_vec, y_train_augmented)\n",
    "num_tag"
   ]
  },
  {
   "cell_type": "code",
   "execution_count": 90,
   "id": "1df132cf-6630-445c-9071-8a45131f250d",
   "metadata": {},
   "outputs": [
    {
     "data": {
      "text/plain": [
       "array([ 0,  1,  2,  3,  4,  5,  6,  7,  8,  9, 11, 12, 13, 14, 15, 16, 17,\n",
       "       18, 19, 20, 21, 23, 24], dtype=int64)"
      ]
     },
     "execution_count": 90,
     "metadata": {},
     "output_type": "execute_result"
    }
   ],
   "source": [
    "np.unique(y_train_vec.argmax(axis=1))"
   ]
  },
  {
   "cell_type": "code",
   "execution_count": null,
   "id": "f84a449e-2ff6-4f50-b57c-de8d1d29844a",
   "metadata": {},
   "outputs": [],
   "source": []
  },
  {
   "cell_type": "markdown",
   "id": "b52846e5-7bd3-43a9-a1c4-4c580f6cfb54",
   "metadata": {
    "tags": []
   },
   "source": [
    "# GridSearchCV\n",
    "- pour voir les meilleurs paramètres\n",
    "- Entrainement du modèle"
   ]
  },
  {
   "cell_type": "markdown",
   "id": "02597552-ce11-4b4c-8a89-bf4b8319015c",
   "metadata": {
    "tags": []
   },
   "source": [
    "## Random Forest"
   ]
  },
  {
   "cell_type": "code",
   "execution_count": 95,
   "id": "718f56a9-58d4-4f70-895e-edd5e654085d",
   "metadata": {},
   "outputs": [
    {
     "name": "stdout",
     "output_type": "stream",
     "text": [
      "62.142986536026\n",
      "les meilleurs paramètres sont : {'max_leaf_nodes': 17, 'n_estimators': 3} avec un score de 0.005917159763313609\n"
     ]
    }
   ],
   "source": [
    "from sklearn.model_selection import GridSearchCV\n",
    "from sklearn.ensemble import RandomForestClassifier\n",
    "import time\n",
    "#from sklearn.model_selection import RandomizedSearchCV\n",
    "\n",
    "start = time.time()\n",
    "\n",
    "param_grid= {'n_estimators':np.arange(1,30),\n",
    "            'max_leaf_nodes':np.arange(1,20)}\n",
    "\n",
    "grid_random_forest = GridSearchCV(RandomForestClassifier(random_state=123, oob_score = False),param_grid, cv=3) \n",
    "#random_state=123 permet de fixer l'aléatoire, plus pratique pour nos tests\n",
    "#max_features=33 vient d'un GridSearchCV avec max_features, n_estimators et max_leaf_nodes (trop long de refaire les 3)\n",
    "#oob_score=True permet d'afficher certains résultats ensuite\n",
    "grid_random_forest.fit(X_train_vec, y_train_vec)\n",
    "\n",
    "end = time.time()\n",
    "print(end - start)\n",
    "\n",
    "print(f\"les meilleurs paramètres sont : {grid_random_forest.best_params_} avec un score de {grid_random_forest.best_score_}\")\n",
    "#permet de bloquer les NOMBREUX warnings avec oob_score\n",
    "import warnings\n",
    "warnings.filterwarnings('ignore')\n",
    "warnings.warn('DelftStack')\n",
    "warnings.warn('Do not show this message')\n",
    "\n",
    "#67.20339608192444\n",
    "#les meilleurs paramètres sont : {'max_leaf_nodes': 17, 'n_estimators': 3} avec un score de 0.005917159763313609"
   ]
  },
  {
   "cell_type": "markdown",
   "id": "1619db52-f4e7-4074-bfd4-01a83fd75047",
   "metadata": {},
   "source": [
    "## SGDClassifier\n",
    "Linear SVM OU logistic regression  : https://michael-fuchs-python.netlify.app/2019/11/11/introduction-to-sgd-classifier/"
   ]
  },
  {
   "cell_type": "code",
   "execution_count": 93,
   "id": "d61a367c-6c21-4592-a7e0-1de38a529cf4",
   "metadata": {},
   "outputs": [],
   "source": [
    "from sklearn.linear_model import SGDClassifier"
   ]
  },
  {
   "cell_type": "code",
   "execution_count": 94,
   "id": "e19f2210-4d4a-402b-b07b-1eca62a58a48",
   "metadata": {},
   "outputs": [
    {
     "name": "stdout",
     "output_type": "stream",
     "text": [
      "247.38291120529175\n",
      "les meilleurs paramètres sont : {'alpha': 0.001, 'loss': 'hinge', 'penalty': 'l2'} avec un score de 0.8209411764705884\n"
     ]
    }
   ],
   "source": [
    "start = time.time()\n",
    "params = {\n",
    "    \"loss\" : [\"hinge\", \"log\", \"squared_hinge\", \"modified_huber\", \"perceptron\"],\n",
    "    \"alpha\" : [0.0001, 0.001, 0.01, 0.1],\n",
    "    \"penalty\" : [\"l2\", \"l1\", \"elasticnet\", \"none\"],\n",
    "}\n",
    "\n",
    "clf = SGDClassifier(max_iter=1000)\n",
    "grid_sgd_classifier= GridSearchCV(clf, param_grid=params, cv=10)\n",
    "\n",
    "\n",
    "grid_sgd_classifier.fit(X_train_vec, y_train_vec.argmax(axis=1))\n",
    "\n",
    "end = time.time()\n",
    "print(end - start)\n",
    "\n",
    "print(f\"les meilleurs paramètres sont : {grid_sgd_classifier.best_params_} avec un score de {grid_sgd_classifier.best_score_}\")\n",
    "\n",
    "import warnings\n",
    "warnings.filterwarnings('ignore')\n",
    "warnings.warn('DelftStack')\n",
    "warnings.warn('Do not show this message')\n",
    "\n",
    "#264.8882083892822\n",
    "#les meilleurs paramètres sont : {'alpha': 0.001, 'loss': 'hinge', 'penalty': 'l2'} avec un score de 0.8267450980392157"
   ]
  },
  {
   "cell_type": "code",
   "execution_count": null,
   "id": "45136af3-d0d5-4f9c-9996-fa9ae9520461",
   "metadata": {},
   "outputs": [],
   "source": []
  },
  {
   "cell_type": "code",
   "execution_count": 97,
   "id": "ed9f0258-ac56-4cb2-8b0d-0655e09d9ded",
   "metadata": {},
   "outputs": [],
   "source": [
    "model_sgd = grid_sgd_classifier.best_estimator_"
   ]
  },
  {
   "cell_type": "code",
   "execution_count": null,
   "id": "f5cdd48c-d5cb-449f-bc4e-c8f3951bd008",
   "metadata": {},
   "outputs": [],
   "source": [
    "#clf = SGDClassifier(loss=\"log\", penalty=\"l2\")\n",
    "#clf = SGDClassifier(loss=\"hinge\", penalty=\"l2\")\n",
    "#clf.fit(X_train_vec, y_train_vec.argmax(axis=1))"
   ]
  },
  {
   "cell_type": "code",
   "execution_count": null,
   "id": "2df68777-a372-4825-a9c7-1ec6533387a3",
   "metadata": {},
   "outputs": [],
   "source": [
    "#print('Accuracy: {:.2f}'.format(accuracy_score(y_test_vec.argmax(axis=1), clf.predict(X_test_vec))))\n",
    "\n",
    "#print(f\"y_test_vec: \\n{y_test_vec.argmax(axis=1)} au format {y_test_vec.argmax(axis=1).shape}\")\n",
    "#print(f\"\\nX_test_vec: \\n{X_test_vec} au format {X_test_vec.shape}\")\n",
    "#clf.predict(X_train_vec)#.argmax(axis=1)\n",
    "\n",
    "\n",
    "#ac = accuracy_score(y_train_vec.argmax(axis=1), clf.predict(X_train_vec))\n",
    "#print(f\"accuracy score : {ac}\")"
   ]
  },
  {
   "cell_type": "code",
   "execution_count": null,
   "id": "4e339246-b67a-444b-9475-4cd378e3d3a7",
   "metadata": {},
   "outputs": [],
   "source": []
  },
  {
   "cell_type": "markdown",
   "id": "cb083041-15c5-4a9d-8fc0-89cb96713837",
   "metadata": {
    "tags": []
   },
   "source": [
    "# Evaluation du modele\n",
    "- matrice de confusion\n",
    "- oob_score\n",
    "- accuracy"
   ]
  },
  {
   "cell_type": "markdown",
   "id": "c8dc2ddb-a1da-4207-957b-82c7fdc14219",
   "metadata": {
    "jp-MarkdownHeadingCollapsed": true,
    "tags": []
   },
   "source": [
    "## Random Forest"
   ]
  },
  {
   "cell_type": "code",
   "execution_count": 23,
   "id": "dda40e60-2a75-4bbd-83a6-affedc72c553",
   "metadata": {},
   "outputs": [
    {
     "name": "stdout",
     "output_type": "stream",
     "text": [
      "Matrice de confusion sur les predictions de données d'entrainement\n"
     ]
    },
    {
     "data": {
      "text/plain": [
       "<sklearn.metrics._plot.confusion_matrix.ConfusionMatrixDisplay at 0x13b251b76d0>"
      ]
     },
     "execution_count": 23,
     "metadata": {},
     "output_type": "execute_result"
    },
    {
     "data": {
      "image/png": "[encoded data removed]",
      "text/plain": [
       "<Figure size 432x288 with 2 Axes>"
      ]
     },
     "metadata": {
      "needs_background": "light"
     },
     "output_type": "display_data"
    }
   ],
   "source": [
    "from sklearn.metrics import ConfusionMatrixDisplay\n",
    "\n",
    "print(\"Matrice de confusion sur les predictions de données d'entrainement\")\n",
    "ConfusionMatrixDisplay.from_predictions(y_train_vec.argmax(axis=1), grid_random_forest.predict(X_train_vec).argmax(axis=1))"
   ]
  },
  {
   "cell_type": "code",
   "execution_count": 24,
   "id": "e3cb8610-4238-4c26-98dd-13936298a341",
   "metadata": {},
   "outputs": [
    {
     "name": "stdout",
     "output_type": "stream",
     "text": [
      "Matrice de confusion sur les predictions de données d'entrainement\n"
     ]
    },
    {
     "data": {
      "text/plain": [
       "<sklearn.metrics._plot.confusion_matrix.ConfusionMatrixDisplay at 0x13b27435700>"
      ]
     },
     "execution_count": 24,
     "metadata": {},
     "output_type": "execute_result"
    },
    {
     "data": {
      "image/png": "[encoded data removed]",
      "text/plain": [
       "<Figure size 432x288 with 2 Axes>"
      ]
     },
     "metadata": {
      "needs_background": "light"
     },
     "output_type": "display_data"
    }
   ],
   "source": [
    "from sklearn.metrics import ConfusionMatrixDisplay\n",
    "print(\"Matrice de confusion sur les predictions de données d'entrainement\")\n",
    "ConfusionMatrixDisplay.from_predictions(y_test_vec.argmax(axis=1), grid_random_forest.predict(X_test_vec).argmax(axis=1))"
   ]
  },
  {
   "cell_type": "code",
   "execution_count": null,
   "id": "065c2e68-5e04-411a-9af5-e1ee7dd079d3",
   "metadata": {},
   "outputs": [],
   "source": []
  },
  {
   "cell_type": "markdown",
   "id": "85b3d5fd-dbdb-426b-a4c2-29ebd32fd602",
   "metadata": {
    "tags": []
   },
   "source": [
    "## SGDClassifier"
   ]
  },
  {
   "cell_type": "code",
   "execution_count": 98,
   "id": "bf0bbe0d-60fe-4045-bb14-e9a02a6c8b68",
   "metadata": {},
   "outputs": [
    {
     "name": "stdout",
     "output_type": "stream",
     "text": [
      "Matrice de confusion sur les predictions de données d'entrainement\n"
     ]
    },
    {
     "data": {
      "text/plain": [
       "<sklearn.metrics._plot.confusion_matrix.ConfusionMatrixDisplay at 0x13b2d455e20>"
      ]
     },
     "execution_count": 98,
     "metadata": {},
     "output_type": "execute_result"
    },
    {
     "data": {
      "image/png": "[encoded data removed]",
      "text/plain": [
       "<Figure size 432x288 with 2 Axes>"
      ]
     },
     "metadata": {
      "needs_background": "light"
     },
     "output_type": "display_data"
    }
   ],
   "source": [
    "print(\"Matrice de confusion sur les predictions de données d'entrainement\")\n",
    "ConfusionMatrixDisplay.from_predictions(y_train_vec.argmax(axis=1), model_sgd.predict(X_train_vec))\n",
    "#print(model_sgd.score(X_test_vec, y_test_vec.argmax(axis=1)))"
   ]
  },
  {
   "cell_type": "code",
   "execution_count": null,
   "id": "453a0820-108a-48d9-8d79-51d2891bf190",
   "metadata": {},
   "outputs": [],
   "source": []
  },
  {
   "cell_type": "code",
   "execution_count": 99,
   "id": "7ab5ddcc-6cba-4db0-adfd-85f957c562d7",
   "metadata": {},
   "outputs": [
    {
     "name": "stdout",
     "output_type": "stream",
     "text": [
      "Matrice de confusion sur les predictions de données d'entrainement\n"
     ]
    },
    {
     "data": {
      "text/plain": [
       "<sklearn.metrics._plot.confusion_matrix.ConfusionMatrixDisplay at 0x13b2e928220>"
      ]
     },
     "execution_count": 99,
     "metadata": {},
     "output_type": "execute_result"
    },
    {
     "data": {
      "image/png": "[encoded data removed]",
      "text/plain": [
       "<Figure size 432x288 with 2 Axes>"
      ]
     },
     "metadata": {
      "needs_background": "light"
     },
     "output_type": "display_data"
    }
   ],
   "source": [
    "print(\"Matrice de confusion sur les predictions de données d'entrainement\")\n",
    "ConfusionMatrixDisplay.from_predictions(y_test_vec.argmax(axis=1), model_sgd.predict(X_test_vec))"
   ]
  },
  {
   "cell_type": "markdown",
   "id": "9de39d64-4c94-41bd-baa7-390e2b8e40f7",
   "metadata": {
    "tags": []
   },
   "source": [
    "# Predict\n",
    "- prend en entrée une phrase et le modèle entrainé\n",
    "- met en sortie la réponse prédite (utilisation des dictionnaires crée au début)\n",
    "- Prend en compte la proba de prédiction et propose une reformulation ou les tag les plus proches si proba < à un certain seuil"
   ]
  },
  {
   "cell_type": "markdown",
   "id": "7c66a299-e2c2-47e5-8e02-a905b3935795",
   "metadata": {
    "jp-MarkdownHeadingCollapsed": true,
    "tags": []
   },
   "source": [
    "## exemple jeu de données iris"
   ]
  },
  {
   "cell_type": "code",
   "execution_count": 20,
   "id": "7efc1fc4-711b-42b3-8c66-5ba05521bfd6",
   "metadata": {},
   "outputs": [
    {
     "data": {
      "text/plain": [
       "KNeighborsClassifier()"
      ]
     },
     "execution_count": 20,
     "metadata": {},
     "output_type": "execute_result"
    }
   ],
   "source": [
    "import numpy as np\n",
    "from sklearn import datasets\n",
    "from sklearn.neighbors import KNeighborsClassifier\n",
    "# Load the Iris dataset\n",
    "iris_X, iris_y = datasets.load_iris(return_X_y=True)\n",
    "# Split Iris dataset into train/test sets randomly\n",
    "np.random.seed(0)\n",
    "indices = np.random.permutation(len(iris_X))\n",
    "iris_X_train = iris_X[indices[:-10]]\n",
    "iris_y_train = iris_y[indices[:-10]]\n",
    "iris_X_test = iris_X[indices[-10:]]\n",
    "iris_y_test = iris_y[indices[-10:]]\n",
    "# Instantiate and fit a KNeighbors classifier\n",
    "knn = KNeighborsClassifier()\n",
    "knn.fit(iris_X_train, iris_y_train)"
   ]
  },
  {
   "cell_type": "code",
   "execution_count": 21,
   "id": "34aff153-c60d-41c2-aec9-a6aaf2fd09dc",
   "metadata": {},
   "outputs": [
    {
     "name": "stdout",
     "output_type": "stream",
     "text": [
      "10\n",
      "[1 2 1 0 0 0 2 1 2 0]\n"
     ]
    }
   ],
   "source": [
    "predictions = knn.predict(iris_X_test)\n",
    "print(len(iris_X_test))\n",
    "print(predictions)"
   ]
  },
  {
   "cell_type": "code",
   "execution_count": 22,
   "id": "3baedfa0-4548-46f8-88f3-8d723d22358a",
   "metadata": {},
   "outputs": [
    {
     "name": "stdout",
     "output_type": "stream",
     "text": [
      "[[0.  1.  0. ]\n",
      " [0.  0.4 0.6]\n",
      " [0.  1.  0. ]\n",
      " [1.  0.  0. ]\n",
      " [1.  0.  0. ]\n",
      " [1.  0.  0. ]\n",
      " [0.  0.  1. ]\n",
      " [0.  1.  0. ]\n",
      " [0.  0.  1. ]\n",
      " [1.  0.  0. ]]\n"
     ]
    }
   ],
   "source": [
    "proba = knn.predict_proba(iris_X_test)\n",
    "print(proba)"
   ]
  },
  {
   "cell_type": "code",
   "execution_count": null,
   "id": "f150c923-7644-49d8-aa79-93610b7c7411",
   "metadata": {},
   "outputs": [],
   "source": []
  },
  {
   "cell_type": "markdown",
   "id": "a7199937-b5ec-4e67-990b-03212eb19bba",
   "metadata": {
    "tags": []
   },
   "source": [
    "## fonction prediction classification phrase"
   ]
  },
  {
   "cell_type": "code",
   "execution_count": 289,
   "id": "b9cca0c3-b371-4557-8dd1-891405059565",
   "metadata": {},
   "outputs": [],
   "source": [
    "#dico_tag_responses"
   ]
  },
  {
   "cell_type": "code",
   "execution_count": 236,
   "id": "3a778284-b871-449f-b68f-bc4c7df3fe82",
   "metadata": {},
   "outputs": [
    {
     "name": "stdout",
     "output_type": "stream",
     "text": [
      "{0: 'Bourses', 1: 'Clubs_etudiants', 2: 'Handicap', 3: 'ISEN_logement', 4: 'ISEN_restauration', 5: 'Job_ISEN', 6: 'La vie à Brest', 7: 'Nombre_etudiants_alumni_etudiants', 8: 'SHN', 9: 'Taux_insertion', 10: 'Yncrea', 11: 'bienvenue', 12: 'campus_ouest', 13: 'certifications', 14: 'cursus_isen', 15: 'raison_isen', 16: 'tarif_BIAST', 17: 'tarif_BIOST', 18: 'tarif_CENT', 19: 'tarif_CGSI', 20: 'tarif_CIR', 21: 'tarif_EST', 22: 'tarif_cycle_ingenieur', 23: 'visite_virtuelle_PO'}\n"
     ]
    }
   ],
   "source": [
    "print(dico_numero_tag)"
   ]
  },
  {
   "cell_type": "code",
   "execution_count": 291,
   "id": "14733d08-eaf5-4478-928d-deadf089e2c7",
   "metadata": {},
   "outputs": [
    {
     "data": {
      "text/plain": [
       "{0: 'bienvenue',\n",
       " 12: 'raison_isen',\n",
       " 6: 'cursus_isen',\n",
       " 3: 'campus_ouest',\n",
       " 4: 'certifications',\n",
       " 21: 'Taux_insertion',\n",
       " 24: 'Yncrea',\n",
       " 11: 'Nombre_etudiants_alumni_etudiants',\n",
       " 17: 'tarif_CGSI',\n",
       " 18: 'tarif_CIR',\n",
       " 15: 'tarif_BIOST',\n",
       " 16: 'tarif_CENT',\n",
       " 20: 'tarif_EST',\n",
       " 14: 'tarif_BIAST',\n",
       " 19: 'tarif_cycle_ingenieur',\n",
       " 1: 'Bourses',\n",
       " 13: 'SHN',\n",
       " 8: 'ISEN_logement',\n",
       " 9: 'ISEN_restauration',\n",
       " 23: 'visite_virtuelle_PO',\n",
       " 7: 'Handicap',\n",
       " 5: 'Clubs_etudiants',\n",
       " 2: 'La vie à Brest'}"
      ]
     },
     "execution_count": 291,
     "metadata": {},
     "output_type": "execute_result"
    }
   ],
   "source": [
    "num_tag"
   ]
  },
  {
   "cell_type": "code",
   "execution_count": 113,
   "id": "b2a1db3c-0881-48a1-b1fa-13d90cea23c7",
   "metadata": {},
   "outputs": [
    {
     "name": "stdout",
     "output_type": "stream",
     "text": [
      "Puis-je visiter l'isen?\n",
      "après extraction_data_X_y Puis je visiter l isen \n",
      "après nettoyage [['puis', 'visit', 'isen']]\n",
      "après collage ['puis visit isen']\n",
      "après vectorizer [[0 0 0 0 0 0 0 0 0 0 0 0 0 0 0 0 0 0 0 0 0 0 0 0 0 0 0 0 0 0 0 0 0 0 0 0\n",
      "  0 0 0 0 0 0 0 0 0 0 0 0 0 0 0 0 0 0 0 0 0 0 0 0 0 0 0 0 0 0 0 0 0 0 0 0\n",
      "  0 0 0 0 0 0 0 0 0 0 0 0 0 0 0 0 0 0 0 0 0 0 0 0 0 0 0 0 0 0 0 0 0 0 0 0\n",
      "  0 0 0 0 0 0 0 0 0 0 0 0 0 0 0 0 0 0 0 0 0 0 0 0 0 0 0 0 0 0 0 0 0 0 0 0\n",
      "  0 0 0 0 0 0 0 0 0 0 0 0 0 0 0 0 0 0 0 0 0 0 0 0 0 0 0 0 0 0 0 0 0 0 0 0\n",
      "  0 0 1 0 0 0 0 0 0 0 0 0 0 0 0 0 0 0 0 0 0 0 0 0 0 0 0 0 0 0 0 0 0 0 0 0\n",
      "  0 0 0 0 0 0 0 0 0 0 0 0 0 0 0 0 0 0 0 0 0 0 0 0 0 0 0 0 0 0 0 0 0 0 0 0\n",
      "  0 0 0 0 0 0 0 0 0 0 0 0 0 0 0 1 0 0 0 0 0 0 0 0 0 0 0 0 0 0 0 0 0 0 0 0\n",
      "  0 0 0 0 0 0 0 0 0 0 0 0 0 0 0 0 0 0 0 0 0 0 0 0 0 0 0 0 0 0 0 0 0 0 0 0\n",
      "  0 0 0 0 0 0 0 0 0 0 0 0 0 0 0 0 0 0 0 1 0 0 0 0 0 0 0 0 0 0 0 0 0 0 0 0\n",
      "  0 0]]\n",
      "ISEN_restauration [9]\n"
     ]
    },
    {
     "data": {
      "text/plain": [
       "['L’ISEN se trouve en bordure du principal campus étudiant de Brest. De fait, les services dédiés aux étudiants se trouvent à proximité, à 300 m de l’école, deux restaurants universitaires accueillent les étudiants, midi et soir. De plus, un foyer, géré par les étudiants, accueille les élèves le midi et le soir et propose des plats chauds.\\nPlus de renseignements sur le site du Crous Bretagne.']"
      ]
     },
     "execution_count": 113,
     "metadata": {},
     "output_type": "execute_result"
    }
   ],
   "source": [
    "def predict(phrase : str, trained_model, encodeurX, dic_num_tag, dico_tag_responses):\n",
    "    print(phrase)\n",
    "    \n",
    "    phrase = extraction_data_X_y(None, True, phrase) #enlever les -, les ' etc\n",
    "    print(f\"après extraction_data_X_y {phrase}\")\n",
    "    \n",
    "    phrase_clean = nettoyage([phrase])\n",
    "    print(f\"après nettoyage {phrase_clean}\")\n",
    "    \n",
    "    phrase_clean = collage(phrase_clean)\n",
    "    print(f\"après collage {phrase_clean}\")\n",
    "    \n",
    "    phrase_vec = vectorizer(phrase_clean, False, encodeurX)\n",
    "    print(f\"après vectorizer {phrase_vec}\")\n",
    "\n",
    "    \n",
    "    prediction = trained_model.predict(phrase_vec)#.argmax(axis=1)\n",
    "    \n",
    "    tag_predi = dic_num_tag[prediction[0]]\n",
    "    print(tag_predi,prediction)\n",
    "    reponse = dico_tag_responses[tag_predi]\n",
    "    #print(reponse)\n",
    "    \n",
    "    return reponse\n",
    "\n",
    "phrase_test = \"Puis-je visiter l'isen?\" #X_train[0]\n",
    "predict(phrase_test, grid_sgd_classifier, encodeur_X, num_tag, dico_tag_responses)"
   ]
  },
  {
   "cell_type": "code",
   "execution_count": 57,
   "id": "2d95c841-96df-43d9-8a0f-93152b6a4195",
   "metadata": {},
   "outputs": [
    {
     "data": {
      "text/plain": [
       "array([0, 0, 0, 0, 0, 0, 0, 0, 0, 0, 0, 0, 0, 0, 0, 0, 0, 0, 0, 0, 0, 0,\n",
       "       0, 0, 0, 0, 0, 0, 0, 0, 0, 0, 0, 0, 0, 0, 0, 0, 0, 0, 0, 0, 0, 0,\n",
       "       0, 0, 0, 0, 0, 0, 0, 0, 0, 0, 0, 0, 0, 0, 0, 0, 0, 0, 0, 0, 0, 0,\n",
       "       0, 0, 0, 0, 0, 0, 0, 0, 0, 0, 0, 0, 0, 0, 0, 0, 0, 0, 0, 0, 0, 0,\n",
       "       0, 0, 0, 0, 0, 0, 0, 0, 0, 0, 0, 0, 0, 0, 0, 0, 0, 0, 0, 0, 0, 0,\n",
       "       0, 0, 0, 0, 0, 0, 0, 0, 0, 0, 0, 0, 0, 0, 0, 0, 0, 0, 0, 0, 0, 0,\n",
       "       0, 0, 0, 0, 0, 0, 0, 0, 0, 0, 0, 0, 0, 0, 0, 0, 0, 0, 0, 0, 0, 0,\n",
       "       0, 0, 0, 0, 0, 0, 0, 0, 0, 0, 0, 0, 0, 0, 0, 0, 0, 0, 0, 0, 0, 0,\n",
       "       0, 0, 0, 0, 0, 0, 0, 0, 0, 0, 0, 0, 0, 0, 0, 0, 0, 0, 0, 0, 0, 0,\n",
       "       0, 0, 0, 0, 0, 0, 0, 0, 0, 0, 0, 0, 0, 0, 0, 0, 0, 0, 0, 0, 0, 0,\n",
       "       0, 0, 0, 0, 0, 0, 0, 0, 0, 0, 0, 0, 0, 0, 0, 0, 0, 0, 0, 0, 0, 0,\n",
       "       0, 0, 0, 0, 0, 0, 0, 0, 0, 0, 0, 0, 0, 0, 0, 0, 0, 0, 0, 0, 0, 0,\n",
       "       0, 0, 0, 0, 0, 0, 0, 0, 0, 0, 0, 0, 0, 0, 0, 0, 0, 0, 0, 0, 0, 0,\n",
       "       0, 0, 0, 0, 1, 0, 0, 0, 0, 0, 0, 0, 0, 0, 0, 0, 0, 0, 0, 0, 0, 0,\n",
       "       0, 0, 0, 0, 0, 0, 0, 0, 0, 0, 0, 0, 0, 0, 0, 0, 0, 0, 0, 0, 0, 0,\n",
       "       0, 0, 0, 0, 0, 0, 0, 0, 0, 0, 0, 0, 0, 0, 0, 0, 0, 0, 0, 0, 0, 0,\n",
       "       0, 0, 0, 0, 0, 0, 0], dtype=int64)"
      ]
     },
     "execution_count": 57,
     "metadata": {},
     "output_type": "execute_result"
    }
   ],
   "source": [
    "#np.argwhere(X_train_vec[0]==1)\n",
    "X_train_vec[0]"
   ]
  },
  {
   "cell_type": "markdown",
   "id": "f1856d6c-456f-4a95-91c4-98f3f5ae07d6",
   "metadata": {},
   "source": [
    "---\n",
    "**erreurs de dictionnaire de classification :** \n",
    "- \"tag testé\" : résultat\n",
    "\n",
    "\n",
    "\n",
    "\n",
    "- \"ISEN_logement\" : SHN (13) (mauvaise classification)\n",
    "- \"bienvenue\" : bienvenue [0]\n",
    "- \"raison_isen\" : raison_isen [12]\n",
    "- \"campus_ouest\" : campus_ouest [3]\n",
    "- \"certifications\" : certifications [4]\n",
    "- \"Taux_insertion\" : Taux_insertion [21]\n",
    "- \"Yncrea\" : Yncrea [24]\n",
    "- \"Nombre_etudiants_alumni_etudiants\" : Nombre_etudiants_alumni_etudiants [11]\n",
    "- \"tarif_CGSI\" : tarif_CGSI [17]\n",
    "- \"tarif_CIR\" : tarif_CIR [18]\n",
    "- Tous les autres tarifs des prepa bonne classification\n",
    "- \"tarif_cycle_ingenieur\" : tarif_BIAST [14] (mauvaise classification)\n",
    "- \"Bourses\" : tarif_cycle_ingenieur [19] (mauvaise classification)\n",
    "- \"SHN\" : Bourses [1] (mauvaise classification)\n",
    "- \"ISEN_logement\" : SHN [13] (mauvaise classification)\n",
    "- \"ISEN_restauration\" : ISEN_logement [8] (mauvaise classification)\n",
    "- \"visite_virtuelle_PO\" : ISEN_restauration [9] (mauvaise classification)\n",
    "- \"Handicap\" : visite_virtuelle_PO [23] (mauvaise classification)\n",
    "- \"Clubs_etudiants\" : Handicap [7] (mauvaise classification)\n",
    "- \"La vie à Brest\" : Clubs_etudiants [5] (mauvaise classification)\n",
    "- \"Job_ISEN\" : La vie à Brest [2] (mauvaise classification)"
   ]
  },
  {
   "cell_type": "code",
   "execution_count": null,
   "id": "f8cc220f-ead4-42c0-a791-7402ef609b45",
   "metadata": {},
   "outputs": [],
   "source": []
  },
  {
   "cell_type": "code",
   "execution_count": null,
   "id": "3b8cedae-36c7-45dd-9385-cf4eee2cfdc1",
   "metadata": {},
   "outputs": [],
   "source": []
  },
  {
   "cell_type": "code",
   "execution_count": null,
   "id": "65af8b34-1666-4485-ba96-1574a405b310",
   "metadata": {},
   "outputs": [],
   "source": []
  },
  {
   "cell_type": "code",
   "execution_count": null,
   "id": "1d39f81c-00e4-4c91-9073-ae59db1fc35a",
   "metadata": {},
   "outputs": [],
   "source": []
  },
  {
   "cell_type": "code",
   "execution_count": null,
   "id": "d39557bb-a17a-4d33-88ac-18ed7f3ea52c",
   "metadata": {},
   "outputs": [],
   "source": []
  },
  {
   "cell_type": "code",
   "execution_count": 349,
   "id": "bdd7451c-bbcf-4cf8-9c05-27a1e6c6772d",
   "metadata": {},
   "outputs": [],
   "source": [
    "phrase_illona = \"résidence étudiante\""
   ]
  },
  {
   "cell_type": "code",
   "execution_count": 352,
   "id": "ff8931e1-f6a1-43d2-b154-2aa0866387fe",
   "metadata": {},
   "outputs": [
    {
     "name": "stdout",
     "output_type": "stream",
     "text": [
      "taille debut : 1\n",
      "taille finale: 1\n",
      "SHN [13]\n"
     ]
    },
    {
     "data": {
      "text/plain": [
       "['L’ISEN Yncréa Ouest est un « établissement d’accueil sport de haut niveau ».\\nCe label émis par le rectorat et la DRJSCS(Direction régionale de la jeunesse, des sports et de la cohésion sociale de Bretagne) reconnait et certifie l’ engagement et les actions menées pour l’ accueil des sportifs de haut niveau par le campus de Brest.\\nLes établissements labellisés garantissent un aménagement du parcours de formation des sportifs de haut niveau afin de leur permettre de mener à bien leur double projet scolaire et sportif.En ce qui concerne le sport de manière générale, chaque jeudi après - midi, les étudiants sont théoriquement libérés afin de pratiquer des activités sportives.\\nOrganisées par le Bureau des Sports de l’ école, de multiples équipes participent aux championnats universitaires en football, basket, hand, volley et rugby.']"
      ]
     },
     "execution_count": 352,
     "metadata": {},
     "output_type": "execute_result"
    }
   ],
   "source": [
    "predict(phrase_illona, grid_sgd_classifier, encodeur_X, num_tag, dico_tag_responses)"
   ]
  },
  {
   "cell_type": "markdown",
   "id": "2424039a-622a-4a5b-aa2b-ca660043dc5d",
   "metadata": {
    "jp-MarkdownHeadingCollapsed": true,
    "tags": []
   },
   "source": [
    "# Sources"
   ]
  },
  {
   "cell_type": "markdown",
   "id": "f460cac7-9079-45ec-b706-a9c3cb54ebaf",
   "metadata": {},
   "source": [
    "- Voici la liste de tous les paramètres reglables du random forest : \n",
    "\n",
    "dict_keys(['bootstrap', 'ccp_alpha', 'class_weight', 'criterion', 'max_depth', 'max_features', 'max_leaf_nodes', 'max_samples', 'min_impurity_decrease', 'min_samples_leaf', 'min_samples_split', 'min_weight_fraction_leaf', 'n_estimators', 'n_jobs', 'oob_score', 'random_state', 'verbose', 'warm_start']) \n",
    "\n",
    "Pour plus d'infos, allez voir ces sites :\n",
    "https://ichi.pro/fr/guide-du-debutant-sur-le-reglage-des-hyperparametres-de-foret-aleatoire-77596161963319\n",
    "https://intellipaat.com/community/9495/how-do-i-solve-overfitting-in-random-forest-of-python-sklearn\n",
    "https://www.youtube.com/watch?v=-3UBmIXGHyc&t=651s&ab_channel=AIforyou-MorganGautherot\n",
    "\n",
    "Machine learnia avec les types d'encoder (onehotencoder etc...)"
   ]
  },
  {
   "cell_type": "code",
   "execution_count": null,
   "id": "a05efeb9-9448-4af7-b6e6-d83001d5e075",
   "metadata": {},
   "outputs": [],
   "source": []
  }
 ],
 "metadata": {
  "kernelspec": {
   "display_name": "Python 3 (ipykernel)",
   "language": "python",
   "name": "python3"
  },
  "language_info": {
   "codemirror_mode": {
    "name": "ipython",
    "version": 3
   },
   "file_extension": ".py",
   "mimetype": "text/x-python",
   "name": "python",
   "nbconvert_exporter": "python",
   "pygments_lexer": "ipython3",
   "version": "3.8.12"
  }
 },
 "nbformat": 4,
 "nbformat_minor": 5
}
